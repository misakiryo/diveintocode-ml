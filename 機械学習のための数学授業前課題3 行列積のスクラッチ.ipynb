{
 "cells": [
  {
   "cell_type": "markdown",
   "metadata": {},
   "source": [
    "【問題1】行列積を手計算する\n",
    "\n",
    "AとBの行列積を手計算で解いてください。\n",
    "計算過程もマークダウンテキストを用いて説明してください。"
   ]
  },
  {
   "cell_type": "code",
   "execution_count": 1,
   "metadata": {
    "scrolled": true
   },
   "outputs": [
    {
     "name": "stdout",
     "output_type": "stream",
     "text": [
      "[[-1  2  3]\n",
      " [ 4 -5  6]\n",
      " [ 7  8 -9]]\n",
      "[[ 0  2  1]\n",
      " [ 0  2 -8]\n",
      " [ 2  9 -1]]\n"
     ]
    }
   ],
   "source": [
    "import numpy as np\n",
    "a_ndarray = np.array([[-1, 2, 3], [4, -5, 6], [7, 8, -9]])\n",
    "b_ndarray = np.array([[0, 2, 1], [0, 2, -8], [2, 9, -1]])\n",
    "print(a_ndarray)\n",
    "print(b_ndarray)"
   ]
  },
  {
   "cell_type": "markdown",
   "metadata": {},
   "source": [
    "a_ndarray * b_ndarray\n",
    "\n",
    "[[-1 　　 2 　　3] 　　  　　  [[ 0　  　2  　　1]\n",
    "\n",
    " [ 4　　 -5 　 　6]  　　❌ 　 [ 0　  　2 　　-8]\n",
    " \n",
    " [ 7　 　 8　　-9]]  　　　 　 [ 2 　 　9　　 -1]]\n",
    "\n",
    "\n",
    "\n",
    " \n",
    "\n",
    " \n",
    "\n",
    " \n",
    "\n",
    "\n",
    "1行1列目(-1×0) + (2×0) + (3×2), 1行2列目(-1×2) + (2×2) + (3×9),  1行3列目(-1×1)+ (2×-8) + (3×-1)\n",
    "\n",
    "2行1列目(4×0) + (-5×0) + (6×2), 2行2列目(4×2) + (-5×2) + (6×9), 2行3列目(4×1)+ (-5×-8) + (6×-1)\n",
    "\n",
    "3行1列目(7×0) + (8×0) + (-9×2), 3行2列目(7×2) + (8×2) + (-9×9), 3行3列目(7×1)+ (8×-8) + (-9×-1)\n",
    "\n",
    "\n",
    "\n",
    "0+0+6, -2+4+27, -1+(-16)+(-3)\n",
    "\n",
    "0+0+12, 8+(-10)+54, 4+40+(-6)\n",
    "\n",
    "0+0+(-18), 14+16+(-81), 7+(-64)+9\n",
    "\n",
    "\n",
    "（答え）\n",
    "\n",
    "[[6, 29, -20]\n",
    "\n",
    "[12, 52, 38]\n",
    "\n",
    "[-18, -51, -48]]"
   ]
  },
  {
   "cell_type": "markdown",
   "metadata": {},
   "source": [
    "【問題2】NumPyの関数による計算\n",
    "\n",
    "この行列積はNumPyのnp.matmul()やnp.dot()、または@演算子を使うことで簡単に計算できます。\n",
    "\n",
    "\n",
    "これらを使い行列積を計算してください。\n",
    "\n",
    "《3種類の違い》\n",
    "\n",
    "np.matmul()とnp.dot()は3次元以上の配列で挙動が変わります。@演算子はnp.matmul()と同じ働きをします。\n",
    "\n",
    "\n",
    "今回のような2次元配列の行列積ではnp.matmul()や@演算子が公式に推奨されています。以下はnp.dot()の説明からの引用です。\n",
    "\n"
   ]
  },
  {
   "cell_type": "code",
   "execution_count": 2,
   "metadata": {},
   "outputs": [
    {
     "data": {
      "text/plain": [
       "array([[  6,  29, -20],\n",
       "       [ 12,  52,  38],\n",
       "       [-18, -51, -48]])"
      ]
     },
     "execution_count": 2,
     "metadata": {},
     "output_type": "execute_result"
    }
   ],
   "source": [
    "#np.matmul()を利用して計算\n",
    "np.matmul(a_ndarray, b_ndarray)"
   ]
  },
  {
   "cell_type": "code",
   "execution_count": 3,
   "metadata": {
    "scrolled": true
   },
   "outputs": [
    {
     "data": {
      "text/plain": [
       "array([[  6,  29, -20],\n",
       "       [ 12,  52,  38],\n",
       "       [-18, -51, -48]])"
      ]
     },
     "execution_count": 3,
     "metadata": {},
     "output_type": "execute_result"
    }
   ],
   "source": [
    "#np.dot()を利用して計算\n",
    "np.dot(a_ndarray, b_ndarray)"
   ]
  },
  {
   "cell_type": "code",
   "execution_count": 4,
   "metadata": {},
   "outputs": [
    {
     "name": "stdout",
     "output_type": "stream",
     "text": [
      "[[  6  29 -20]\n",
      " [ 12  52  38]\n",
      " [-18 -51 -48]]\n"
     ]
    }
   ],
   "source": [
    "#@演算子を利用して計算\n",
    "print(a_ndarray @ b_ndarray)"
   ]
  },
  {
   "cell_type": "markdown",
   "metadata": {},
   "source": [
    "【問題3】ある要素の計算を実装\n",
    "\n",
    "手計算をする際はまず行列Aの0行目と行列Bの0列目に注目し、以下の計算を行ったかと思います。\n",
    "\n",
    "\n",
    "1.行列Aの(0,0)の要素 $a_{0, 0}$ と行列Bの(0,0)の要素 $b_{0, 0}$ を掛け合わせる\n",
    "\n",
    "2.行列Aの(0,1)の要素 $a_{0, 1}$ と行列Bの(1,0)の要素 $b_{1, 0}$ を掛け合わせる\n",
    "\n",
    "3.行列Aの(0,2)の要素 $a_{0, 2}$ と行列Bの(2,0)の要素 $b_{2, 0}$ を掛け合わせる\n",
    "\n",
    "4.それらの値を全て足し合わせる\n",
    "\n",
    "数式で表すと\n",
    "\n",
    "\n",
    "\\[\\sum^{2}_{k=0}a_{0,k}b_{k,0}\\]\n",
    "です。\n",
    "\n",
    "\n",
    "この計算をnp.matmul()やnp.dot()、または@演算子を使わずに行うコードを書いてください。"
   ]
  },
  {
   "cell_type": "code",
   "execution_count": 75,
   "metadata": {},
   "outputs": [
    {
     "name": "stdout",
     "output_type": "stream",
     "text": [
      "[[  6  29 -20]\n",
      " [ 12  52  38]\n",
      " [-18 -51 -48]]\n"
     ]
    }
   ],
   "source": [
    "result_list = []\n",
    "for i in range(3):\n",
    "    lines_list = []\n",
    "    for j in range(3):\n",
    "        total = 0\n",
    "        for k in range(3):\n",
    "            total += a_ndarray[i][k] * b_ndarray[k][j]\n",
    "        lines_list.append(total)\n",
    "    result_list.append(lines_list)\n",
    "    result_ndarray = np.array(result_list)\n",
    "\n",
    "print(result_ndarray)"
   ]
  },
  {
   "cell_type": "markdown",
   "metadata": {},
   "source": [
    "【問題4】行列積を行う関数の作成\n",
    "\n",
    "問題3のコードを拡張し、行列積のスクラッチ実装を完成させてください。行列AとBを引数に受け取り、行列積を返す関数としてください。\n",
    "\n",
    "\n",
    "行列積を計算する場合は、問題3の計算を異なる行や列に対して繰り返していくことになります。\n",
    "\n",
    "\n",
    "計算結果である \n",
    "3\n",
    "×\n",
    "3\n",
    " の行列Cの各要素 \n",
    "c\n",
    "i\n",
    ",\n",
    "j\n",
    " は数式で表すと次のようになります。\n",
    "\n",
    "\n",
    "c\n",
    "i\n",
    ",\n",
    "j\n",
    "=\n",
    "2\n",
    "∑\n",
    "k\n",
    "=\n",
    "0\n",
    " \n",
    "a\n",
    "i\n",
    ",\n",
    "k\n",
    "b\n",
    "k\n",
    ",\n",
    "j\n",
    "\n",
    "for文を使い、ndarrayのインデックスを動かしていくことで、合計9つの要素が計算できます。インデックス \n",
    "i\n",
    " や \n",
    "j\n",
    " を1増やすと、次の行や列に移ることができます。\n",
    "\n"
   ]
  },
  {
   "cell_type": "code",
   "execution_count": 55,
   "metadata": {},
   "outputs": [
    {
     "data": {
      "text/plain": [
       "array([[  6,  29, -20],\n",
       "       [ 12,  52,  38],\n",
       "       [-18, -51, -48]])"
      ]
     },
     "execution_count": 55,
     "metadata": {},
     "output_type": "execute_result"
    }
   ],
   "source": [
    "#力業！よく分からず作ってみたもの\n",
    "\n",
    "def total_method(sum_1 = 0, sum_2 =0, sum_3 =0, sum_4 = 0, sum_5 = 0, sum_6 = 0\n",
    "                              , sum_7 = 0, sum_8 = 0, sum_9 = 0, k = 0, ii = 3):\n",
    "    \n",
    "    for i in range(ii):\n",
    "        sum_1 += a_ndarray[k,i]*b_ndarray[i,k]\n",
    "        sum_2 += a_ndarray[k,i]*b_ndarray[i,k+1]\n",
    "        sum_3 += a_ndarray[k,i]*b_ndarray[i,k+2]\n",
    "        sum_4 += a_ndarray[k+1,i]*b_ndarray[i,k]\n",
    "        sum_5 += a_ndarray[k+1,i]*b_ndarray[i,k+1]\n",
    "        sum_6 += a_ndarray[k+1,i]*b_ndarray[i,k+2]\n",
    "        sum_7 += a_ndarray[k+2,i]*b_ndarray[i,k]\n",
    "        sum_8 += a_ndarray[k+2,i]*b_ndarray[i,k+1]\n",
    "        sum_9 += a_ndarray[k+2,i]*b_ndarray[i,k+2]\n",
    "        \n",
    "        total_list = [[sum_1, sum_2, sum_3], [sum_4, sum_5,\n",
    "                              sum_6], [sum_7, sum_8, sum_9]]\n",
    "        total_list_ndarray = np.array(total_list)\n",
    "        total_list_shape = total_list_ndarray.reshape(3,3)\n",
    "    return total_list_shape\n",
    "\n",
    "total_method()"
   ]
  },
  {
   "cell_type": "code",
   "execution_count": 67,
   "metadata": {},
   "outputs": [
    {
     "name": "stdout",
     "output_type": "stream",
     "text": [
      "[[  6  29 -20]\n",
      " [ 12  52  38]\n",
      " [-18 -51 -48]]\n"
     ]
    }
   ],
   "source": [
    "#人のを見ながら模写する\n",
    "\n",
    "def matrix_product(a, b):\n",
    "    result_list = [] #リストに格納された後、二次元化するため\n",
    "    for i in range(a.shape[0]):\n",
    "        lines_list = []\n",
    "        for j in range(b.shape[1]):\n",
    "            total = 0 #何故ここがtotalじゃないといけないのか？\n",
    "            for k in range(a.shape[1]):\n",
    "                total += a[i][k] * b[k][j]\n",
    "            lines_list.append(total)\n",
    "        result_list.append(lines_list)\n",
    "    result_list_ndarray = np.array(result_list)\n",
    "    \n",
    "    return result_list_ndarray\n",
    "\n",
    "result = matrix_product(a_ndarray, b_ndarray)\n",
    "print(result)"
   ]
  },
  {
   "cell_type": "code",
   "execution_count": 19,
   "metadata": {},
   "outputs": [],
   "source": [
    "d_ndarray = np.array([[-1, 2, 3], [4, -5, 6]])\n",
    "e_ndarray = np.array([[-9, 8, 7], [6, -5, 4]])"
   ]
  },
  {
   "cell_type": "markdown",
   "metadata": {},
   "source": [
    "【問題5】計算が定義されない入力を判定する\n",
    "\n",
    "問題4で作成した関数は、実装方法によってはこのDとEの配列を入力しても動いてしまう可能性があります。この場合、不適切な計算が行われることになります。また、途中でエラーになる場合でも、なぜエラーになったかが直接的には分かりづらいメッセージが表示されます。\n",
    "\n",
    "\n",
    "if文などによってこれを防ぎ、入力される形に問題があることをprint()を使い表示するコードを書き加えてください。"
   ]
  },
  {
   "cell_type": "code",
   "execution_count": 73,
   "metadata": {},
   "outputs": [
    {
     "name": "stdout",
     "output_type": "stream",
     "text": [
      "行列aの列数と行列bの行数が一致しないため、行列積を求めることができません\n"
     ]
    }
   ],
   "source": [
    "def matrix_product(a, b):\n",
    "    result_list = [] #リストに格納された後、二次元化するため\n",
    "    for i in range(a.shape[0]):\n",
    "        lines_list = [] #x行y列の積と和を終えた後、リストに格納するため\n",
    "        for j in range(b.shape[1]):\n",
    "            total = 0 #何故ここがtotalじゃないといけないのか？\n",
    "            for k in range(a.shape[0]):\n",
    "                total += a[i][k] * b[k][j]\n",
    "            lines_list.append(total)\n",
    "        result_list.append(lines_list)\n",
    "    result_list_ndarray = np.array(result_list)\n",
    "    \n",
    "    column = np.size(a, axis = 1)\n",
    "    line = np.size(b, axis = 0)\n",
    "    return result_list_ndarray, column, line\n",
    "\n",
    "result, column, line = matrix_product(d_ndarray, e_ndarray)\n",
    "\n",
    "if column == line:\n",
    "    print(resule)\n",
    "else:\n",
    "    print('行列aの列数と行列bの行数が一致しないため、行列積を求めることができません')"
   ]
  },
  {
   "cell_type": "markdown",
   "metadata": {},
   "source": [
    "【問題6】転置\n",
    "\n",
    "片方の行列を転置することで、行列積が計算できるようになります。\n",
    "\n",
    "np.transpose()や.Tアトリビュートを用いて転置し、行列積を計算してください。"
   ]
  },
  {
   "cell_type": "code",
   "execution_count": 72,
   "metadata": {},
   "outputs": [
    {
     "data": {
      "text/plain": [
       "array([[ 33, -28,   9],\n",
       "       [-48,  41,  -6],\n",
       "       [  9,  -6,  45]])"
      ]
     },
     "execution_count": 72,
     "metadata": {},
     "output_type": "execute_result"
    }
   ],
   "source": [
    "#        〜np.transpose()を利用した場合\n",
    "\n",
    "trans_d_ndarray = np.transpose(d_ndarray)\n",
    "np.matmul(trans_d_ndarray, e_ndarray)"
   ]
  },
  {
   "cell_type": "code",
   "execution_count": 71,
   "metadata": {},
   "outputs": [
    {
     "name": "stdout",
     "output_type": "stream",
     "text": [
      "[[ 33 -28   9]\n",
      " [-48  41  -6]\n",
      " [  9  -6  45]]\n"
     ]
    }
   ],
   "source": [
    "#        ~.Tアトリビュートを用いた場合~\n",
    "\n",
    "d_ndarray_T = d_ndarray.T\n",
    "print(d_ndarray_T @ e_ndarray)"
   ]
  },
  {
   "cell_type": "code",
   "execution_count": null,
   "metadata": {},
   "outputs": [],
   "source": []
  }
 ],
 "metadata": {
  "kernelspec": {
   "display_name": "Python 3",
   "language": "python",
   "name": "python3"
  },
  "language_info": {
   "codemirror_mode": {
    "name": "ipython",
    "version": 3
   },
   "file_extension": ".py",
   "mimetype": "text/x-python",
   "name": "python",
   "nbconvert_exporter": "python",
   "pygments_lexer": "ipython3",
   "version": "3.8.5"
  }
 },
 "nbformat": 4,
 "nbformat_minor": 4
}
