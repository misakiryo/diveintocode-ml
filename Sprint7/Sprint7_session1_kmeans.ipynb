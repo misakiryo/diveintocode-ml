{
 "cells": [
  {
   "cell_type": "markdown",
   "metadata": {},
   "source": [
    "- https://www.youtube.com/watch?v=8yptHd0JDlw　@youtube by ヨビノリ\n",
    "- https://www.youtube.com/watch?v=8KhT_TCmLSw @youtube by いまにゅのプログラミング塾\n",
    "\n",
    "最初この２つを見るのが理解としては早そう\n",
    "\n",
    "- https://www.youtube.com/watch?v=V4PN2tjEqA8 @youtube by ウマたん\n",
    "\n",
    "具体例等があまりないので、上２つを先に見たほうがまだ理解出来るかも。実質見なくてもいいとは思った。ウマたんはWebサイトの方がいいかも。\n",
    "\n",
    "- https://www.youtube.com/watch?v=mmGj9qcFKAM @youtube by AbleProgramming\n",
    "\n",
    "今回の課題とは関係ない(?)部分も多く、少し難しいかも\n",
    "\n",
    "- https://diveintocode.slack.com/files/U71KZN0HL/F01N1PXLG94/sprint7____________________________k-means___.pdf @slack by西尾さん\n",
    "\n",
    "- https://toukei-lab.com/k-means　@Webサイト byウマたん\n",
    "- https://toukei-lab.com/%e3%82%af%e3%83%a9%e3%82%b9%e3%82%bf%e3%83%bc%e5%88%86%e6%9e%90　@Webサイト byウマたん"
   ]
  },
  {
   "cell_type": "code",
   "execution_count": 3,
   "metadata": {},
   "outputs": [],
   "source": [
    "# import pandas as pd\n",
    "# import numpy as np\n",
    "# from sklearn.datasets import load_iris\n",
    "# from sklearn.cluster import KMeans\n",
    "# from sklearn.metrics import confusion_matrix\n",
    "# from sklearn.metrics import accuracy_score\n",
    "\n",
    "# iris = load_iris()\n",
    "# df = pd.DataFrame(iris.data, columns=iris.feature_names)\n",
    "# pred_cluster = KMeans(n_clusters=3).fit_predict(df)\n",
    "# confusion_matrix(iris.target,pred_cluster)\n",
    "# accuracy_score(iris.target,pred_cluster)"
   ]
  },
  {
   "cell_type": "markdown",
   "metadata": {},
   "source": [
    "## 1.このSprintについて\n",
    "\n",
    "### printの目的\n",
    "- スクラッチを通してK-meansを理解する\n",
    "- クラスタ分析を行う\n",
    "\n",
    "### どのように学ぶか\n",
    "スクラッチでK-meansを実装した後、それを使用しクラスタ分析を行います。\n",
    "\n",
    "\n",
    "\n",
    "## 2.K-meansスクラッチ\n",
    "\n",
    "K-meansのクラスをスクラッチで作成していきます。NumPyなど最低限のライブラリのみを使いアルゴリズムを実装していきます。\n",
    "\n",
    "\n",
    "以下に雛形を用意してあります。このScratchKMeansクラスにコードを書き加えていってください。\n",
    "\n",
    "\n",
    "**《雛形》**"
   ]
  },
  {
   "cell_type": "code",
   "execution_count": 34,
   "metadata": {},
   "outputs": [],
   "source": [
    "import numpy as np\n",
    "import matplotlib.pyplot as plt"
   ]
  },
  {
   "cell_type": "code",
   "execution_count": 175,
   "metadata": {},
   "outputs": [],
   "source": [
    "class ScratchKMeans():\n",
    "    \"\"\"\n",
    "    K-meansのスクラッチ実装\n",
    "    Parameters\n",
    "    ----------\n",
    "    n_clusters : int\n",
    "      クラスタ数\n",
    "    n_init : int\n",
    "      中心点の初期値を何回変えて計算するか\n",
    "    max_iter : int\n",
    "      1回の計算で最大何イテレーションするか\n",
    "    tol : float\n",
    "      イテレーションを終了する基準となる中心点と重心の許容誤差\n",
    "    verbose : bool\n",
    "      学習過程を出力する場合はTrue\n",
    "    \"\"\"\n",
    "    def __init__(self, n_clusters, n_init, max_iter, tol, verbose=False):\n",
    "        # ハイパーパラメータを属性として記録\n",
    "        self.n_clusters = 4\n",
    "        self.n_init = n_init\n",
    "        self.max_iter = max_iter\n",
    "        self.tol = tol\n",
    "        self.verbose = verbose\n",
    "        \n",
    "    def centring(self, X):\n",
    "        clusters = np.random.randint(0, self.n_clusters, X.shape[0])\n",
    "        centroids = np.array([X[clusters == n, :].mean(axis = 0) for n in range(self.n_clusters)])\n",
    "        return centroids\n",
    "\n",
    "\n",
    "    def fit(self, X):\n",
    "        \"\"\"\n",
    "        K-meansによるクラスタリングを計算\n",
    "        Parameters\n",
    "        ----------\n",
    "        X : 次の形のndarray, shape (n_samples, n_features)\n",
    "            訓練データの特徴量\n",
    "        \"\"\"\n",
    "        \n",
    "        \n",
    "        if self.verbose:\n",
    "            #verboseをTrueにした際は学習過程を出力\n",
    "            print()\n",
    "        pass\n",
    "    def predict(self, X):\n",
    "        \"\"\"\n",
    "        入力されたデータがどのクラスタに属するかを計算\n",
    "        \"\"\"\n",
    "        return"
   ]
  },
  {
   "cell_type": "markdown",
   "metadata": {},
   "source": [
    "### クラスタリングのための人工データセット\n",
    "クラスタリングを実験するための人工データセットを作成するコードを用意しています。\n",
    "\n",
    "\n",
    "このmake_blobs関数は正解ラベルも出力してますが、今回は使用しません。使用しないことを明示するために、 _（アンダースコア） で受け取っています。\n",
    "\n",
    "\n",
    "**《シンプルデータセット3》**"
   ]
  },
  {
   "cell_type": "code",
   "execution_count": 154,
   "metadata": {},
   "outputs": [],
   "source": [
    "from sklearn.datasets import make_blobs\n",
    "X, _ = make_blobs(n_samples=100, n_features=2, centers=4, cluster_std=0.5, shuffle=True, random_state=0)"
   ]
  },
  {
   "cell_type": "code",
   "execution_count": 37,
   "metadata": {
    "scrolled": true
   },
   "outputs": [
    {
     "name": "stdout",
     "output_type": "stream",
     "text": [
      "(100, 2)\n",
      "<class 'numpy.ndarray'>\n",
      "[[ 0.72086751  3.71347124]\n",
      " [-1.89468423  7.96898545]\n",
      " [ 1.35678894  4.36462484]\n",
      " [ 1.05374379  4.49286859]\n",
      " [ 1.59141542  4.90497725]\n",
      " [ 0.78260667  4.15263595]\n",
      " [-1.95751686  3.87291474]\n",
      " [-0.77354537  7.87923564]\n",
      " [ 0.12313498  5.27917503]\n",
      " [-1.43284669  7.71577043]\n",
      " [-0.92819001  7.02698199]\n",
      " [-1.74836345  7.06307447]\n",
      " [-1.26789718  7.25141327]\n",
      " [-0.98661744  7.74968685]\n",
      " [-0.81984047  7.50994722]\n",
      " [ 2.99684287  0.22378413]\n",
      " [ 1.46870582  1.86947425]\n",
      " [-0.33533163  3.390122  ]\n",
      " [-1.86407034  2.93379754]\n",
      " [ 2.62496786  0.28025075]\n",
      " [ 2.11114739  3.57660449]\n",
      " [-1.8219901   7.61654999]\n",
      " [-1.91186205  3.18750686]\n",
      " [ 2.28809874  0.12954182]\n",
      " [ 0.5285368   4.49723858]\n",
      " [-1.57613028  2.58614312]\n",
      " [-0.565433    3.65813966]\n",
      " [ 0.802314    4.38196181]\n",
      " [ 2.79939362  1.84560825]\n",
      " [ 2.64465731  0.80770124]\n",
      " [ 1.7190373   0.71788708]\n",
      " [-0.93564005  7.03443119]\n",
      " [ 2.14398059  0.69677319]\n",
      " [ 2.06051753  1.79059891]\n",
      " [-1.21986433  3.3789856 ]\n",
      " [ 1.13280393  3.87673946]\n",
      " [-1.497272    8.80022604]\n",
      " [ 1.85367905  1.5088862 ]\n",
      " [-0.1666378   8.50372399]\n",
      " [-1.89928142  2.50466299]\n",
      " [ 1.04829186  5.03092408]\n",
      " [-1.44356727  3.23539798]\n",
      " [-1.57006498  6.72375844]\n",
      " [-1.98331513  3.47639041]\n",
      " [-1.87418794  2.84306499]\n",
      " [-1.86097353  8.2576415 ]\n",
      " [ 1.61986895  0.60823883]\n",
      " [-1.84482705  3.25609891]\n",
      " [ 0.72144399  4.08475018]\n",
      " [ 0.5323772   3.31338909]\n",
      " [ 0.3498724   4.69253251]\n",
      " [ 1.89949126  0.92574633]\n",
      " [-1.2386086   2.81373288]\n",
      " [-1.74448079  3.84251413]\n",
      " [-0.96358605  2.37791651]\n",
      " [-1.26041884  7.46644456]\n",
      " [-0.8623605   8.24721209]\n",
      " [ 2.4198128   0.96215512]\n",
      " [ 2.23345072  1.25095024]\n",
      " [-0.65424088  7.99393132]\n",
      " [-1.42525273  7.14798437]\n",
      " [ 1.51989121  1.42488952]\n",
      " [ 2.11872357  1.09865834]\n",
      " [ 1.74265969  5.03846671]\n",
      " [ 1.42002502  1.38236201]\n",
      " [-0.69842598  8.16309188]\n",
      " [-2.18485772  2.68708996]\n",
      " [-1.32890066  2.37135151]\n",
      " [ 2.15940501  1.38598318]\n",
      " [ 1.19820169  4.47062449]\n",
      " [-1.7653772   8.17625727]\n",
      " [ 1.4726926   1.3480769 ]\n",
      " [ 0.92466065  4.50908658]\n",
      " [-1.47602203  7.8441996 ]\n",
      " [ 0.99914934  4.2101954 ]\n",
      " [ 1.40848818  3.93270482]\n",
      " [-0.59312453  3.37090459]\n",
      " [-1.6609057   3.31911046]\n",
      " [ 2.25643834  0.55525861]\n",
      " [ 1.24016835  1.12905479]\n",
      " [ 1.64869438  0.03452236]\n",
      " [-1.61803727  8.60696731]\n",
      " [-1.37778493  3.58107521]\n",
      " [ 0.16932115  4.19741719]\n",
      " [ 1.73810647  0.71629308]\n",
      " [-1.05327803  2.84037721]\n",
      " [ 1.60161834  0.92363636]\n",
      " [ 1.84845803  0.52393625]\n",
      " [ 1.72330962  4.2012082 ]\n",
      " [ 1.00952869  4.45502328]\n",
      " [ 0.96217896  4.51795326]\n",
      " [-1.33869125  2.36818187]\n",
      " [ 0.4519936   3.59377836]\n",
      " [-1.19075663  3.12161318]\n",
      " [-2.27253281  3.13757811]\n",
      " [-1.80044744  7.86154256]\n",
      " [-1.64996061  7.49068513]\n",
      " [-1.56102482  3.77455362]\n",
      " [-0.78782636  7.99482384]\n",
      " [-0.30022483  4.63059663]]\n"
     ]
    }
   ],
   "source": [
    "print(X.shape)\n",
    "print(type(X))\n",
    "print(X)"
   ]
  },
  {
   "cell_type": "code",
   "execution_count": 41,
   "metadata": {},
   "outputs": [
    {
     "data": {
      "image/png": "[encoded data removed]",
      "text/plain": [
       "<Figure size 720x720 with 1 Axes>"
      ]
     },
     "metadata": {
      "needs_background": "light"
     },
     "output_type": "display_data"
    }
   ],
   "source": [
    "def plot_dataset(X):\n",
    "    plt.plot(X[:, 0], X[:, 1], 'bo', ms =10)\n",
    "plt.figure(figsize=(10, 10))\n",
    "plot_dataset(X)\n",
    "plt.show()"
   ]
  },
  {
   "cell_type": "markdown",
   "metadata": {},
   "source": [
    "### 学習\n",
    "K-meansの学習に必要な要素を順番に作成していきます。"
   ]
  },
  {
   "cell_type": "markdown",
   "metadata": {},
   "source": [
    "## 【問題1】中心点の初期値を決める\n",
    "入力されたデータから $K$ 個の中心点 $μ_1$ から $μ_K$ の初期値を決めるコードを作成してください。$K$ は指定したクラスタ数です。\n",
    "\n",
    "最もシンプルな初期値の決定方法は、データ点 $X_n$ の中からランダムに $K$ 個選ぶことです。今回はこれを実装してください。\n",
    "\n",
    "K-meansの学習結果は中心点 $μ$ の初期値に影響を受けます。そのため、学習時には複数個の初期値で計算を行います。"
   ]
  },
  {
   "cell_type": "markdown",
   "metadata": {},
   "source": [
    "#### 参考サイト\n",
    "\n",
    "- https://algorithm.joho.info/programming/python/numpy-random-choice/"
   ]
  },
  {
   "cell_type": "code",
   "execution_count": 155,
   "metadata": {},
   "outputs": [
    {
     "data": {
      "text/plain": [
       "array([1, 2, 3, 2, 0, 2, 2, 0, 2, 1, 2, 2, 0, 1, 1, 3, 1, 0, 1, 3, 2, 0,\n",
       "       2, 0, 0, 2, 2, 2, 0, 1, 1, 1, 0, 3, 0, 0, 1, 2, 3, 0, 2, 1, 0, 0,\n",
       "       1, 2, 2, 2, 2, 3, 3, 2, 1, 0, 0, 0, 3, 3, 3, 3, 2, 2, 1, 2, 1, 2,\n",
       "       1, 0, 1, 3, 0, 0, 1, 2, 3, 2, 2, 2, 2, 0, 1, 0, 3, 0, 0, 1, 3, 3,\n",
       "       2, 3, 0, 3, 0, 2, 0, 0, 0, 0, 0, 3])"
      ]
     },
     "execution_count": 155,
     "metadata": {},
     "output_type": "execute_result"
    }
   ],
   "source": [
    "n_clusters = 4\n",
    "clusters = np.random.randint(0, n_clusters, X.shape[0])\n",
    "clusters"
   ]
  },
  {
   "cell_type": "code",
   "execution_count": 168,
   "metadata": {},
   "outputs": [
    {
     "data": {
      "text/plain": [
       "array([[ 0.08349977,  3.47049971],\n",
       "       [-0.26683082,  4.69091069],\n",
       "       [ 0.37810287,  4.25930962],\n",
       "       [ 0.03384256,  4.02475912]])"
      ]
     },
     "execution_count": 168,
     "metadata": {},
     "output_type": "execute_result"
    }
   ],
   "source": [
    "def centring(X):\n",
    "    n_clusters = 4\n",
    "    clusters = np.random.randint(0, n_clusters, X.shape[0])\n",
    "    centroids = np.array([X[clusters == n, :].mean(axis = 0) for n in range(n_clusters)])\n",
    "    return centroids\n",
    "centring(X)"
   ]
  },
  {
   "cell_type": "code",
   "execution_count": 203,
   "metadata": {},
   "outputs": [],
   "source": [
    "# n_clusters =4\n",
    "# n_init = 1\n",
    "# def centering(X):\n",
    "#     center_points =[np.random.choice(X.reshape(-1), n_clusters, replace =False) for i in range(n_init)]\n",
    "#     return center_points\n",
    "# centering(X)"
   ]
  },
  {
   "cell_type": "markdown",
   "metadata": {},
   "source": [
    "## 【問題2】SSEを求める関数の作成\n",
    "クラスタ内誤差平方和（SSE, Sum of Squared Errors）を計算する関数を作成してください。\n",
    "\n",
    "K-meansはこのSSEを最小化する $r_{nk}$ と $μ_k$ を求めることが目的となります。複数個の初期値で計算したクラスタリング結果から、どれを最終的に採用するかを決める際にこのSSEを求める関数を使用します。\n",
    "\n",
    "$$\n",
    "SSE=\\sum^{N}_{n=1}\\sum^{K}_{k=1}r_{nk} ∥X_n−μ_k∥^2\n",
    "$$\n",
    "\n",
    "$n$ : データ点のインデックス\n",
    "\n",
    "$k$ : クラスタのインデックス\n",
    "\n",
    "$X_n$ : $n$番目のデータ点\n",
    "\n",
    "$μ_k$ : $k$番目の中心点\n",
    "\n",
    "$r_{nk}$ : データ点$X_n$がクラスタ $k$ に所属していたら1、そうでなければ0\n",
    "\n",
    "### クラスタの割り当てと中心点の移動を繰り返す\n",
    "K-meansの学習の基本は以下の2つのフェーズを繰り返すことです。\n",
    "\n",
    "- 中心点 $μ_k$ を固定した上で SSE を最小化する クラスタの割り当て $r_{nk}$ を選ぶ。\n",
    "- クラスタの割り当て $r_{nk}$ を固定した上で SSE を最小化する 中心点 $μ_k$ を選ぶ。\n",
    "\n",
    "最初の中心点 $μ_k$ は問題1で作成した初期値です。\n",
    "\n",
    "\n",
    "順番に見ていきます。"
   ]
  },
  {
   "cell_type": "markdown",
   "metadata": {},
   "source": [
    "#### 参考サイト\n",
    "- https://qiita.com/panda531/items/4b5504a3949eacb7ab19\n",
    "- https://qiita.com/navitime_tech/items/bb1bd01537bc2713444a"
   ]
  },
  {
   "cell_type": "code",
   "execution_count": 211,
   "metadata": {},
   "outputs": [
    {
     "name": "stdout",
     "output_type": "stream",
     "text": [
      "100\n",
      "100\n",
      "100\n",
      "100\n"
     ]
    }
   ],
   "source": [
    "for c in centroids:\n",
    "    sse =((X-c)**2)\n",
    "    print(len(sse))"
   ]
  },
  {
   "cell_type": "markdown",
   "metadata": {},
   "source": [
    "## 【問題3】クラスタへの割り当て\n",
    "全てのデータ点 $X_n$ を最も近い中心点 $μ_k$ に割り当てるコードを作成してください。\n",
    "\n",
    "K-menasにおける 近い とは点と点のユークリッド距離が小さくなることです。ユークリッド距離とはピタゴラスの定理（三平方の定理）で求められるものですが、ベクトル $p,q$ に対しては以下の数式で表現できます。\n",
    "\n",
    "$$\n",
    "∥q−p∥=\\sqrt{(q−p)⋅(q−p)}\n",
    "$$\n",
    "\n",
    "NumPyにはこの関数がnp.linalg.normとして用意されているため使用してください。\n",
    "\n",
    "\n",
    "numpy.linalg.norm — NumPy v1.17 Manual(下記URL)\n",
    "\n",
    "https://docs.scipy.org/doc/numpy/reference/generated/numpy.linalg.norm.html\n",
    "\n",
    "\n",
    "中心点 $μ_k$ を固定した上でSSEを最小化していることになりますが、SSE自体を求める必要はありません。"
   ]
  },
  {
   "cell_type": "code",
   "execution_count": null,
   "metadata": {},
   "outputs": [],
   "source": []
  },
  {
   "cell_type": "markdown",
   "metadata": {},
   "source": [
    "## 【問題4】中心点の移動\n",
    "中心点 $μ_k$ を $k$ 番目のクラスタに割り当てられる全てのデータ点 $X_n$ の平均値（重心）に移動するコードを作成してください。\n",
    "\n",
    "クラスタの割り当て $r_{nk}$ を固定した上でSSEを最小化していることになりますが、SSE自体を求める必要はありません。"
   ]
  },
  {
   "cell_type": "markdown",
   "metadata": {},
   "source": [
    "## 【問題5】繰り返し\n",
    "クラスタへの割り当てと中心点の移動を繰り返すことで学習を行うコードを作成してください。\n",
    "\n",
    "\n",
    "次のどれかの条件を満たしたらこれを止めます。\n",
    "\n",
    "\n",
    "- 繰り返しが指定した回数に到達する。（雛形では引数max_iter）\n",
    "- 中心点 $μ_k$ と重心の差の合計が指定した許容値以下になる。（雛形では引数tol）"
   ]
  },
  {
   "cell_type": "markdown",
   "metadata": {},
   "source": [
    "## 【問題6】異なる初期値で計算\n",
    "問題5の繰り返しを、指定した回数初期値を変更して計算するコードを作成してください。回数は雛形では引数n_initで指定します。\n",
    "\n",
    "\n",
    "複数計算した中でSSEが最小になったものが最終的な学習結果となるため、その時の中心点 $μ_k$ を保持しておきます。"
   ]
  },
  {
   "cell_type": "markdown",
   "metadata": {},
   "source": [
    "## 【問題7】推定\n",
    "新たなデータに対してどのクラスタに所属するかの推定の際は、学習時の1つ目のフェーズと同じことを行います。\n",
    "\n",
    "\n",
    "- データ点 $X_n$ と学習で決まった中心点 $μ_k$ に対し、 SSE を最小化する $r_{nk}$ を選ぶ。\n",
    "\n",
    "具体的には次のことです。\n",
    "\n",
    "\n",
    "- データ点 $X_n$ を最も近い $μ_k$ に割り当てる。\n"
   ]
  },
  {
   "cell_type": "markdown",
   "metadata": {},
   "source": [
    "## 【問題8】エルボー法の実装\n",
    "K-meansにおいて中心点の個数 $k$ は人為的に決める必要がありますが、その判断方法としてエルボー法があります。エルボー法により中心点の個数 $k$ を検討するためのコードを作成してください。\n",
    "\n",
    "\n",
    "SSEを縦軸、クラスタ数 $k$ を横軸にした折れ線グラフを表示します。このためにK-meansのインスタンスからはSSEを取得できるようにしてください。"
   ]
  },
  {
   "cell_type": "code",
   "execution_count": 212,
   "metadata": {},
   "outputs": [
    {
     "data": {
      "text/plain": [
       "array([0, 1, 0, 0, 0, 0, 2, 1, 1, 1, 1, 1, 1, 1, 1, 3, 3, 3, 2, 3, 0, 1,\n",
       "       2, 3, 0, 2, 2, 0, 3, 3, 3, 1, 3, 3, 2, 0, 1, 3, 1, 2, 0, 2, 1, 2,\n",
       "       2, 1, 3, 2, 0, 3, 1, 3, 2, 2, 3, 1, 1, 3, 3, 1, 1, 3, 3, 0, 3, 1,\n",
       "       2, 3, 3, 0, 1, 3, 0, 1, 0, 0, 2, 2, 3, 3, 3, 1, 2, 0, 3, 2, 3, 3,\n",
       "       0, 0, 0, 3, 3, 2, 2, 1, 1, 2, 1, 1])"
      ]
     },
     "execution_count": 212,
     "metadata": {},
     "output_type": "execute_result"
    }
   ],
   "source": [
    "from sklearn.datasets import make_blobs\n",
    "X, _ = make_blobs(n_samples=100, n_features=2, centers=4, cluster_std=0.5, shuffle=True, random_state=0)\n",
    "n_clusters = 4\n",
    "clusters = np.random.randint(0, n_clusters, X.shape[0])\n",
    "max_iter = 300\n",
    "\n",
    "for _ in range(max_iter):\n",
    "    centroids = np.array([X[clusters == n, :].mean(axis = 0) for n in range(n_clusters)])\n",
    "    new_clusters = np.array([np.linalg.norm(X - c, axis = 1) for c in centroids]).argmin(axis = 0) \n",
    "    for n in range(n_clusters):\n",
    "            if not np.any(new_clusters == n):\n",
    "                centroids[n] = X[np.random.choice(X.shape[0], 1), :]\n",
    "    if np.allclose(clusters, new_clusters):\n",
    "            break\n",
    "        \n",
    "clusters = new_clusters\n",
    "clusters"
   ]
  },
  {
   "cell_type": "markdown",
   "metadata": {},
   "source": [
    "## 【問題9】（アドバンス課題）シルエット図\n",
    "$k$ を決める助けになるものとしてシルエット図もあります。シルエット図を表示するコードを作成してください。\n",
    "\n",
    "\n",
    "Matplotlibを使い図を表示するコードは用意しました。以下を与えてください。\n",
    "\n",
    "\n",
    "silhouette_vals : shape(n_samples,)のndarray、各データ点のシルエット係数\n",
    "\n",
    "\n",
    "silhouette_avg : float、シルエット係数の平均値\n",
    "\n",
    "\n",
    "y_km : shape(n_samples,)のndarray、各データ点のクラスタラベル名\n",
    "\n",
    "\n",
    "cluster_labels : list、クラスタのラベル名のリスト\n",
    "\n",
    "\n",
    "n_clusters : int、クラスタ数\n",
    "\n",
    "\n",
    "$n$ 番目のデータ点に対するシルエット係数 $s_n$ は以下の数式でを求められます。この数式を実装し、シルエット図を確認してください。\n",
    "\n",
    "$$\n",
    "s_n=\\frac{b_n−a_n}{max(b_n,a_n)}\n",
    "$$\n",
    "\n",
    "$a_n$ : 凝集度。同じクラスタ内の他のデータ点との距離の平均値。\n",
    "\n",
    "\n",
    "$b_n$ : 乖離度。最も近い他のクラスタ内の全てのデータ点との距離の平均値。\n",
    "\n",
    "\n",
    "乖離度 $b$ が大きく、凝集度 $a$ が小さい時が理想的であり、シルエット係数 $s$ は1に近くなります。\n",
    "\n",
    "\n",
    "**《シルエット図を表示するためのコード》**"
   ]
  },
  {
   "cell_type": "code",
   "execution_count": 3,
   "metadata": {},
   "outputs": [
    {
     "ename": "NameError",
     "evalue": "name 'cluster_labels' is not defined",
     "output_type": "error",
     "traceback": [
      "\u001b[0;31m---------------------------------------------------------------------------\u001b[0m",
      "\u001b[0;31mNameError\u001b[0m                                 Traceback (most recent call last)",
      "\u001b[0;32m<ipython-input-3-309b4b7e0acc>\u001b[0m in \u001b[0;36m<module>\u001b[0;34m\u001b[0m\n\u001b[1;32m      2\u001b[0m \u001b[0my_ax_lower\u001b[0m\u001b[0;34m,\u001b[0m \u001b[0my_ax_upper\u001b[0m \u001b[0;34m=\u001b[0m \u001b[0;36m0\u001b[0m\u001b[0;34m,\u001b[0m \u001b[0;36m0\u001b[0m\u001b[0;34m\u001b[0m\u001b[0;34m\u001b[0m\u001b[0m\n\u001b[1;32m      3\u001b[0m \u001b[0myticks\u001b[0m \u001b[0;34m=\u001b[0m \u001b[0;34m[\u001b[0m\u001b[0;34m]\u001b[0m\u001b[0;34m\u001b[0m\u001b[0;34m\u001b[0m\u001b[0m\n\u001b[0;32m----> 4\u001b[0;31m \u001b[0;32mfor\u001b[0m \u001b[0mi\u001b[0m\u001b[0;34m,\u001b[0m \u001b[0mc\u001b[0m \u001b[0;32min\u001b[0m \u001b[0menumerate\u001b[0m\u001b[0;34m(\u001b[0m\u001b[0mcluster_labels\u001b[0m\u001b[0;34m)\u001b[0m\u001b[0;34m:\u001b[0m\u001b[0;34m\u001b[0m\u001b[0;34m\u001b[0m\u001b[0m\n\u001b[0m\u001b[1;32m      5\u001b[0m     \u001b[0mc_silhouette_vals\u001b[0m \u001b[0;34m=\u001b[0m \u001b[0msilhouette_vals\u001b[0m\u001b[0;34m[\u001b[0m\u001b[0my_km\u001b[0m \u001b[0;34m==\u001b[0m \u001b[0mc\u001b[0m\u001b[0;34m]\u001b[0m\u001b[0;34m\u001b[0m\u001b[0;34m\u001b[0m\u001b[0m\n\u001b[1;32m      6\u001b[0m     \u001b[0mc_silhouette_vals\u001b[0m\u001b[0;34m.\u001b[0m\u001b[0msort\u001b[0m\u001b[0;34m(\u001b[0m\u001b[0;34m)\u001b[0m\u001b[0;34m\u001b[0m\u001b[0;34m\u001b[0m\u001b[0m\n",
      "\u001b[0;31mNameError\u001b[0m: name 'cluster_labels' is not defined"
     ]
    }
   ],
   "source": [
    "from matplotlib import cm\n",
    "y_ax_lower, y_ax_upper = 0, 0\n",
    "yticks = []\n",
    "for i, c in enumerate(cluster_labels):\n",
    "    c_silhouette_vals = silhouette_vals[y_km == c]\n",
    "    c_silhouette_vals.sort()\n",
    "    y_ax_upper += len(c_silhouette_vals)\n",
    "    color = cm.jet(i / n_clusters)\n",
    "    plt.barh(range(y_ax_lower, y_ax_upper), c_silhouette_vals, height=1.0, edgecolor='none', color=color)\n",
    "    yticks.append((y_ax_lower + y_ax_upper) / 2)\n",
    "    y_ax_lower += len(c_silhouette_vals)\n",
    "plt.axvline(silhouette_avg, color=\"red\", linestyle=\"--\")\n",
    "plt.yticks(yticks, cluster_labels + 1)\n",
    "plt.ylabel('Cluster')\n",
    "plt.xlabel('Silhouette coefficient')\n",
    "plt.show()"
   ]
  },
  {
   "cell_type": "markdown",
   "metadata": {},
   "source": [
    "## 3.クラスタ分析\n",
    "\n",
    "### 卸売業者のデータ分析\n",
    "クラスタリングを利用法を学ぶために、Wholesale customers Data Setを使用します。\n",
    "\n",
    "\n",
    "UCI Machine Learning Repository: Wholesale customers Data Set(下記URL)\n",
    "https://archive.ics.uci.edu/ml/datasets/Wholesale+customers\n",
    "\n",
    "\n",
    "Data Folderの中からWholesale customers data.csvをダウンロードしてください。これはポルトガルのリスボンにある卸売業者（wholesale）が顧客から集めたデータです。中身は各顧客が年間でミルクや食料品を何ユーロ購入しているかというデータになっています。顧客は小売店やレストランです。RegionとChannelは取り覗き、金額のデータでK-meansを利用します。\n",
    "\n",
    "\n",
    "### 次元削減\n",
    "金額に関する特徴量は6個ありますが、可視化するために次元削減を行います。これに関してはscikit-learnによるPCAのサンプルコードを用意したので利用してください。\n",
    "\n",
    "\n",
    "**《PCAのサンプルコード》**"
   ]
  },
  {
   "cell_type": "code",
   "execution_count": 4,
   "metadata": {},
   "outputs": [
    {
     "ename": "NameError",
     "evalue": "name 'data' is not defined",
     "output_type": "error",
     "traceback": [
      "\u001b[0;31m---------------------------------------------------------------------------\u001b[0m",
      "\u001b[0;31mNameError\u001b[0m                                 Traceback (most recent call last)",
      "\u001b[0;32m<ipython-input-4-99d30e8ff856>\u001b[0m in \u001b[0;36m<module>\u001b[0;34m\u001b[0m\n\u001b[1;32m      1\u001b[0m \u001b[0;32mfrom\u001b[0m \u001b[0msklearn\u001b[0m\u001b[0;34m.\u001b[0m\u001b[0mdecomposition\u001b[0m \u001b[0;32mimport\u001b[0m \u001b[0mPCA\u001b[0m\u001b[0;34m\u001b[0m\u001b[0;34m\u001b[0m\u001b[0m\n\u001b[1;32m      2\u001b[0m \u001b[0mpca\u001b[0m \u001b[0;34m=\u001b[0m \u001b[0mPCA\u001b[0m\u001b[0;34m(\u001b[0m\u001b[0mn_components\u001b[0m \u001b[0;34m=\u001b[0m \u001b[0;36m2\u001b[0m\u001b[0;34m)\u001b[0m\u001b[0;34m\u001b[0m\u001b[0;34m\u001b[0m\u001b[0m\n\u001b[0;32m----> 3\u001b[0;31m \u001b[0mpca\u001b[0m \u001b[0;34m=\u001b[0m \u001b[0mpca\u001b[0m\u001b[0;34m.\u001b[0m\u001b[0mfit\u001b[0m\u001b[0;34m(\u001b[0m\u001b[0mdata\u001b[0m\u001b[0;34m)\u001b[0m\u001b[0;34m\u001b[0m\u001b[0;34m\u001b[0m\u001b[0m\n\u001b[0m\u001b[1;32m      4\u001b[0m \u001b[0mdata_pca\u001b[0m \u001b[0;34m=\u001b[0m \u001b[0mpca\u001b[0m\u001b[0;34m.\u001b[0m\u001b[0mtransform\u001b[0m\u001b[0;34m(\u001b[0m\u001b[0mdata\u001b[0m\u001b[0;34m)\u001b[0m\u001b[0;34m\u001b[0m\u001b[0;34m\u001b[0m\u001b[0m\n",
      "\u001b[0;31mNameError\u001b[0m: name 'data' is not defined"
     ]
    }
   ],
   "source": [
    "from sklearn.decomposition import PCA\n",
    "pca = PCA(n_components = 2)\n",
    "pca = pca.fit(data)\n",
    "data_pca = pca.transform(data)"
   ]
  },
  {
   "cell_type": "markdown",
   "metadata": {},
   "source": [
    "**《PCAの分散説明率を表示するコードサンプル》**"
   ]
  },
  {
   "cell_type": "code",
   "execution_count": 5,
   "metadata": {},
   "outputs": [
    {
     "ename": "NameError",
     "evalue": "name 'data' is not defined",
     "output_type": "error",
     "traceback": [
      "\u001b[0;31m---------------------------------------------------------------------------\u001b[0m",
      "\u001b[0;31mNameError\u001b[0m                                 Traceback (most recent call last)",
      "\u001b[0;32m<ipython-input-5-b489ae0c3e4a>\u001b[0m in \u001b[0;36m<module>\u001b[0;34m\u001b[0m\n\u001b[1;32m      2\u001b[0m \u001b[0;32mimport\u001b[0m \u001b[0mmatplotlib\u001b[0m\u001b[0;34m.\u001b[0m\u001b[0mpyplot\u001b[0m \u001b[0;32mas\u001b[0m \u001b[0mplt\u001b[0m\u001b[0;34m\u001b[0m\u001b[0;34m\u001b[0m\u001b[0m\n\u001b[1;32m      3\u001b[0m \u001b[0mpca\u001b[0m \u001b[0;34m=\u001b[0m \u001b[0mPCA\u001b[0m\u001b[0;34m(\u001b[0m\u001b[0mn_components\u001b[0m\u001b[0;34m=\u001b[0m\u001b[0;32mNone\u001b[0m\u001b[0;34m)\u001b[0m\u001b[0;34m\u001b[0m\u001b[0;34m\u001b[0m\u001b[0m\n\u001b[0;32m----> 4\u001b[0;31m \u001b[0mpca\u001b[0m \u001b[0;34m=\u001b[0m \u001b[0mpca\u001b[0m\u001b[0;34m.\u001b[0m\u001b[0mfit\u001b[0m\u001b[0;34m(\u001b[0m\u001b[0mdata\u001b[0m\u001b[0;34m)\u001b[0m\u001b[0;34m\u001b[0m\u001b[0;34m\u001b[0m\u001b[0m\n\u001b[0m\u001b[1;32m      5\u001b[0m \u001b[0mvar_exp\u001b[0m \u001b[0;34m=\u001b[0m \u001b[0mpca\u001b[0m\u001b[0;34m.\u001b[0m\u001b[0mexplained_variance_ratio_\u001b[0m\u001b[0;34m\u001b[0m\u001b[0;34m\u001b[0m\u001b[0m\n\u001b[1;32m      6\u001b[0m \u001b[0mcum_var_exp\u001b[0m \u001b[0;34m=\u001b[0m \u001b[0mnp\u001b[0m\u001b[0;34m.\u001b[0m\u001b[0mcumsum\u001b[0m\u001b[0;34m(\u001b[0m\u001b[0mvar_exp\u001b[0m\u001b[0;34m)\u001b[0m\u001b[0;34m\u001b[0m\u001b[0;34m\u001b[0m\u001b[0m\n",
      "\u001b[0;31mNameError\u001b[0m: name 'data' is not defined"
     ]
    }
   ],
   "source": [
    "from sklearn.decomposition import PCA\n",
    "import matplotlib.pyplot as plt\n",
    "pca = PCA(n_components=None)\n",
    "pca = pca.fit(data)\n",
    "var_exp = pca.explained_variance_ratio_\n",
    "cum_var_exp = np.cumsum(var_exp)\n",
    "print(cum_var_exp)\n",
    "plt.bar(range(1,7), var_exp, alpha=0.5, align='center', label='individual explained variance')\n",
    "plt.step(range(1,7), cum_var_exp, where='mid', label='cumulative expalined variance')\n",
    "plt.ylabel('Explained variance ratio')\n",
    "plt.xlabel('Principal components')\n",
    "plt.hlines(0.7, 0, 6,  \"blue\", linestyles='dashed')\n",
    "plt.legend(loc='best')\n",
    "plt.grid()\n",
    "plt.show()"
   ]
  },
  {
   "cell_type": "markdown",
   "metadata": {},
   "source": [
    "## 【問題10】クラスタ数kの選択\n",
    "最適だと思われるクラスタ数 $k$ を選択してください。エルボー法やシルエット図を活用する他、人間が後々どう利用したいのかも選択に関わってきます。選択した上で、なぜそれを選んだか説明してください。"
   ]
  },
  {
   "cell_type": "markdown",
   "metadata": {},
   "source": [
    "## 【問題11】既知のグループとの比較\n",
    "RegionとChannelはK-meansに使用しなかったが、これれらは既知のグループです。クラスタとこれら既知のグループがどう違うかを確認し、説明してください。まずはそれぞれを可視化してください。"
   ]
  },
  {
   "cell_type": "markdown",
   "metadata": {},
   "source": [
    "## 【問題12】卸売業者にとって有益な情報\n",
    "卸売業者にとって有益な情報を探し出し文章にまとめてください。\n",
    "\n",
    "\n",
    "**《ヒント》**\n",
    "\n",
    "\n",
    "前処理を行う前のデータを使い、各クラスタの要約統計量を見るなどしてみましょう。また、PCAで次元削減したデータに対してK-meansを使用しましたが、6個の特徴量をそのまま使ったり、一部の特徴量のみを使ったりということも試してみてください。既知のグループとの比較結果も参考にしてください。\n",
    "\n",
    "\n",
    "条件ごとにデータを見る際にはPandasのgroupbyが便利です。\n",
    "\n",
    "\n",
    "pandas.DataFrame.groupby — pandas 0.23.4 documentation(下記URL)\n",
    "https://pandas.pydata.org/pandas-docs/stable/generated/pandas.DataFrame.groupby.html"
   ]
  },
  {
   "cell_type": "markdown",
   "metadata": {},
   "source": [
    "## 4.他の非階層クラスタリング手法"
   ]
  },
  {
   "cell_type": "markdown",
   "metadata": {},
   "source": [
    "## 【問題13】（アドバンス課題）他の手法の調査\n",
    "今回扱ったK-means以外に非階層クラスタリングで有名な手法としては **DBSCAN** 、\n",
    "PCA以外に次元削減手法で有名な手法としては **t-SNE** や **LLE** があります。\n",
    "\n",
    "\n",
    "- DBSCANのメリット・デメリット\n",
    "- t-SNE、LLEのメリット・デメリット\n",
    "\n",
    "について記述してください。\n",
    "\n"
   ]
  },
  {
   "cell_type": "markdown",
   "metadata": {},
   "source": [
    "## 【問題14】（アドバンス課題）t-SNEとDBSCANの利用\n",
    "Wholesale customersのデータに対して、PCAではなく、 **t-SNE** を用いて次元削減をしてください。さらにK-meansではなく、 **DBSCAN** を用いてクラスタリングしてください。\n",
    "\n",
    "\n",
    "そのクラスタリング結果をPCA+kmeansの場合の結果と比較してみましょう。実装にはscikit-learnを用いてください。\n",
    "\n",
    "\n",
    "sklearn.manifold.TSNE — scikit-learn 0.20.2 documentation(下記URL)\n",
    "https://scikit-learn.org/stable/modules/generated/sklearn.manifold.TSNE.html\n",
    "\n",
    "\n",
    "sklearn.cluster.DBSCAN — scikit-learn 0.20.2 documentation(下記URL)\n",
    "https://scikit-learn.org/stable/modules/generated/sklearn.cluster.DBSCAN.html\n",
    "\n",
    "\n",
    "**《パラメーターチューニング》**\n",
    "\n",
    "\n",
    "これらはK-meansやPCAに比べパラメーターチューニングが難しい手法です。scikit-learnのドキュメントと共に論文も参考にしながらパラメータの意味を確認することも大切になります。\n",
    "\n",
    "\n",
    "t-SNEの論文(下記URL)\n",
    "http://www.jmlr.org/papers/volume9/vandermaaten08a/vandermaaten08a.pdf\n",
    "\n",
    "\n",
    "DBSCANの論文(下記URL)\n",
    "\n",
    "https://www.aaai.org/Papers/KDD/1996/KDD96-037.pdf"
   ]
  }
 ],
 "metadata": {
  "kernelspec": {
   "display_name": "Python 3",
   "language": "python",
   "name": "python3"
  },
  "language_info": {
   "codemirror_mode": {
    "name": "ipython",
    "version": 3
   },
   "file_extension": ".py",
   "mimetype": "text/x-python",
   "name": "python",
   "nbconvert_exporter": "python",
   "pygments_lexer": "ipython3",
   "version": "3.8.5"
  }
 },
 "nbformat": 4,
 "nbformat_minor": 4
}
