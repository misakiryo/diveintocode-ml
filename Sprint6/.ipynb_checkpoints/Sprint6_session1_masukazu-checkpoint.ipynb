{
 "cells": [
  {
   "cell_type": "code",
   "execution_count": 42,
   "metadata": {},
   "outputs": [],
   "source": [
    "import numpy as np\n",
    "import matplotlib.pyplot as plt"
   ]
  },
  {
   "cell_type": "code",
   "execution_count": null,
   "metadata": {},
   "outputs": [],
   "source": [
    "class ScratchDecesionTreeClassifierDepth1():\n",
    "    def __init__(self, verbose =False):\n",
    "        self.verbose = verbose\n",
    "        \n",
    "    def _gini(self, X):\n",
    "        unique, count = np.unique(X, return_counts=True)\n",
    "        tmp = 0\n",
    "        \n",
    "        for i in unique:\n",
    "            tmp += (count[unique==i]/np.sum(countnt))**2\n",
    "        return 1-tmp"
   ]
  },
  {
   "cell_type": "code",
   "execution_count": null,
   "metadata": {},
   "outputs": [],
   "source": []
  },
  {
   "cell_type": "code",
   "execution_count": null,
   "metadata": {},
   "outputs": [],
   "source": []
  },
  {
   "cell_type": "code",
   "execution_count": 32,
   "metadata": {},
   "outputs": [],
   "source": [
    "X = np.array([0, 2, 1, -1, 4])\n",
    "y = np.array([0, 0, 0, 1, 1])"
   ]
  },
  {
   "cell_type": "code",
   "execution_count": 33,
   "metadata": {},
   "outputs": [
    {
     "name": "stdout",
     "output_type": "stream",
     "text": [
      "threshold_value [-1  0  1  2  4] counts [1 1 1 1 1]\n"
     ]
    }
   ],
   "source": [
    "threshold_value, counts = np.unique(X, return_counts=True)\n",
    "print('threshold_value', threshold_value, 'counts', counts)"
   ]
  },
  {
   "cell_type": "code",
   "execution_count": 34,
   "metadata": {},
   "outputs": [
    {
     "name": "stdout",
     "output_type": "stream",
     "text": [
      "unique [0 1] unique_counts [3 2]\n"
     ]
    }
   ],
   "source": [
    "u, counts = np.unique(y, return_counts= True)\n",
    "print('unique', u, 'unique_counts', counts)"
   ]
  },
  {
   "cell_type": "code",
   "execution_count": 35,
   "metadata": {},
   "outputs": [],
   "source": [
    "def _gini(X):\n",
    "    unique, count = np.unique(X, return_counts =True)\n",
    "    \n",
    "    tmp = 0\n",
    "    for i in unique:\n",
    "        tmp = tmp+ (count[unique==i]/np.sum(count))**2\n",
    "        print(count[unique==i])\n",
    "        print(np.sum(count))\n",
    "    return 1-tmp"
   ]
  },
  {
   "cell_type": "code",
   "execution_count": 37,
   "metadata": {
    "scrolled": true
   },
   "outputs": [
    {
     "name": "stdout",
     "output_type": "stream",
     "text": [
      "0 c1 [1] c2 [0 0 0 1]\n",
      "[1]\n",
      "1\n",
      "[3]\n",
      "4\n",
      "[1]\n",
      "4\n",
      "0 gini_left: [0.] gini_right: [0.375]\n",
      "1 c1 [0 1] c2 [0 0 1]\n",
      "[1]\n",
      "2\n",
      "[1]\n",
      "2\n",
      "[2]\n",
      "3\n",
      "[1]\n",
      "3\n",
      "1 gini_left: [0.5] gini_right: [0.44444444]\n",
      "2 c1 [0 0 1] c2 [0 1]\n",
      "[2]\n",
      "3\n",
      "[1]\n",
      "3\n",
      "[1]\n",
      "2\n",
      "[1]\n",
      "2\n",
      "2 gini_left: [0.44444444] gini_right: [0.5]\n",
      "4 c1 [0 0 0 1] c2 [1]\n",
      "[3]\n",
      "4\n",
      "[1]\n",
      "4\n",
      "[1]\n",
      "1\n",
      "4 gini_left: [0.375] gini_right: [0.]\n"
     ]
    }
   ],
   "source": [
    "for i in threshold_value[1:]:\n",
    "    c1 = y[X<i]\n",
    "    c2 = y[X>=i]\n",
    "    \n",
    "    print(i, 'c1', c1, 'c2', c2)\n",
    "    print(i,'gini_left:',_gini(c1),'gini_right:',_gini(c2))"
   ]
  },
  {
   "cell_type": "code",
   "execution_count": 39,
   "metadata": {
    "scrolled": true
   },
   "outputs": [
    {
     "name": "stdout",
     "output_type": "stream",
     "text": [
      "[1]\n",
      "1\n",
      "[3]\n",
      "4\n",
      "[1]\n",
      "4\n",
      "[1]\n",
      "5\n",
      "[1]\n",
      "5\n",
      "[1]\n",
      "5\n",
      "[1]\n",
      "5\n",
      "[1]\n",
      "5\n",
      "0 [0.5]\n",
      "[1]\n",
      "2\n",
      "[1]\n",
      "2\n",
      "[2]\n",
      "3\n",
      "[1]\n",
      "3\n",
      "[1]\n",
      "5\n",
      "[1]\n",
      "5\n",
      "[1]\n",
      "5\n",
      "[1]\n",
      "5\n",
      "[1]\n",
      "5\n",
      "1 [0.33333333]\n",
      "[2]\n",
      "3\n",
      "[1]\n",
      "3\n",
      "[1]\n",
      "2\n",
      "[1]\n",
      "2\n",
      "[1]\n",
      "5\n",
      "[1]\n",
      "5\n",
      "[1]\n",
      "5\n",
      "[1]\n",
      "5\n",
      "[1]\n",
      "5\n",
      "2 [0.33333333]\n",
      "[3]\n",
      "4\n",
      "[1]\n",
      "4\n",
      "[1]\n",
      "1\n",
      "[1]\n",
      "5\n",
      "[1]\n",
      "5\n",
      "[1]\n",
      "5\n",
      "[1]\n",
      "5\n",
      "[1]\n",
      "5\n",
      "4 [0.5]\n"
     ]
    }
   ],
   "source": [
    "for i in threshold_value[1:]:\n",
    "    c1 = y[X<i]\n",
    "    c2 = y[X>=i]\n",
    "    \n",
    "    left = len(c1)/(len(c1)+len(c2))*_gini(c1)\n",
    "    right = len(c2)/(len(c1)+len(c2))*_gini(c2)\n",
    "    \n",
    "    gain = _gini(X) -left-right\n",
    "    print(i, gain)"
   ]
  },
  {
   "cell_type": "code",
   "execution_count": 40,
   "metadata": {},
   "outputs": [],
   "source": [
    "# サンプルデータ2\n",
    "X = np.array([[-0.44699 , -2.8073  ],[-1.4621  , -2.4586  ],\n",
    "              [ 0.10645 ,  1.9242  ],[-3.5944  , -4.0112  ],\n",
    "              [-0.9888  ,  4.5718  ],[-3.1625  , -3.9606  ],\n",
    "              [ 0.56421 ,  0.72888 ],[-0.60216 ,  8.4636  ],\n",
    "              [-0.61251 , -0.75345 ],[-0.73535 , -2.2718  ],\n",
    "              [-0.80647 , -2.2135  ],[ 0.86291 ,  2.3946  ],\n",
    "              [-3.1108  ,  0.15394 ],[-2.9362  ,  2.5462  ],\n",
    "              [-0.57242 , -2.9915  ],[ 1.4771  ,  3.4896  ],\n",
    "              [ 0.58619 ,  0.37158 ],[ 0.6017  ,  4.3439  ],\n",
    "              [-2.1086  ,  8.3428  ],[-4.1013  , -4.353   ],\n",
    "              [-1.9948  , -1.3927  ],[ 0.35084 , -0.031994],\n",
    "              [ 0.96765 ,  7.8929  ],[-1.281   , 15.6824  ],\n",
    "              [ 0.96765 , 10.083   ],[ 1.3763  ,  1.3347  ],\n",
    "              [-2.234   , -2.5323  ],[-2.9452  , -1.8219  ],\n",
    "              [ 0.14654 , -0.28733 ],[ 0.5461  ,  5.8245  ],\n",
    "              [-0.65259 ,  9.3444  ],[ 0.59912 ,  5.3524  ],\n",
    "              [ 0.50214 , -0.31818 ],[-3.0603  , -3.6461  ],\n",
    "              [-6.6797  ,  0.67661 ],[-2.353   , -0.72261 ],\n",
    "              [ 1.1319  ,  2.4023  ],[-0.12243 ,  9.0162  ],\n",
    "              [-2.5677  , 13.1779  ],[ 0.057313,  5.4681  ]])\n",
    "\n",
    "y = np.array([0, 0, 0, 0, 0, 0, 0, 0, 0, 0, 0, 0, 0, 0, 0, 0, 0, 0, 0, 0,\n",
    "              1, 1,1, 1, 1, 1, 1, 1, 1, 1, 1, 1, 1, 1, 1, 1, 1, 1, 1, 1])"
   ]
  },
  {
   "cell_type": "code",
   "execution_count": 43,
   "metadata": {},
   "outputs": [
    {
     "data": {
      "image/png": "[encoded data removed]",
      "text/plain": [
       "<Figure size 864x576 with 1 Axes>"
      ]
     },
     "metadata": {
      "needs_background": "light"
     },
     "output_type": "display_data"
    }
   ],
   "source": [
    "# シンプルデータ2を可視化\n",
    "fig = plt.subplots(figsize=(12,8))\n",
    "plt.rcParams[\"font.size\"] = 20\n",
    "plt.scatter(X[y==1,0],X[y==1,1],s=80,label='y=1')\n",
    "plt.scatter(X[y==0,0],X[y==0,1],s=80,label='y=0')\n",
    "plt.legend();"
   ]
  },
  {
   "cell_type": "code",
   "execution_count": 44,
   "metadata": {},
   "outputs": [
    {
     "name": "stdout",
     "output_type": "stream",
     "text": [
      "(32, 2)\n",
      "(32,)\n",
      "(8, 2)\n",
      "(8,)\n"
     ]
    }
   ],
   "source": [
    "from sklearn.model_selection import train_test_split\n",
    "X_train, X_valid, y_train, y_valid = \\\n",
    "train_test_split(X,y,train_size=0.8,random_state=None)\n",
    "\n",
    "print(X_train.shape)\n",
    "print(y_train.shape)\n",
    "print(X_valid.shape)\n",
    "print(y_valid.shape)"
   ]
  },
  {
   "cell_type": "code",
   "execution_count": null,
   "metadata": {},
   "outputs": [],
   "source": []
  },
  {
   "cell_type": "code",
   "execution_count": null,
   "metadata": {},
   "outputs": [],
   "source": []
  },
  {
   "cell_type": "code",
   "execution_count": null,
   "metadata": {},
   "outputs": [],
   "source": []
  },
  {
   "cell_type": "code",
   "execution_count": null,
   "metadata": {},
   "outputs": [],
   "source": []
  },
  {
   "cell_type": "code",
   "execution_count": null,
   "metadata": {},
   "outputs": [],
   "source": []
  },
  {
   "cell_type": "code",
   "execution_count": null,
   "metadata": {},
   "outputs": [],
   "source": []
  }
 ],
 "metadata": {
  "kernelspec": {
   "display_name": "Python 3",
   "language": "python",
   "name": "python3"
  },
  "language_info": {
   "codemirror_mode": {
    "name": "ipython",
    "version": 3
   },
   "file_extension": ".py",
   "mimetype": "text/x-python",
   "name": "python",
   "nbconvert_exporter": "python",
   "pygments_lexer": "ipython3",
   "version": "3.8.5"
  }
 },
 "nbformat": 4,
 "nbformat_minor": 4
}
