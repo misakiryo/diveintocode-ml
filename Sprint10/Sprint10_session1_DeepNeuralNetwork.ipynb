{
 "cells": [
  {
   "cell_type": "code",
   "execution_count": 1,
   "metadata": {},
   "outputs": [],
   "source": [
    "#先輩のを模写してコードリーディング"
   ]
  },
  {
   "cell_type": "code",
   "execution_count": 6,
   "metadata": {},
   "outputs": [],
   "source": [
    "import numpy as np\n",
    "import matplotlib.pyplot as plt\n",
    "import math\n",
    "\n",
    "from sklearn.model_selection import train_test_split\n",
    "from sklearn.preprocessing import OneHotEncoder\n",
    "\n",
    "from keras.datasets import mnist\n",
    "\n",
    "from sklearn.metrics import accuracy_score\n",
    "from sklearn.metrics import precision_score\n",
    "from sklearn.metrics import recall_score\n",
    "from sklearn.metrics import f1_score\n",
    "from sklearn.metrics import confusion_matrix"
   ]
  },
  {
   "cell_type": "code",
   "execution_count": 7,
   "metadata": {},
   "outputs": [],
   "source": [
    "(X_train, y_train), (X_test, y_test) = mnist.load_data()"
   ]
  },
  {
   "cell_type": "code",
   "execution_count": 8,
   "metadata": {},
   "outputs": [
    {
     "name": "stdout",
     "output_type": "stream",
     "text": [
      "(60000, 28, 28)\n",
      "(10000, 28, 28)\n",
      "uint8\n"
     ]
    }
   ],
   "source": [
    "print(X_train.shape)\n",
    "print(X_test.shape)\n",
    "print(X_train[0].dtype)"
   ]
  },
  {
   "cell_type": "code",
   "execution_count": 9,
   "metadata": {},
   "outputs": [],
   "source": [
    "X_train = X_train.reshape(-1, 784)\n",
    "X_test = X_test.reshape(-1, 784)\n",
    "\n",
    "X_train = X_train.astype(np.float)\n",
    "X_test = X_test.astype(np.float)\n",
    "X_train /= 255\n",
    "X_test /= 255\n",
    "\n",
    "\n",
    "enc = OneHotEncoder(handle_unknown='ignore', sparse=False)\n",
    "y_train_one_hot = enc.fit_transform(y_train[:, np.newaxis])\n",
    "y_test_one_hot = enc.transform(y_test[:, np.newaxis])\n",
    "\n",
    "X_train_, X_val, y_train_, y_val = train_test_split(X_train, y_train_one_hot, test_size=0.2)"
   ]
  },
  {
   "cell_type": "code",
   "execution_count": 10,
   "metadata": {},
   "outputs": [],
   "source": [
    "#Problem 1.\n",
    "\n",
    "class FC:\n",
    "    \"\"\"\n",
    "    ノード数n_nodes1からn_nodes2への全結合層\n",
    "    Parameters\n",
    "    ----------\n",
    "    n_nodes1 : int\n",
    "      前の層のノード数\n",
    "    n_nodes2 : int\n",
    "      後の層のノード数\n",
    "    initializer : 初期化方法のインスタンス\n",
    "    optimizer : 最適化手法のインスタンス\n",
    "    \"\"\"\n",
    "    def __init__(self, n_nodes1, n_nodes2, initializer, optimizer):\n",
    "        self.optimizer = optimizer \n",
    "        self.W = initializer.W(n_nodes1, n_nodes2)# initializerのメソッドを使い、self.Wとself.Bを初期化する\n",
    "        self.B = initializer.B(n_nodes2) \n",
    "        \n",
    "    def forward(self, X):\n",
    "        \"\"\"\n",
    "        フォワード\n",
    "        Parameters\n",
    "        ----------\n",
    "        X : 次の形のndarray, shape (batch_size, n_nodes1)\n",
    "            入力\n",
    "        Returns\n",
    "        ----------\n",
    "        A : 次の形のndarray, shape (batch_size, n_nodes2)\n",
    "            出力\n",
    "        \"\"\"        \n",
    "        self.X = X\n",
    "        A = X@self.W + self.B\n",
    "        return A\n",
    "    \n",
    "    def backward(self, dA):\n",
    "        \"\"\"\n",
    "        バックワード\n",
    "        Parameters\n",
    "        ----------\n",
    "        dA : 次の形のndarray, shape (batch_size, n_nodes2)\n",
    "            後ろから流れてきた勾配\n",
    "        Returns\n",
    "        ----------\n",
    "        dZ : 次の形のndarray, shape (batch_size, n_nodes1)\n",
    "            前に流す勾配\n",
    "        \"\"\"\n",
    "        dZ = dA@self.W.T\n",
    "        self.dB = np.sum(dA, axis =0)\n",
    "        self.dW = self.X.T@dA\n",
    "        self.optimizer.update(self)# 更新\n",
    "        return dZ"
   ]
  },
  {
   "cell_type": "code",
   "execution_count": 11,
   "metadata": {},
   "outputs": [],
   "source": [
    "#Problem 2.\n",
    "class SimpleInitializer:\n",
    "    \"\"\"\n",
    "    ガウス分布によるシンプルな初期化\n",
    "    Parameters\n",
    "    ----------\n",
    "    sigma : float\n",
    "      ガウス分布の標準偏差\n",
    "    \"\"\"\n",
    "    def __init__(self, sigma):\n",
    "        self.sigma = sigma\n",
    "    def W(self, n_nodes1, n_nodes2):\n",
    "        \"\"\"\n",
    "        重みの初期化\n",
    "        Parameters\n",
    "        ----------\n",
    "        n_nodes1 : int\n",
    "          前の層のノード数\n",
    "        n_nodes2 : int\n",
    "          後の層のノード数\n",
    "        Returns\n",
    "        ----------\n",
    "        W :(n_nodes1, n_nodes2)\n",
    "        \"\"\"\n",
    "        W = self.sigma * np.random.randn(n_nodes1, n_nodes2)\n",
    "        return W\n",
    "    def B(self, n_nodes2):\n",
    "        \"\"\"\n",
    "        バイアスの初期化\n",
    "        Parameters\n",
    "        ----------\n",
    "        n_nodes2 : int\n",
    "          後の層のノード数\n",
    "        Returns\n",
    "        ----------\n",
    "        B : (n_nodes2, )\n",
    "        \"\"\"\n",
    "        B = self.sigma * np.random.randn(n_nodes2)\n",
    "        return B"
   ]
  },
  {
   "cell_type": "code",
   "execution_count": 12,
   "metadata": {},
   "outputs": [],
   "source": [
    "#Problem .3\n",
    "class SGD:\n",
    "    \"\"\"\n",
    "    確率的勾配降下法\n",
    "    Parameters\n",
    "    ----------\n",
    "    lr : 学習率\n",
    "    \"\"\"\n",
    "    def __init__(self, lr):\n",
    "        self.lr = lr\n",
    "        \n",
    "    def update(self, layer):\n",
    "        \"\"\"\n",
    "        ある層の重みやバイアスの更新\n",
    "        Parameters\n",
    "        ----------\n",
    "        layer : 更新前の層のインスタンス\n",
    "        \"\"\"\n",
    "        layer.W -= self.lr * layer.dW\n",
    "        layer.B -= self.lr * layer.dB\n",
    "        \n",
    "        return"
   ]
  },
  {
   "cell_type": "code",
   "execution_count": 13,
   "metadata": {},
   "outputs": [],
   "source": [
    "#Ploblem 4.\n",
    "\n",
    "class Sigmoid:\n",
    "    \n",
    "    def forward(self, A):\n",
    "        self.A = A\n",
    "        return self.sigmoid(A)\n",
    "    \n",
    "    def backward(self, dZ):\n",
    "        _sig = self.sigmoid(self.A)\n",
    "        return dZ * (1 - _sig) * _sig\n",
    "    \n",
    "    def sigmoid(self, X):\n",
    "        return 1 / (1 + np.exp(-X))"
   ]
  },
  {
   "cell_type": "code",
   "execution_count": 14,
   "metadata": {},
   "outputs": [],
   "source": [
    "#Ploblem 4.\n",
    "\n",
    "class Tanh:\n",
    "    \n",
    "    def forward(self, A):\n",
    "        self.A = A\n",
    "        return np.tanh(A)\n",
    "    \n",
    "    def backward(self, dZ):\n",
    "        return dZ * (1 - (np.tanh(self.A))**2)"
   ]
  },
  {
   "cell_type": "code",
   "execution_count": 15,
   "metadata": {},
   "outputs": [],
   "source": [
    "# Problem 4.\n",
    "\n",
    "class Softmax:\n",
    "    \n",
    "    def forward(self, X):\n",
    "        self.Z = np.exp(X) / np.sum(np.exp(X), axis =1).reshape(-1, 1)\n",
    "        return self.Z\n",
    "    \n",
    "    def backward(self, Y):\n",
    "        self.loss = self.loss_func(Y)\n",
    "        return self.Z - Y\n",
    "    \n",
    "    def loss_func(self, Y, Z=None):\n",
    "        \"\"\"\n",
    "        y_true : (n_samples, n_output)\n",
    "        z : (n_samples, n_output)\n",
    "        \"\"\"\n",
    "        if Z is None:\n",
    "            Z = self.Z\n",
    "        return (-1) * np.average(np.sum(Y * np.log(Z), axis =1))"
   ]
  },
  {
   "cell_type": "code",
   "execution_count": 16,
   "metadata": {},
   "outputs": [],
   "source": [
    "#Problem 5.\n",
    "\n",
    "class ReLU:\n",
    "    def forward(self, A):\n",
    "        self.A = A\n",
    "        return np.clip(A, 0, None)\n",
    "    \n",
    "    def backward(self, dZ):\n",
    "        return dZ * np.clip(np.sign(self.A), 0, None)"
   ]
  },
  {
   "cell_type": "code",
   "execution_count": 17,
   "metadata": {},
   "outputs": [],
   "source": [
    "#Problem 6.\n",
    "\n",
    "class XavierInitializer:\n",
    "    def W(self, n_nodes1, n_nodes2):\n",
    "        self.sigma = math.sqrt(1 / n_nodes1)\n",
    "        W = self.sigma * np.random.randn(n_nodes1, n_nodes2)\n",
    "        return W    \n",
    "    def B(self, n_nodes2):\n",
    "        B = self.sigma * np.random.randn(n_nodes2)\n",
    "        return B"
   ]
  },
  {
   "cell_type": "code",
   "execution_count": 18,
   "metadata": {},
   "outputs": [],
   "source": [
    "class HeInitializer():\n",
    "    def W(self, n_nodes1, n_nodes2):\n",
    "        self.sigma = math.sqrt(2 / n_nodes1)\n",
    "        W = self.sigma * np.random.randn(n_nodes1, n_nodes2)\n",
    "        return W\n",
    "    def B(self, n_nodes2):\n",
    "        B = self.sigma * np.random.randn(n_nodes2)\n",
    "        return B"
   ]
  },
  {
   "cell_type": "code",
   "execution_count": 19,
   "metadata": {},
   "outputs": [],
   "source": [
    "#Problem 7.\n",
    "class AdaGrad:\n",
    "\n",
    "    def __init__(self, lr):\n",
    "        self.lr = lr\n",
    "        self.HW = 1\n",
    "        self.HB = 1\n",
    "        \n",
    "    def update(self, layer):\n",
    "        self.HW += layer.dW **2\n",
    "        self.HB += layer.dB **2\n",
    "        layer.W -= self.lr * np.sqrt(1 / self.HW) * layer.dW\n",
    "        layer.B -= self.lr * np.sqrt(1 / self.HB) * layer.dB"
   ]
  },
  {
   "cell_type": "code",
   "execution_count": 49,
   "metadata": {},
   "outputs": [],
   "source": [
    "#Problem 8.\n",
    "class ScratchDeepNeuralNetworkClassifier:\n",
    "    \n",
    "    def __init__(self, num_epoch = 10, lr = 0.01, batch_size = 20,\n",
    "                n_features = 784, n_nodes1 = 400, n_nodes2 = 200, n_output = 10,\n",
    "                verbose = True, activater =Tanh, optimizer = AdaGrad):\n",
    "        self.num_epoch = num_epoch\n",
    "        self.lr = lr\n",
    "        self.verbose = verbose\n",
    "        \n",
    "        self.batch_size = batch_size #バッチサイズ\n",
    "        self.n_features = n_features #特徴量の数\n",
    "        self.n_nodes1 = n_nodes1 #1層目のノード数\n",
    "        self.n_nodes2 = n_nodes2 #2層目のノード数\n",
    "        self.n_output = n_output #出力のクラス数(3層目のノード数)\n",
    "        \n",
    "        self.activater = activater\n",
    "        if activater == Sigmoid or activater == Tanh:\n",
    "            self.initializer = XavierInitializer\n",
    "        elif activater == ReLU:\n",
    "            self.initializer = HeinItializer\n",
    "        else:\n",
    "            print('活性化関数が不適切')\n",
    "        self.optimizer = optimizer\n",
    "    \n",
    "    def fit(self, X, y, X_val =None, y_val =None):\n",
    "        \n",
    "        self.val_enable = False\n",
    "        if X_val is not None:\n",
    "            self.val_enable = True\n",
    "            \n",
    "        #optimizer = self.optimizer(self.lr)\n",
    "        self.FC1 = FC(self.n_features, self.n_nodes1, self.initializer(), self.optimizer(self.lr))\n",
    "        self.activation1 = self.activater()\n",
    "        self.FC2 = FC(self.n_nodes1, self.n_nodes2, self.initializer(), self.optimizer(self.lr))\n",
    "        self.activation2 = self.activater()\n",
    "        self.FC3 = FC(self.n_nodes2, self.n_output, self.initializer(), self.optimizer(self.lr))\n",
    "        self.activation3 = Softmax()\n",
    "        \n",
    "        self.loss = []\n",
    "        self.loss_epoch = [self.activation3.loss_func(y, self.forward_propagation(X))]\n",
    "        for _ in range(self.num_epoch):\n",
    "            get_mini_batch = GetMiniBatch(X, y, batch_size = self.batch_size)\n",
    "            self.iter = len(get_mini_batch)\n",
    "            for mini_X, mini_y in get_mini_batch:\n",
    "                self.forward_propagation(mini_X)\n",
    "                self.back_propagation(mini_X, mini_y)\n",
    "                self.loss.append(self.activation3.loss)\n",
    "            self.loss_epoch.append(self.activation3.loss_func(y, self.forward_propagation(X)))\n",
    "            \n",
    "        if self.verbose:\n",
    "            self.learning_curve()\n",
    "            print()\n",
    "            \n",
    "    def predict(self, X):\n",
    "        return np.argmax(self.forward_propagation(X), axis =1)\n",
    "    \n",
    "    def forward_propagation(self, X):\n",
    "        A1 = self.FC1.forward(X)\n",
    "        Z1 = self.activation1.forward(A1)\n",
    "        A2 = self.FC2.forward(Z1)\n",
    "        Z2 = self.activation2.forward(A2)\n",
    "        A3 = self.FC3.forward(Z2)\n",
    "        Z3 = self.activation3.forward(A3)\n",
    "        return Z3\n",
    "    \n",
    "    def back_propagation(self, X, y_true):\n",
    "        dA3 = self.activation3.backward(y_true) #交差エントロピー誤差とソフトマックスを併せている\n",
    "        dZ2 = self.FC3.backward(dA3)\n",
    "        dA2 = self.activation2.backward(dZ2)\n",
    "        dZ1 = self.FC2.backward(dA2)\n",
    "        dA1 = self.activation1.backward(dZ1)\n",
    "        dZ0 = self.FC1.backward(dA1) #dZ0は使用しない\n",
    "        \n",
    "    def learning_curve(self):\n",
    "        plt.title('model loss')\n",
    "        plt.xlabel('num_epoch')\n",
    "        plt.ylabel('loss')\n",
    "        plt.plot(np.arange(1, self.num_epoch * self.iter + 1), self.loss, label='train_loss')\n",
    "        plt.plot(np.arange(0, self.num_epoch + 1) * self.iter, self.loss_epoch, label='epoch_loss')\n",
    "        if self.val_enable:\n",
    "            plt.plot(np.arange(1, self.num_epoch + 1), self.val_loss, label = 'val_loss')\n",
    "        plt.legend()\n",
    "        plt.show()\n",
    "        return"
   ]
  },
  {
   "cell_type": "code",
   "execution_count": 50,
   "metadata": {},
   "outputs": [],
   "source": [
    "# ミニバッチ処理のクラス\n",
    "class GetMiniBatch:\n",
    "    \"\"\"\n",
    "    ミニバッチを取得するイテレータ\n",
    "\n",
    "    Parameters\n",
    "    ----------\n",
    "    X : 次の形のndarray, shape (n_samples, n_features)\n",
    "      訓練データ\n",
    "    y : 次の形のndarray, shape (n_samples, 1)\n",
    "      正解値\n",
    "    batch_size : int\n",
    "      バッチサイズ\n",
    "    seed : int\n",
    "      NumPyの乱数のシード\n",
    "    \"\"\"\n",
    "    def __init__(self, X, y, batch_size = 20, seed=None):\n",
    "        self.batch_size = batch_size\n",
    "        np.random.seed(seed)\n",
    "        shuffle_index = np.random.permutation(np.arange(X.shape[0]))\n",
    "        self._X = X[shuffle_index]\n",
    "        self._y = y[shuffle_index]\n",
    "        self._stop = np.ceil(X.shape[0]/self.batch_size).astype(np.int)\n",
    "        \n",
    "    def __len__(self):\n",
    "        return self._stop\n",
    "    \n",
    "    def __getitem__(self,item):\n",
    "        p0 = item*self.batch_size\n",
    "        p1 = item*self.batch_size + self.batch_size\n",
    "        return self._X[p0:p1], self._y[p0:p1] \n",
    "    \n",
    "    def __iter__(self):\n",
    "        self._counter = 0\n",
    "        return self\n",
    "    \n",
    "    def __next__(self):\n",
    "        if self._counter >= self._stop:\n",
    "            raise StopIteration()\n",
    "        p0 = self._counter*self.batch_size\n",
    "        p1 = self._counter*self.batch_size + self.batch_size\n",
    "        self._counter += 1\n",
    "        return self._X[p0:p1], self._y[p0:p1]"
   ]
  },
  {
   "cell_type": "code",
   "execution_count": 51,
   "metadata": {},
   "outputs": [],
   "source": [
    "#Problem 9.\n",
    "def evaluate(y_true, y_pred):\n",
    "    print('accuracy = ', accuracy_score(y_true, y_pred))\n",
    "    print('precision = ', precision_score(y_true, y_pred, average = 'macro'))\n",
    "    print('recall = ', recall_score(y_true, y_pred, average = 'macro'))\n",
    "    print('f1 = ', f1_score(y_true, y_pred, average= 'macro'))\n",
    "    print(confusion_matrix(y_true, y_pred))"
   ]
  },
  {
   "cell_type": "markdown",
   "metadata": {},
   "source": [
    "#### scratch_dnn(num_epoch=5, lr=1e-2, Activater=Tanh, Optimizer=SGD"
   ]
  },
  {
   "cell_type": "code",
   "execution_count": 52,
   "metadata": {},
   "outputs": [
    {
     "data": {
      "image/png": "[encoded data removed]",
      "text/plain": [
       "<Figure size 432x288 with 1 Axes>"
      ]
     },
     "metadata": {
      "needs_background": "light"
     },
     "output_type": "display_data"
    },
    {
     "name": "stdout",
     "output_type": "stream",
     "text": [
      "\n"
     ]
    }
   ],
   "source": [
    "scratch_dnn1 = ScratchDeepNeuralNetworkClassifier(num_epoch=5, lr= 0.01, batch_size=20, \n",
    "                                                 n_features=784, n_nodes1 =400, n_nodes2=200, n_output=10,\n",
    "                                                 verbose = True, activater = Tanh, optimizer=SGD)\n",
    "\n",
    "scratch_dnn1.fit(X_train_, y_train_)"
   ]
  },
  {
   "cell_type": "code",
   "execution_count": 53,
   "metadata": {},
   "outputs": [],
   "source": [
    "y_pred1 = scratch_dnn1.predict(X_test)"
   ]
  },
  {
   "cell_type": "code",
   "execution_count": 54,
   "metadata": {},
   "outputs": [
    {
     "name": "stdout",
     "output_type": "stream",
     "text": [
      "accuracy =  0.9696\n",
      "precision =  0.970366816830221\n",
      "recall =  0.9693152013855413\n",
      "f1 =  0.9695854778794166\n",
      "[[ 963    1    3    2    0    6    2    2    1    0]\n",
      " [   0 1129    1    0    0    1    1    1    2    0]\n",
      " [   6    6  999    5    3    0    1    7    5    0]\n",
      " [   0    2    4  976    0    7    0    4    3   14]\n",
      " [   0    0    3    1  927    1    3    1    0   46]\n",
      " [   1    1    0    7    0  865    6    1    2    9]\n",
      " [   4    3    1    0    2    5  941    0    2    0]\n",
      " [   0   12   13    2    1    0    0  974    1   25]\n",
      " [   2    2    5   14    2    5    3    3  930    8]\n",
      " [   1    2    0    3    5    3    0    3    0  992]]\n"
     ]
    }
   ],
   "source": [
    "evaluate(y_test, y_pred1)"
   ]
  },
  {
   "cell_type": "markdown",
   "metadata": {},
   "source": [
    "#### scratch_dnn3(num_epoch=20, lr=1e-2, Activater=Tanh, Optimizer=SGD"
   ]
  },
  {
   "cell_type": "code",
   "execution_count": 55,
   "metadata": {},
   "outputs": [
    {
     "data": {
      "image/png": "[encoded data removed]",
      "text/plain": [
       "<Figure size 432x288 with 1 Axes>"
      ]
     },
     "metadata": {
      "needs_background": "light"
     },
     "output_type": "display_data"
    },
    {
     "name": "stdout",
     "output_type": "stream",
     "text": [
      "\n"
     ]
    }
   ],
   "source": [
    "scratch_dnn3 = ScratchDeepNeuralNetworkClassifier(num_epoch=20, lr=0.01, batch_size=20,\n",
    "                                                 n_features = 784, n_nodes1=400, n_nodes2=200, n_output=10,\n",
    "                                                 verbose=True, activater=Tanh, optimizer=SGD)\n",
    "scratch_dnn3.fit(X_train_, y_train_)"
   ]
  },
  {
   "cell_type": "code",
   "execution_count": 56,
   "metadata": {},
   "outputs": [],
   "source": [
    "y_pred3 = scratch_dnn3.predict(X_test)"
   ]
  },
  {
   "cell_type": "code",
   "execution_count": 57,
   "metadata": {},
   "outputs": [
    {
     "name": "stdout",
     "output_type": "stream",
     "text": [
      "accuracy =  0.9813\n",
      "precision =  0.9811983704476155\n",
      "recall =  0.9811396286412597\n",
      "f1 =  0.9811621433601683\n",
      "[[ 973    0    1    1    0    3    0    1    0    1]\n",
      " [   0 1125    2    2    0    1    2    1    2    0]\n",
      " [   5    0 1010    3    2    0    2    5    4    1]\n",
      " [   0    0    5  991    0    4    0    3    3    4]\n",
      " [   0    0    2    0  962    0    5    4    0    9]\n",
      " [   3    0    0    7    2  869    5    1    2    3]\n",
      " [   4    2    1    1    2    4  943    0    1    0]\n",
      " [   2    4    7    2    1    0    0 1006    2    4]\n",
      " [   2    1    5    3    3    3    1    1  953    2]\n",
      " [   3    2    0    5    8    2    1    6    1  981]]\n"
     ]
    }
   ],
   "source": [
    "evaluate(y_test, y_pred3)"
   ]
  },
  {
   "cell_type": "markdown",
   "metadata": {},
   "source": [
    "#### scratch_dnn9(num_epoch=5, lr=1e-2, Activater=Sigmoid, Optimizer=SGD)"
   ]
  },
  {
   "cell_type": "code",
   "execution_count": 64,
   "metadata": {},
   "outputs": [
    {
     "data": {
      "image/png": "[encoded data removed]",
      "text/plain": [
       "<Figure size 432x288 with 1 Axes>"
      ]
     },
     "metadata": {
      "needs_background": "light"
     },
     "output_type": "display_data"
    },
    {
     "name": "stdout",
     "output_type": "stream",
     "text": [
      "\n"
     ]
    }
   ],
   "source": [
    "scratch_dnn9 = ScratchDeepNeuralNetworkClassifier(num_epoch=5, lr=0.01, batch_size=20, \n",
    "                                                 n_features=784, n_nodes1=400, n_nodes2=200, n_output=10, \n",
    "                                                 verbose = True, activater=Sigmoid, optimizer=SGD)\n",
    "scratch_dnn9.fit(X_train_, y_train_)"
   ]
  },
  {
   "cell_type": "code",
   "execution_count": 65,
   "metadata": {},
   "outputs": [],
   "source": [
    "y_pred9 = scratch_dnn9.predict(X_test)"
   ]
  },
  {
   "cell_type": "code",
   "execution_count": 66,
   "metadata": {},
   "outputs": [
    {
     "name": "stdout",
     "output_type": "stream",
     "text": [
      "accuracy =  0.9567\n",
      "precision =  0.9564671692743707\n",
      "recall =  0.9563845487832603\n",
      "f1 =  0.9562507168359202\n",
      "[[ 965    0    1    2    0    6    3    2    1    0]\n",
      " [   0 1119    2    2    0    1    4    0    7    0]\n",
      " [   6    1  995    8    3    1    9    3    6    0]\n",
      " [   1    1    7  978    0    8    0    6    9    0]\n",
      " [   1    1    9    1  931    2    9    2    6   20]\n",
      " [   6    1    2   12    2  851    8    0    7    3]\n",
      " [  12    3    2    2    3   12  917    0    7    0]\n",
      " [   1   12   23   12    3    3    0  959    1   14]\n",
      " [   4    1    5   13    3    8    7    3  930    0]\n",
      " [   6    8    0   15   21   11    1    7   18  922]]\n"
     ]
    }
   ],
   "source": [
    "evaluate(y_test, y_pred9)"
   ]
  },
  {
   "cell_type": "markdown",
   "metadata": {},
   "source": [
    "#### scratch_dnn10(num_epoch=20, lr=1e-2, Activater=Sigmoid, Optimizer=SGD"
   ]
  },
  {
   "cell_type": "code",
   "execution_count": 61,
   "metadata": {},
   "outputs": [
    {
     "data": {
      "image/png": "[encoded data removed]",
      "text/plain": [
       "<Figure size 432x288 with 1 Axes>"
      ]
     },
     "metadata": {
      "needs_background": "light"
     },
     "output_type": "display_data"
    },
    {
     "name": "stdout",
     "output_type": "stream",
     "text": [
      "\n"
     ]
    }
   ],
   "source": [
    "scratch_dnn10= ScratchDeepNeuralNetworkClassifier(num_epoch=20, lr =0.01, batch_size=20, \n",
    "                                                 n_features=784, n_nodes1=400, n_nodes2=200, n_output=10, \n",
    "                                                 verbose=True, activater=Sigmoid, optimizer=SGD)\n",
    "scratch_dnn10.fit(X_train_, y_train_)"
   ]
  },
  {
   "cell_type": "code",
   "execution_count": 62,
   "metadata": {},
   "outputs": [],
   "source": [
    "y_pred10 = scratch_dnn10.predict(X_test)"
   ]
  },
  {
   "cell_type": "code",
   "execution_count": 63,
   "metadata": {},
   "outputs": [
    {
     "name": "stdout",
     "output_type": "stream",
     "text": [
      "accuracy =  0.9767\n",
      "precision =  0.9767839795948848\n",
      "recall =  0.9763103597360916\n",
      "f1 =  0.9764291118591302\n",
      "[[ 968    0    3    2    2    3    1    1    0    0]\n",
      " [   0 1126    4    1    0    1    2    0    1    0]\n",
      " [   3    0 1015    3    2    0    1    5    3    0]\n",
      " [   0    0    4  997    0    2    0    3    3    1]\n",
      " [   1    0    4    0  966    0    5    2    0    4]\n",
      " [   7    0    0   15    2  859    4    1    1    3]\n",
      " [   5    3    1    1    4    4  939    0    1    0]\n",
      " [   1    2    7    4    0    0    0 1010    1    3]\n",
      " [   8    0    7   13    4    4    3    3  929    3]\n",
      " [   3    4    0    7   22    2    1   10    2  958]]\n"
     ]
    }
   ],
   "source": [
    "evaluate(y_test, y_pred10)"
   ]
  },
  {
   "cell_type": "markdown",
   "metadata": {},
   "source": [
    "#### scratch_dnn2(num_epoch=5, lr=1e-2, Activater=Tanh, Optimizer=AdaGrad)"
   ]
  },
  {
   "cell_type": "code",
   "execution_count": 67,
   "metadata": {},
   "outputs": [
    {
     "data": {
      "image/png": "[encoded data removed]",
      "text/plain": [
       "<Figure size 432x288 with 1 Axes>"
      ]
     },
     "metadata": {
      "needs_background": "light"
     },
     "output_type": "display_data"
    },
    {
     "name": "stdout",
     "output_type": "stream",
     "text": [
      "\n"
     ]
    }
   ],
   "source": [
    "scratch_dnn2 = ScratchDeepNeuralNetworkClassifier(num_epoch=5, lr =0.01, batch_size=20, \n",
    "                                                 n_features=784, n_nodes1=400, n_nodes2=200, n_output=10, \n",
    "                                                 verbose=True, activater=Tanh, optimizer=AdaGrad)\n",
    "scratch_dnn2.fit(X_train_, y_train_)"
   ]
  },
  {
   "cell_type": "code",
   "execution_count": 68,
   "metadata": {},
   "outputs": [],
   "source": [
    "y_pred2 = scratch_dnn2.predict(X_test)"
   ]
  },
  {
   "cell_type": "code",
   "execution_count": 69,
   "metadata": {},
   "outputs": [
    {
     "name": "stdout",
     "output_type": "stream",
     "text": [
      "accuracy =  0.9688\n",
      "precision =  0.9687028948136494\n",
      "recall =  0.9684659533898762\n",
      "f1 =  0.9685461666777954\n",
      "[[ 970    0    1    1    0    3    2    1    1    1]\n",
      " [   0 1124    2    1    0    1    4    2    1    0]\n",
      " [   7    1  988    6    5    0    4   10   11    0]\n",
      " [   0    0    3  984    0    5    0    9    7    2]\n",
      " [   1    0    5    0  943    0    8    4    2   19]\n",
      " [   6    1    0   11    2  853    8    1    5    5]\n",
      " [   9    3    1    1    2    4  934    0    4    0]\n",
      " [   0    5   10    3    2    1    0  989    1   17]\n",
      " [   5    3    3    7    3    5    4    6  936    2]\n",
      " [   5    5    1    6   14    3    0    8    0  967]]\n"
     ]
    }
   ],
   "source": [
    "evaluate(y_test, y_pred2)"
   ]
  },
  {
   "cell_type": "markdown",
   "metadata": {},
   "source": [
    "#### scratch_dnn4(num_epoch=20, lr=1e-2, Activater=Tanh, Optimizer=AdaGrad)"
   ]
  },
  {
   "cell_type": "code",
   "execution_count": 70,
   "metadata": {},
   "outputs": [
    {
     "data": {
      "image/png": "[encoded data removed]",
      "text/plain": [
       "<Figure size 432x288 with 1 Axes>"
      ]
     },
     "metadata": {
      "needs_background": "light"
     },
     "output_type": "display_data"
    },
    {
     "name": "stdout",
     "output_type": "stream",
     "text": [
      "\n"
     ]
    }
   ],
   "source": [
    "scratch_dnn4 = ScratchDeepNeuralNetworkClassifier(num_epoch=20, lr=0.01, batch_size=20, \n",
    "                                                  n_features=784, n_nodes1=400, n_nodes2=200, n_output=10, \n",
    "                                                  verbose=True, activater=Tanh, optimizer=AdaGrad)\n",
    "scratch_dnn4.fit(X_train_, y_train_)"
   ]
  },
  {
   "cell_type": "code",
   "execution_count": 71,
   "metadata": {},
   "outputs": [],
   "source": [
    "y_pred4 = scratch_dnn4.predict(X_test)"
   ]
  },
  {
   "cell_type": "code",
   "execution_count": 72,
   "metadata": {},
   "outputs": [
    {
     "name": "stdout",
     "output_type": "stream",
     "text": [
      "accuracy =  0.9773\n",
      "precision =  0.9773078549310945\n",
      "recall =  0.9770239142354307\n",
      "f1 =  0.9771399202513619\n",
      "[[ 972    0    1    1    1    2    0    1    1    1]\n",
      " [   0 1123    3    1    0    1    3    1    3    0]\n",
      " [   4    0 1009    5    2    0    2    5    5    0]\n",
      " [   0    0    4  994    0    1    0    5    4    2]\n",
      " [   1    0    3    1  959    0    3    2    1   12]\n",
      " [   4    0    0   14    2  860    3    1    4    4]\n",
      " [   6    3    2    1    2    5  936    0    3    0]\n",
      " [   2    4    8    2    1    0    0  998    2   11]\n",
      " [   2    2    4    5    4    4    2    3  946    2]\n",
      " [   2    5    0    6    8    2    1    5    4  976]]\n"
     ]
    }
   ],
   "source": [
    "evaluate(y_test, y_pred4)"
   ]
  },
  {
   "cell_type": "markdown",
   "metadata": {},
   "source": [
    "#### scratch_dnn7(num_epoch=5, lr=0.1, Activater=Tanh, Optimizer=AdaGrad)"
   ]
  },
  {
   "cell_type": "code",
   "execution_count": 73,
   "metadata": {},
   "outputs": [
    {
     "data": {
      "image/png": "[encoded data removed]",
      "text/plain": [
       "<Figure size 432x288 with 1 Axes>"
      ]
     },
     "metadata": {
      "needs_background": "light"
     },
     "output_type": "display_data"
    },
    {
     "name": "stdout",
     "output_type": "stream",
     "text": [
      "\n"
     ]
    }
   ],
   "source": [
    "scratch_dnn7 = ScratchDeepNeuralNetworkClassifier(num_epoch=5, lr=0.1, batch_size=20, \n",
    "                                                  n_features=784, n_nodes1=400, n_nodes2=200, n_output=10, \n",
    "                                                  verbose=True, activater=Tanh, optimizer=AdaGrad)\n",
    "scratch_dnn7.fit(X_train_, y_train_)"
   ]
  },
  {
   "cell_type": "code",
   "execution_count": 74,
   "metadata": {},
   "outputs": [],
   "source": [
    "y_pred7 = scratch_dnn7.predict(X_test)"
   ]
  },
  {
   "cell_type": "code",
   "execution_count": 75,
   "metadata": {},
   "outputs": [
    {
     "name": "stdout",
     "output_type": "stream",
     "text": [
      "accuracy =  0.9727\n",
      "precision =  0.9725036849971318\n",
      "recall =  0.9725239506893197\n",
      "f1 =  0.9724462908492957\n",
      "[[ 962    0    0    2    0    6    5    1    2    2]\n",
      " [   0 1124    1    2    0    1    2    1    4    0]\n",
      " [   4    3  994   14    3    1    2    6    5    0]\n",
      " [   0    0    5  989    0    5    0    4    5    2]\n",
      " [   1    0    0    1  959    1    6    1    0   13]\n",
      " [   4    0    0    7    2  868    5    0    3    3]\n",
      " [   3    2    1    0    7   11  931    0    3    0]\n",
      " [   0    6    7   11    1    2    0  987    0   14]\n",
      " [   2    0    2   11    3    8    5    1  937    5]\n",
      " [   2    3    0    9    8    5    1    3    2  976]]\n"
     ]
    }
   ],
   "source": [
    "evaluate(y_test, y_pred7)"
   ]
  },
  {
   "cell_type": "markdown",
   "metadata": {},
   "source": [
    "#### scratch_dnn8(num_epoch=20, lr=0.1, Activater=Tanh, Optimizer=AdaGrad)"
   ]
  },
  {
   "cell_type": "code",
   "execution_count": 76,
   "metadata": {},
   "outputs": [
    {
     "data": {
      "image/png": "[encoded data removed]",
      "text/plain": [
       "<Figure size 432x288 with 1 Axes>"
      ]
     },
     "metadata": {
      "needs_background": "light"
     },
     "output_type": "display_data"
    },
    {
     "name": "stdout",
     "output_type": "stream",
     "text": [
      "\n"
     ]
    }
   ],
   "source": [
    "scratch_dnn8 = ScratchDeepNeuralNetworkClassifier(num_epoch=20, lr=0.1, batch_size=20, \n",
    "                                                  n_features=784, n_nodes1=400, n_nodes2=200, n_output=10, \n",
    "                                                  verbose=True, activater=Tanh, optimizer=AdaGrad)\n",
    "scratch_dnn8.fit(X_train_, y_train_)"
   ]
  },
  {
   "cell_type": "code",
   "execution_count": 77,
   "metadata": {},
   "outputs": [],
   "source": [
    "y_pred8 = scratch_dnn8.predict(X_test)"
   ]
  },
  {
   "cell_type": "code",
   "execution_count": 78,
   "metadata": {},
   "outputs": [
    {
     "name": "stdout",
     "output_type": "stream",
     "text": [
      "accuracy =  0.9793\n",
      "precision =  0.9792358884081175\n",
      "recall =  0.9790606629644859\n",
      "f1 =  0.979137405721789\n",
      "[[ 969    0    1    0    0    2    3    1    2    2]\n",
      " [   0 1125    2    2    0    1    2    1    2    0]\n",
      " [   6    0 1012    3    1    0    1    7    2    0]\n",
      " [   0    0    5  989    0    3    0    5    4    4]\n",
      " [   1    0    1    0  958    0    7    4    1   10]\n",
      " [   3    0    0   10    2  864    5    1    4    3]\n",
      " [   4    3    1    0    4    3  941    1    1    0]\n",
      " [   2    6    7    2    1    0    0 1001    1    8]\n",
      " [   3    0    2    4    3    3    2    3  952    2]\n",
      " [   3    3    0    5    7    3    1    4    1  982]]\n"
     ]
    }
   ],
   "source": [
    "evaluate(y_test, y_pred8)"
   ]
  },
  {
   "cell_type": "markdown",
   "metadata": {},
   "source": [
    "#### scratch_dnn5(num_epoch=5, lr=1e-2, Activater=ReLU, Optimizer=SGD)"
   ]
  },
  {
   "cell_type": "code",
   "execution_count": null,
   "metadata": {},
   "outputs": [],
   "source": [
    "scratch_dnn5 = ScratchDeepNeuralNetworkClassifier(num_epoch=5, lr=0.01, batch_size=20, \n",
    "                                                  n_features=784, n_nodes1=400, n_nodes2=200, n_output=10, \n",
    "                                                  verbose=True, activater=ReLU, optimizer=SGD)\n",
    "scratch_dnn5.fit(X_train_, y_train_)"
   ]
  },
  {
   "cell_type": "code",
   "execution_count": null,
   "metadata": {},
   "outputs": [],
   "source": [
    "y_pred5 = scratch_dnn5.predict(X_test)"
   ]
  },
  {
   "cell_type": "code",
   "execution_count": null,
   "metadata": {},
   "outputs": [],
   "source": [
    "evaluate(y_test, y_pred5)"
   ]
  },
  {
   "cell_type": "markdown",
   "metadata": {},
   "source": [
    "#### scratch_dnn11(num_epoch=20, lr=1e-2, Activater=ReLU, Optimizer=SGD)"
   ]
  },
  {
   "cell_type": "code",
   "execution_count": null,
   "metadata": {},
   "outputs": [],
   "source": [
    "scratch_dnn11 = ScratchDeepNeuralNetworkClassifier(num_epoch=20, lr=0.01, batch_size=20, \n",
    "                                                  n_features=784, n_nodes1=400, n_nodes2=200, n_output=10, \n",
    "                                                  verbose=True, activater=ReLU, optimizer=SGD)\n",
    "scratch_dnn11.fit(X_train_, y_train_)"
   ]
  },
  {
   "cell_type": "code",
   "execution_count": null,
   "metadata": {},
   "outputs": [],
   "source": [
    "y_pred11 = scratch_dnn11.predict(X_test)"
   ]
  },
  {
   "cell_type": "code",
   "execution_count": null,
   "metadata": {},
   "outputs": [],
   "source": [
    "evaluate(y_test, y_pred11)"
   ]
  },
  {
   "cell_type": "markdown",
   "metadata": {},
   "source": [
    "#### scratch_dnn6(num_epoch=5, lr=1e-2, Activater=ReLU, Optimizer=AdaGrad)"
   ]
  },
  {
   "cell_type": "code",
   "execution_count": null,
   "metadata": {},
   "outputs": [],
   "source": [
    "scratch_dnn6 = ScratchDeepNeuralNetworkClassifier(num_epoch=5, lr=0.01, batch_size=20, \n",
    "                                                  n_features=784, n_nodes1=400, n_nodes2=200, n_output=10, \n",
    "                                                  verbose=True, activater=ReLU, optimizer=AdaGrad)\n",
    "scratch_dnn6.fit(X_train_, y_train_)"
   ]
  },
  {
   "cell_type": "code",
   "execution_count": null,
   "metadata": {},
   "outputs": [],
   "source": [
    "y_pred6 = scratch_dnn6.predict(X_test)"
   ]
  },
  {
   "cell_type": "code",
   "execution_count": null,
   "metadata": {},
   "outputs": [],
   "source": [
    "evaluate(y_test, y_pred6)"
   ]
  },
  {
   "cell_type": "markdown",
   "metadata": {},
   "source": [
    "#### scratch_dnn12(num_epoch=20, lr=1e-2, Activater=ReLU, Optimizer=AdaGrad)"
   ]
  },
  {
   "cell_type": "code",
   "execution_count": null,
   "metadata": {},
   "outputs": [],
   "source": [
    "scratch_dnn12 = ScratchDeepNeuralNetworkClassifier(num_epoch=20, lr=0.01, batch_size=20, \n",
    "                                                  n_features=784, n_nodes1=400, n_nodes2=200, n_output=10, \n",
    "                                                  verbose=True, activater=ReLU, optimizer=AdaGrad)\n",
    "scratch_dnn12.fit(X_train_, y_train_)"
   ]
  },
  {
   "cell_type": "code",
   "execution_count": null,
   "metadata": {},
   "outputs": [],
   "source": [
    "y_pred12 = scratch_dnn12.predict(X_test)"
   ]
  },
  {
   "cell_type": "code",
   "execution_count": null,
   "metadata": {},
   "outputs": [],
   "source": [
    "evaluate(y_test, y_pred12)"
   ]
  }
 ],
 "metadata": {
  "kernelspec": {
   "display_name": "Python 3",
   "language": "python",
   "name": "python3"
  },
  "language_info": {
   "codemirror_mode": {
    "name": "ipython",
    "version": 3
   },
   "file_extension": ".py",
   "mimetype": "text/x-python",
   "name": "python",
   "nbconvert_exporter": "python",
   "pygments_lexer": "ipython3",
   "version": "3.8.5"
  }
 },
 "nbformat": 4,
 "nbformat_minor": 4
}
