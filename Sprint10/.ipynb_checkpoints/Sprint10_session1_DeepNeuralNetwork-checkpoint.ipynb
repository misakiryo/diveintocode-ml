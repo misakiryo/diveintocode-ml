{
 "cells": [
  {
   "cell_type": "code",
   "execution_count": 1,
   "metadata": {},
   "outputs": [],
   "source": [
    "#先輩のを模写してコードリーディング"
   ]
  },
  {
   "cell_type": "code",
   "execution_count": 1,
   "metadata": {},
   "outputs": [],
   "source": [
    "import numpy as np\n",
    "import matplotlib.pyplot as plt\n",
    "import math\n",
    "\n",
    "from sklearn.model_selection import train_test_split\n",
    "from sklearn.preprocessing import OneHotEncoder\n",
    "\n",
    "from keras.datasets import mnist\n",
    "\n",
    "from sklearn.metrics import accuracy_score\n",
    "from sklearn.metrics import precision_score\n",
    "from sklearn.metrics import recall_score\n",
    "from sklearn.metrics import f1_score\n",
    "from sklearn.metrics import confusion_matrix"
   ]
  },
  {
   "cell_type": "code",
   "execution_count": 2,
   "metadata": {},
   "outputs": [],
   "source": [
    "(X_train, y_train), (X_test, y_test) = mnist.load_data()"
   ]
  },
  {
   "cell_type": "code",
   "execution_count": 3,
   "metadata": {},
   "outputs": [
    {
     "name": "stdout",
     "output_type": "stream",
     "text": [
      "(60000, 28, 28)\n",
      "(10000, 28, 28)\n",
      "uint8\n"
     ]
    }
   ],
   "source": [
    "print(X_train.shape)\n",
    "print(X_test.shape)\n",
    "print(X_train[0].dtype)"
   ]
  },
  {
   "cell_type": "code",
   "execution_count": 4,
   "metadata": {},
   "outputs": [],
   "source": [
    "X_train = X_train.reshape(-1, 784)\n",
    "X_test = X_test.reshape(-1, 784)\n",
    "\n",
    "X_train = X_train.astype(np.float)\n",
    "X_test = X_test.astype(np.float)\n",
    "X_train /= 255\n",
    "X_test /= 255\n",
    "\n",
    "\n",
    "enc = OneHotEncoder(handle_unknown='ignore', sparse=False)\n",
    "y_train_one_hot = enc.fit_transform(y_train[:, np.newaxis])\n",
    "y_test_one_hot = enc.transform(y_test[:, np.newaxis])\n",
    "\n",
    "X_train_, X_val, y_train_, y_val = train_test_split(X_train, y_train_one_hot, test_size=0.2)"
   ]
  },
  {
   "cell_type": "code",
   "execution_count": 208,
   "metadata": {},
   "outputs": [],
   "source": [
    "#Problem 1.\n",
    "\n",
    "class FC:\n",
    "    \"\"\"\n",
    "    ノード数n_nodes1からn_nodes2への全結合層\n",
    "    Parameters\n",
    "    ----------\n",
    "    n_nodes1 : int\n",
    "      前の層のノード数\n",
    "    n_nodes2 : int\n",
    "      後の層のノード数\n",
    "    initializer : 初期化方法のインスタンス\n",
    "    optimizer : 最適化手法のインスタンス\n",
    "    \"\"\"\n",
    "    def __init__(self, n_nodes1, n_nodes2, initializer, optimizer):\n",
    "        self.optimizer = optimizer \n",
    "        self.W = initializer.W(n_nodes1, n_nodes2)# initializerのメソッドを使い、self.Wとself.Bを初期化する\n",
    "        self.B = initializer.B(n_nodes2) \n",
    "        \n",
    "    def forward(self, X):\n",
    "        \"\"\"\n",
    "        フォワード\n",
    "        Parameters\n",
    "        ----------\n",
    "        X : 次の形のndarray, shape (batch_size, n_nodes1)\n",
    "            入力\n",
    "        Returns\n",
    "        ----------\n",
    "        A : 次の形のndarray, shape (batch_size, n_nodes2)\n",
    "            出力\n",
    "        \"\"\"        \n",
    "        self.X = X\n",
    "        A = X@self.W + self.B\n",
    "        return A\n",
    "    \n",
    "    def backward(self, dA):\n",
    "        \"\"\"\n",
    "        バックワード\n",
    "        Parameters\n",
    "        ----------\n",
    "        dA : 次の形のndarray, shape (batch_size, n_nodes2)\n",
    "            後ろから流れてきた勾配\n",
    "        Returns\n",
    "        ----------\n",
    "        dZ : 次の形のndarray, shape (batch_size, n_nodes1)\n",
    "            前に流す勾配\n",
    "        \"\"\"\n",
    "        dZ = dA@self.W.T\n",
    "        self.dB = np.sum(dA, axis =0)\n",
    "        self.dW = self.X.T@dA\n",
    "        self.optimizer.update(self)# 更新\n",
    "        return dZ"
   ]
  },
  {
   "cell_type": "code",
   "execution_count": 209,
   "metadata": {},
   "outputs": [],
   "source": [
    "#Problem 2.\n",
    "class SimpleInitializer:\n",
    "    \"\"\"\n",
    "    ガウス分布によるシンプルな初期化\n",
    "    Parameters\n",
    "    ----------\n",
    "    sigma : float\n",
    "      ガウス分布の標準偏差\n",
    "    \"\"\"\n",
    "    def __init__(self, sigma):\n",
    "        self.sigma = sigma\n",
    "    def W(self, n_nodes1, n_nodes2):\n",
    "        \"\"\"\n",
    "        重みの初期化\n",
    "        Parameters\n",
    "        ----------\n",
    "        n_nodes1 : int\n",
    "          前の層のノード数\n",
    "        n_nodes2 : int\n",
    "          後の層のノード数\n",
    "        Returns\n",
    "        ----------\n",
    "        W :(n_nodes1, n_nodes2)\n",
    "        \"\"\"\n",
    "        W = self.sigma * np.random.randn(n_nodes1, n_nodes2)\n",
    "        return W\n",
    "    def B(self, n_nodes2):\n",
    "        \"\"\"\n",
    "        バイアスの初期化\n",
    "        Parameters\n",
    "        ----------\n",
    "        n_nodes2 : int\n",
    "          後の層のノード数\n",
    "        Returns\n",
    "        ----------\n",
    "        B : (n_nodes2, )\n",
    "        \"\"\"\n",
    "        B = self.sigma * np.random.randn(n_nodes2)\n",
    "        return B"
   ]
  },
  {
   "cell_type": "code",
   "execution_count": 210,
   "metadata": {},
   "outputs": [],
   "source": [
    "#Problem .3\n",
    "class SGD:\n",
    "    \"\"\"\n",
    "    確率的勾配降下法\n",
    "    Parameters\n",
    "    ----------\n",
    "    lr : 学習率\n",
    "    \"\"\"\n",
    "    def __init__(self, lr):\n",
    "        self.lr = lr\n",
    "        \n",
    "    def update(self, layer):\n",
    "        \"\"\"\n",
    "        ある層の重みやバイアスの更新\n",
    "        Parameters\n",
    "        ----------\n",
    "        layer : 更新前の層のインスタンス\n",
    "        \"\"\"\n",
    "        layer.W -= self.lr * layer.dW\n",
    "        layer.B -= self.lr * layer.dB\n",
    "        \n",
    "        return"
   ]
  },
  {
   "cell_type": "code",
   "execution_count": 211,
   "metadata": {},
   "outputs": [],
   "source": [
    "#Ploblem 4.\n",
    "\n",
    "class Sigmoid:\n",
    "    \n",
    "    def forward(self, A):\n",
    "        self.A = A\n",
    "        return self.sigmoid(A)\n",
    "    \n",
    "    def backward(self, dZ):\n",
    "        _sig = self.sigmoid(self.A)\n",
    "        return dZ * (1 - _sig) * _sig\n",
    "    \n",
    "    def sigmoid(self, X):\n",
    "        return 1 / (1 + np.exp(-X))"
   ]
  },
  {
   "cell_type": "code",
   "execution_count": 212,
   "metadata": {},
   "outputs": [],
   "source": [
    "#Ploblem 4.\n",
    "\n",
    "class Tanh:\n",
    "    \n",
    "    def forward(self, A):\n",
    "        self.A = A\n",
    "        return np.tanh(A)\n",
    "    \n",
    "    def backward(self, dZ):\n",
    "        return dZ * (1 - (np.tanh(self.A))**2)"
   ]
  },
  {
   "cell_type": "code",
   "execution_count": 213,
   "metadata": {},
   "outputs": [],
   "source": [
    "# Problem 4.\n",
    "\n",
    "class Softmax:\n",
    "    \n",
    "    def forward(self, X):\n",
    "        self.Z = np.exp(X) / np.sum(np.exp(X), axis =1).reshape(-1, 1)\n",
    "        return self.Z\n",
    "    \n",
    "    def backward(self, Y):\n",
    "        self.loss = self.loss_func(Y)\n",
    "        return self.Z - Y\n",
    "    \n",
    "    def loss_func(self, Y, Z=None):\n",
    "        \"\"\"\n",
    "        y_true : (n_samples, n_output)\n",
    "        z : (n_samples, n_output)\n",
    "        \"\"\"\n",
    "        if Z is None:\n",
    "            Z = self.Z\n",
    "        return (-1) * np.average(np.sum(Y * np.log(Z), axis =1))"
   ]
  },
  {
   "cell_type": "code",
   "execution_count": 214,
   "metadata": {},
   "outputs": [],
   "source": [
    "#Problem 5.\n",
    "\n",
    "class ReLU:\n",
    "    def forward(self, A):\n",
    "        self.A = A\n",
    "        return np.clip(A, 0, None)\n",
    "    \n",
    "    def backward(self, dZ):\n",
    "        return dZ * np.clip(np.sign(self.A), 0, None)"
   ]
  },
  {
   "cell_type": "code",
   "execution_count": 215,
   "metadata": {},
   "outputs": [],
   "source": [
    "#Problem 6.\n",
    "\n",
    "class XavierInitializer:\n",
    "    def W(self, n_nodes1, n_nodes2):\n",
    "        self.sigma = math.sqrt(1 / n_nodes1)\n",
    "        W = self.sigma * np.random.randn(n_nodes1, n_nodes2)\n",
    "        return W    \n",
    "    def B(self, n_nodes2):\n",
    "        B = self.sigma * np.random.randn(n_nodes2)\n",
    "        return B"
   ]
  },
  {
   "cell_type": "code",
   "execution_count": 216,
   "metadata": {},
   "outputs": [],
   "source": [
    "class HeInitializer():\n",
    "    def W(self, n_nodes1, n_nodes2):\n",
    "        self.sigma = math.sqrt(2 / n_nodes1)\n",
    "        W = self.sigma * np.random.randn(n_nodes1, n_nodes2)\n",
    "        return W\n",
    "    def B(self, n_nodes2):\n",
    "        B = self.sigma * np.random.randn(n_nodes2)\n",
    "        return B"
   ]
  },
  {
   "cell_type": "code",
   "execution_count": 217,
   "metadata": {},
   "outputs": [],
   "source": [
    "#Problem 7.\n",
    "class AdaGrad:\n",
    "\n",
    "    def __init__(self, lr):\n",
    "        self.lr = lr\n",
    "        self.HW = 1\n",
    "        self.HB = 1\n",
    "        \n",
    "    def update(self, layer):\n",
    "        self.HW += layer.dW **2\n",
    "        self.HB += layer.dB **2\n",
    "        layer.W -= self.lr * np.sqrt(1 / self.HW) * layer.dW\n",
    "        layer.B -= self.lr * np.sqrt(1 / self.HB) * layer.dB"
   ]
  },
  {
   "cell_type": "code",
   "execution_count": 227,
   "metadata": {},
   "outputs": [],
   "source": [
    "#Problem 8.\n",
    "class ScratchDeepNeuralNetworkClassifier:\n",
    "    \n",
    "    def __init__(self, num_epoch = 10, lr = 0.01, batch_size = 20,\n",
    "                n_features = 784, n_nodes1 = 400, n_nodes2 = 200, n_output = 10,\n",
    "                verbose = True, activater =Tanh, optimizer = AdaGrad):\n",
    "        self.num_epoch = num_epoch\n",
    "        self.lr = lr\n",
    "        self.verbose = verbose\n",
    "        \n",
    "        self.batch_size = batch_size #バッチサイズ\n",
    "        self.n_features = n_features #特徴量の数\n",
    "        self.n_nodes1 = n_nodes1 #1層目のノード数\n",
    "        self.n_nodes2 = n_nodes2 #2層目のノード数\n",
    "        self.n_output = n_output #出力のクラス数(3層目のノード数)\n",
    "        \n",
    "        self.activater = activater\n",
    "        if activater == Sigmoid or activater == Tanh:\n",
    "            self.initializer = Xavierinitializer\n",
    "        elif activater == ReLU:\n",
    "            self.initializer = Heinitializer\n",
    "        else:\n",
    "            print('活性化関数が不適切')\n",
    "        self.optimizer = optimizer\n",
    "    \n",
    "    def fit(self, X, y, X_val =None, y_val =None):\n",
    "        \n",
    "        self.val_enable = False\n",
    "        if X_val is not None:\n",
    "            self.val_enable = True\n",
    "            \n",
    "        #optimizer = self.optimizer(self.lr)\n",
    "        self.FC1 = FC(self.n_features, self.n_nodes1, self.initializer(), self.optimizer(self.lr))\n",
    "        self.activation1 = self.activater()\n",
    "        self.FC2 = FC(self.n_nodes1, self.n_nodes2, self.initializer(), self.optimizer(self.lr))\n",
    "        self.activation2 = self.activater()\n",
    "        self.FC3 = FC(self.n_nodes2, self.n_output, self.initializer(), self.optimizer(self.lr))\n",
    "        self.activation3 = Softmax()\n",
    "        \n",
    "        self.loss = []\n",
    "        self.loss_epoch = []\n",
    "        for _ in range(self.num_epoch):\n",
    "            get_mini_batch = GetMiniBatch(X, y, batch_size = self.batch_size)\n",
    "            self.iter = len(get_mini_batch)\n",
    "            for mini_X, mini_y in get_mini_batch:\n",
    "                self.forward_propagation(mini_X)\n",
    "                self.back_propagation(mini_X, mini_y)\n",
    "                self.loss.append(self.activation3.loss)\n",
    "            self.loss_epoch.append(self.activation3.loss_func(y, self.forward_propagation(X)))\n",
    "            \n",
    "        if self.verbose:\n",
    "            self.learning_curve()\n",
    "            print()\n",
    "            \n",
    "    def predict(self, X):\n",
    "        return np.argmax(self.forward_propagation(X), axis =1)\n",
    "    \n",
    "    def forward_propagation(self, X):\n",
    "        A1 = self.FC1.forward(X)\n",
    "        Z1 = self.activation1.forward(A1)\n",
    "        A2 = self.FC2.forward(Z1)\n",
    "        Z2 = self.activation2.forward(A2)\n",
    "        A3 = self.FC3.forward(Z2)\n",
    "        Z3 = self.activation3.forward(A3)\n",
    "        return Z3\n",
    "    \n",
    "    def back_propagation(self, X, y_true):\n",
    "        dA3 = self.activation3.backward(y_true) #交差エントロピー誤差とソフトマックスを併せている\n",
    "        dZ2 = self.FC3.backward(dA3)\n",
    "        dA2 = self.activation2.backward(dZ2)\n",
    "        dZ1 = self.FC2.backward(dA2)\n",
    "        dA1 = self.activation1.backward(dZ1)\n",
    "        dZ0 = self.FC1.backward(dA1) #dZ0は使用しない\n",
    "        \n",
    "    def learning_curve(self):\n",
    "        plt.title('model loss')\n",
    "        plt.xlabel('num_epoch')\n",
    "        plt.ylabel('loss')\n",
    "        plt.plot(np.arange(1, self.num_epoch * self.iter + 1), self.loss, label='train_loss')\n",
    "        plt.plot(np.arange(0, self.num_epoch * + 1) * self.iter, self.loss_epoch, label='epoch_loss')\n",
    "        if self.val_enable:\n",
    "            plt.plot(np.arange(1, self.num_epoch + 1), self.val_loss, label = 'val_loss')\n",
    "        plt.legend()\n",
    "        plt.show()\n",
    "        return"
   ]
  },
  {
   "cell_type": "code",
   "execution_count": 219,
   "metadata": {},
   "outputs": [],
   "source": [
    "# ミニバッチ処理のクラス\n",
    "class GetMiniBatch:\n",
    "    \"\"\"\n",
    "    ミニバッチを取得するイテレータ\n",
    "\n",
    "    Parameters\n",
    "    ----------\n",
    "    X : 次の形のndarray, shape (n_samples, n_features)\n",
    "      訓練データ\n",
    "    y : 次の形のndarray, shape (n_samples, 1)\n",
    "      正解値\n",
    "    batch_size : int\n",
    "      バッチサイズ\n",
    "    seed : int\n",
    "      NumPyの乱数のシード\n",
    "    \"\"\"\n",
    "    def __init__(self, X, y, batch_size = 20, seed=None):\n",
    "        self.batch_size = batch_size\n",
    "        np.random.seed(seed)\n",
    "        shuffle_index = np.random.permutation(np.arange(X.shape[0]))\n",
    "        self._X = X[shuffle_index]\n",
    "        self._y = y[shuffle_index]\n",
    "        self._stop = np.ceil(X.shape[0]/self.batch_size).astype(np.int)\n",
    "        \n",
    "    def __len__(self):\n",
    "        return self._stop\n",
    "    \n",
    "    def __getitem__(self,item):\n",
    "        p0 = item*self.batch_size\n",
    "        p1 = item*self.batch_size + self.batch_size\n",
    "        return self._X[p0:p1], self._y[p0:p1] \n",
    "    \n",
    "    def __iter__(self):\n",
    "        self._counter = 0\n",
    "        return self\n",
    "    \n",
    "    def __next__(self):\n",
    "        if self._counter >= self._stop:\n",
    "            raise StopIteration()\n",
    "        p0 = self._counter*self.batch_size\n",
    "        p1 = self._counter*self.batch_size + self.batch_size\n",
    "        self._counter += 1\n",
    "        return self._X[p0:p1], self._y[p0:p1]"
   ]
  },
  {
   "cell_type": "code",
   "execution_count": 231,
   "metadata": {},
   "outputs": [],
   "source": [
    "#Problem 9.\n",
    "def evaluate(y_true, y_pred):\n",
    "    print('accuracy = ', accuracy_score(y_true, y_pred))\n",
    "    print('precision = ', precision_score(y_true, y_pred, average = 'macro'))\n",
    "    print('recall = ', recall_score(y_true, y_pred, average = 'macro'))\n",
    "    print('f1 = ', f1_score(y_true, y_pred, average= 'macro'))\n",
    "    print(confusion_matrix(y_true, y_pred))"
   ]
  },
  {
   "cell_type": "markdown",
   "metadata": {},
   "source": [
    "#### scratch_dnn(num_epoch=5, lr=1e-2, Activater=Tanh, Optimizer=SGD"
   ]
  },
  {
   "cell_type": "code",
   "execution_count": 228,
   "metadata": {},
   "outputs": [
    {
     "data": {
      "image/png": "[encoded data removed]",
      "text/plain": [
       "<Figure size 432x288 with 1 Axes>"
      ]
     },
     "metadata": {
      "needs_background": "light"
     },
     "output_type": "display_data"
    },
    {
     "name": "stdout",
     "output_type": "stream",
     "text": [
      "\n"
     ]
    }
   ],
   "source": [
    "scratch_dnn1 = ScratchDeepNeuralNetworkClassifier(num_epoch=5, lr= 0.01, batch_size=20, \n",
    "                                                 n_features=784, n_nodes1 =400, n_nodes2=200, n_output=10,\n",
    "                                                 verbose = True, Activater = Tanh, Optimizer=SGD)\n",
    "\n",
    "scratch_dnn1.fit(X_train_, y_train_)"
   ]
  },
  {
   "cell_type": "code",
   "execution_count": 229,
   "metadata": {},
   "outputs": [],
   "source": [
    "y_pred1 = scratch_dnn1.predict(X_test)"
   ]
  },
  {
   "cell_type": "code",
   "execution_count": 234,
   "metadata": {},
   "outputs": [
    {
     "name": "stdout",
     "output_type": "stream",
     "text": [
      "accuracy =  0.9735\n",
      "precision =  0.9735581738486824\n",
      "recall =  0.9732078308833673\n",
      "f1 =  0.9733127758560898\n",
      "[[ 955    0    5    0    0    6    2    2    8    2]\n",
      " [   0 1117    1    1    0    0    5    2    9    0]\n",
      " [   3    0 1009    2    3    0    2    6    7    0]\n",
      " [   0    0    9  981    0    2    0   10    4    4]\n",
      " [   0    0    4    0  956    0    1    9    0   12]\n",
      " [   3    0    0   13    1  857    7    0    8    3]\n",
      " [   3    1    3    0    7    4  935    2    3    0]\n",
      " [   0    1   10    0    0    0    0 1012    4    1]\n",
      " [   1    0    3    9    2    1    0    5  949    4]\n",
      " [   1    3    0    6   10    5    0   13    7  964]]\n"
     ]
    }
   ],
   "source": [
    "evaluate(y_test, y_pred1)"
   ]
  },
  {
   "cell_type": "markdown",
   "metadata": {},
   "source": [
    "#### scratch_dnn3(num_epoch=20, lr=1e-2, Activater=Tanh, Optimizer=SGD"
   ]
  },
  {
   "cell_type": "code",
   "execution_count": 235,
   "metadata": {},
   "outputs": [
    {
     "data": {
      "image/png": "[encoded data removed]",
      "text/plain": [
       "<Figure size 432x288 with 1 Axes>"
      ]
     },
     "metadata": {
      "needs_background": "light"
     },
     "output_type": "display_data"
    },
    {
     "name": "stdout",
     "output_type": "stream",
     "text": [
      "\n"
     ]
    }
   ],
   "source": [
    "scratch_dnn3 = ScratchDeepNeuralNetworkClassifier(num_epoch=20, lr=0.01, batch_size=20,\n",
    "                                                 n_features = 784, n_nodes1=400, n_nodes2=200, n_output=10,\n",
    "                                                 verbose=True, Activater=Tanh, Optimizer=SGD)\n",
    "scratch_dnn3.fit(X_train_, y_train_)"
   ]
  },
  {
   "cell_type": "code",
   "execution_count": 236,
   "metadata": {},
   "outputs": [],
   "source": [
    "y_pred3 = scratch_dnn3.predict(X_test)"
   ]
  },
  {
   "cell_type": "code",
   "execution_count": 237,
   "metadata": {},
   "outputs": [
    {
     "name": "stdout",
     "output_type": "stream",
     "text": [
      "accuracy =  0.9806\n",
      "precision =  0.9805234058250448\n",
      "recall =  0.9803475857121422\n",
      "f1 =  0.9804216274175153\n",
      "[[ 973    0    0    0    1    0    1    1    3    1]\n",
      " [   0 1129    1    1    0    1    2    1    0    0]\n",
      " [   3    2 1010    4    3    0    3    4    3    0]\n",
      " [   0    0    6  992    0    2    0    3    4    3]\n",
      " [   0    0    2    0  959    2    8    3    0    8]\n",
      " [   2    1    0    7    1  866    8    1    2    4]\n",
      " [   5    1    1    1    3    3  942    0    2    0]\n",
      " [   1    3   11    1    0    0    0 1005    4    3]\n",
      " [   1    0    4    5    3    3    2    2  952    2]\n",
      " [   4    2    0    5   10    1    0    8    1  978]]\n"
     ]
    }
   ],
   "source": [
    "evaluate(y_test, y_pred3)"
   ]
  },
  {
   "cell_type": "markdown",
   "metadata": {},
   "source": [
    "#### scratch_dnn9(num_epoch=5, lr=1e-2, Activater=Sigmoid, Optimizer=SGD)"
   ]
  },
  {
   "cell_type": "code",
   "execution_count": 238,
   "metadata": {},
   "outputs": [
    {
     "data": {
      "image/png": "[encoded data removed]",
      "text/plain": [
       "<Figure size 432x288 with 1 Axes>"
      ]
     },
     "metadata": {
      "needs_background": "light"
     },
     "output_type": "display_data"
    },
    {
     "name": "stdout",
     "output_type": "stream",
     "text": [
      "\n"
     ]
    }
   ],
   "source": [
    "scratch_dnn9 = ScratchDeepNeuralNetworkClassifier(num_epoch=5, lr=0.01, batch_size=20, \n",
    "                                                 n_features=784, n_nodes1=400, n_nodes2=200, n_output=10, \n",
    "                                                 verbose = True, Activater=Sigmoid, Optimizer=SGD)\n",
    "scratch_dnn9.fit(X_train_, y_train_)"
   ]
  },
  {
   "cell_type": "code",
   "execution_count": 239,
   "metadata": {},
   "outputs": [],
   "source": [
    "y_pred9 = scratch_dnn9.predict(X_test)"
   ]
  },
  {
   "cell_type": "code",
   "execution_count": 240,
   "metadata": {},
   "outputs": [
    {
     "name": "stdout",
     "output_type": "stream",
     "text": [
      "accuracy =  0.9564\n",
      "precision =  0.9566757108867261\n",
      "recall =  0.9555946372138238\n",
      "f1 =  0.9559393915557521\n",
      "[[ 961    0    2    3    1    3    3    2    2    3]\n",
      " [   0 1114    2    1    1    1    5    3    8    0]\n",
      " [   8    1  996    5    9    0    4    5    3    1]\n",
      " [   0    2   12  973    0    1    1    7    8    6]\n",
      " [   1    0    7    0  941    0    2    2    2   27]\n",
      " [   8    2    2   27    5  811   12    3   12   10]\n",
      " [   7    3    2    1   15    7  917    0    6    0]\n",
      " [   0    7   21    5    3    1    0  968    0   23]\n",
      " [   4    2    5   12    6    3    9    6  923    4]\n",
      " [   5    5    2    9   19    2    0    5    2  960]]\n"
     ]
    }
   ],
   "source": [
    "evaluate(y_test, y_pred9)"
   ]
  },
  {
   "cell_type": "markdown",
   "metadata": {},
   "source": [
    "#### scratch_dnn10(num_epoch=20, lr=1e-2, Activater=Sigmoid, Optimizer=SGD"
   ]
  },
  {
   "cell_type": "code",
   "execution_count": 241,
   "metadata": {},
   "outputs": [
    {
     "data": {
      "image/png": "[encoded data removed]",
      "text/plain": [
       "<Figure size 432x288 with 1 Axes>"
      ]
     },
     "metadata": {
      "needs_background": "light"
     },
     "output_type": "display_data"
    },
    {
     "name": "stdout",
     "output_type": "stream",
     "text": [
      "\n"
     ]
    }
   ],
   "source": [
    "scratch_dnn10= ScratchDeepNeuralNetworkClassifier(num_epoch=20, lr =0.01, batch_size=20, \n",
    "                                                 n_features=784, n_nodes1=400, n_nodes2=200, n_output=10, \n",
    "                                                 verbose=True, Activater=Sigmoid, Optimizer=SGD)\n",
    "scratch_dnn10.fit(X_train_, y_train_)"
   ]
  },
  {
   "cell_type": "code",
   "execution_count": 242,
   "metadata": {},
   "outputs": [],
   "source": [
    "y_pred10 = scratch_dnn10.predict(X_test)"
   ]
  },
  {
   "cell_type": "code",
   "execution_count": 243,
   "metadata": {},
   "outputs": [
    {
     "name": "stdout",
     "output_type": "stream",
     "text": [
      "accuracy =  0.9773\n",
      "precision =  0.9773866782286362\n",
      "recall =  0.9769983159636751\n",
      "f1 =  0.9771131082135851\n",
      "[[ 972    0    1    1    1    1    1    1    1    1]\n",
      " [   0 1126    3    1    0    1    2    1    1    0]\n",
      " [   4    0 1012    8    1    0    2    2    2    1]\n",
      " [   1    0    0 1001    0    3    0    1    0    4]\n",
      " [   2    0    2    1  949    1    4    3    0   20]\n",
      " [   3    1    0    8    2  861    8    1    3    5]\n",
      " [   6    3    1    0    3    4  938    0    3    0]\n",
      " [   1    5   11    6    1    0    0  986    3   15]\n",
      " [   3    0    4    8    1    3    3    2  945    5]\n",
      " [   3    4    0    5    7    4    0    2    1  983]]\n"
     ]
    }
   ],
   "source": [
    "evaluate(y_test, y_pred10)"
   ]
  },
  {
   "cell_type": "markdown",
   "metadata": {},
   "source": [
    "#### scratch_dnn2(num_epoch=5, lr=1e-2, Activater=Tanh, Optimizer=AdaGrad)"
   ]
  },
  {
   "cell_type": "code",
   "execution_count": 244,
   "metadata": {},
   "outputs": [
    {
     "data": {
      "image/png": "[encoded data removed]",
      "text/plain": [
       "<Figure size 432x288 with 1 Axes>"
      ]
     },
     "metadata": {
      "needs_background": "light"
     },
     "output_type": "display_data"
    },
    {
     "name": "stdout",
     "output_type": "stream",
     "text": [
      "\n"
     ]
    }
   ],
   "source": [
    "scratch_dnn2 = ScratchDeepNeuralNetworkClassifier(num_epoch=5, lr =0.01, batch_size=20, \n",
    "                                                 n_features=784, n_nodes1=400, n_nodes2=200, n_output=10, \n",
    "                                                 verbose=True, Activater=Tanh, Optimizer=AdaGrad)\n",
    "scratch_dnn2.fit(X_train_, y_train_)"
   ]
  },
  {
   "cell_type": "code",
   "execution_count": 245,
   "metadata": {},
   "outputs": [],
   "source": [
    "y_pred2 = scratch_dnn2.predict(X_test)"
   ]
  },
  {
   "cell_type": "code",
   "execution_count": 246,
   "metadata": {},
   "outputs": [
    {
     "name": "stdout",
     "output_type": "stream",
     "text": [
      "accuracy =  0.9673\n",
      "precision =  0.9672011275918599\n",
      "recall =  0.9668895753757955\n",
      "f1 =  0.9670047429776683\n",
      "[[ 969    0    2    1    0    4    2    1    1    0]\n",
      " [   0 1122    3    1    0    1    4    2    2    0]\n",
      " [   6    1 1003    1    2    0    2    6   11    0]\n",
      " [   0    0   10  981    0    2    0    8    7    2]\n",
      " [   1    0    7    1  943    1    1    2    3   23]\n",
      " [   6    1    0   16    2  849    7    2    5    4]\n",
      " [   9    3    2    0    3   10  926    0    5    0]\n",
      " [   0    5   12    8    2    1    0  981    3   16]\n",
      " [   4    2    7    7    3    5    3    4  937    2]\n",
      " [   5    5    1    9   14    5    0    7    1  962]]\n"
     ]
    }
   ],
   "source": [
    "evaluate(y_test, y_pred2)"
   ]
  },
  {
   "cell_type": "markdown",
   "metadata": {},
   "source": [
    "#### scratch_dnn4(num_epoch=20, lr=1e-2, Activater=Tanh, Optimizer=AdaGrad)"
   ]
  },
  {
   "cell_type": "code",
   "execution_count": 247,
   "metadata": {},
   "outputs": [
    {
     "data": {
      "image/png": "[encoded data removed]",
      "text/plain": [
       "<Figure size 432x288 with 1 Axes>"
      ]
     },
     "metadata": {
      "needs_background": "light"
     },
     "output_type": "display_data"
    },
    {
     "name": "stdout",
     "output_type": "stream",
     "text": [
      "\n"
     ]
    }
   ],
   "source": [
    "scratch_dnn4 = ScratchDeepNeuralNetworkClassifier(num_epoch=20, lr=0.01, batch_size=20, \n",
    "                                                  n_features=784, n_nodes1=400, n_nodes2=200, n_output=10, \n",
    "                                                  verbose=True, Activater=Tanh, Optimizer=AdaGrad)\n",
    "scratch_dnn4.fit(X_train_, y_train_)"
   ]
  },
  {
   "cell_type": "code",
   "execution_count": 248,
   "metadata": {},
   "outputs": [],
   "source": [
    "y_pred4 = scratch_dnn4.predict(X_test)"
   ]
  },
  {
   "cell_type": "code",
   "execution_count": 249,
   "metadata": {},
   "outputs": [
    {
     "name": "stdout",
     "output_type": "stream",
     "text": [
      "accuracy =  0.9774\n",
      "precision =  0.9773841395976642\n",
      "recall =  0.9770720968190314\n",
      "f1 =  0.9771918845938199\n",
      "[[ 971    0    2    2    1    1    0    1    1    1]\n",
      " [   0 1125    2    3    0    1    2    1    1    0]\n",
      " [   5    0 1010    3    2    0    2    4    6    0]\n",
      " [   0    0    4  992    0    1    0    7    4    2]\n",
      " [   0    0    3    1  959    0    4    3    0   12]\n",
      " [   4    1    0   13    2  856    7    1    7    1]\n",
      " [   3    2    0    1    5    4  940    0    3    0]\n",
      " [   1    4   11    3    1    1    0 1002    1    4]\n",
      " [   2    0    3    6    4    3    2    3  950    1]\n",
      " [   3    4    0    6   11    3    0    9    4  969]]\n"
     ]
    }
   ],
   "source": [
    "evaluate(y_test, y_pred4)"
   ]
  },
  {
   "cell_type": "markdown",
   "metadata": {},
   "source": [
    "#### scratch_dnn7(num_epoch=5, lr=0.1, Activater=Tanh, Optimizer=AdaGrad)"
   ]
  },
  {
   "cell_type": "code",
   "execution_count": null,
   "metadata": {},
   "outputs": [],
   "source": [
    "scratch_dnn7 = ScratchDeepNeuralNetworkClassifier(num_epoch=5, lr=0.1, batch_size=20, \n",
    "                                                  n_features=784, n_nodes1=400, n_nodes2=200, n_output=10, \n",
    "                                                  verbose=True, Activater=Tanh, Optimizer=AdaGrad)\n",
    "scratch_dnn7.fit(X_train_, y_train_)"
   ]
  },
  {
   "cell_type": "code",
   "execution_count": null,
   "metadata": {},
   "outputs": [],
   "source": [
    "y_pred7 = scratch_dnn7.predict(X_test)"
   ]
  },
  {
   "cell_type": "code",
   "execution_count": null,
   "metadata": {},
   "outputs": [],
   "source": [
    "evaluate(y_test, y_pred7)"
   ]
  },
  {
   "cell_type": "markdown",
   "metadata": {},
   "source": [
    "#### scratch_dnn8(num_epoch=20, lr=0.1, Activater=Tanh, Optimizer=AdaGrad)"
   ]
  },
  {
   "cell_type": "code",
   "execution_count": null,
   "metadata": {},
   "outputs": [],
   "source": [
    "scratch_dnn8 = ScratchDeepNeuralNetworkClassifier(num_epoch=20, lr=0.1, batch_size=20, \n",
    "                                                  n_features=784, n_nodes1=400, n_nodes2=200, n_output=10, \n",
    "                                                  verbose=True, Activater=Tanh, Optimizer=AdaGrad)\n",
    "scratch_dnn8.fit(X_train_, y_train_)"
   ]
  },
  {
   "cell_type": "code",
   "execution_count": null,
   "metadata": {},
   "outputs": [],
   "source": [
    "y_pred8 = scratch_dnn8.predict(X_test)"
   ]
  },
  {
   "cell_type": "code",
   "execution_count": null,
   "metadata": {},
   "outputs": [],
   "source": [
    "evaluate(y_test, y_pred8)"
   ]
  },
  {
   "cell_type": "markdown",
   "metadata": {},
   "source": [
    "#### scratch_dnn5(num_epoch=5, lr=1e-2, Activater=ReLU, Optimizer=SGD)"
   ]
  },
  {
   "cell_type": "code",
   "execution_count": null,
   "metadata": {},
   "outputs": [],
   "source": [
    "scratch_dnn5 = ScratchDeepNeuralNetworkClassifier(num_epoch=5, lr=0.01, batch_size=20, \n",
    "                                                  n_features=784, n_nodes1=400, n_nodes2=200, n_output=10, \n",
    "                                                  verbose=True, Activater=ReLU, Optimizer=SGD)\n",
    "scratch_dnn5.fit(X_train_, y_train_)"
   ]
  },
  {
   "cell_type": "code",
   "execution_count": null,
   "metadata": {},
   "outputs": [],
   "source": [
    "y_pred5 = scratch_dnn5.predict(X_test)"
   ]
  },
  {
   "cell_type": "code",
   "execution_count": null,
   "metadata": {},
   "outputs": [],
   "source": [
    "evaluate(y_test, y_pred5)"
   ]
  },
  {
   "cell_type": "markdown",
   "metadata": {},
   "source": [
    "#### scratch_dnn11(num_epoch=20, lr=1e-2, Activater=ReLU, Optimizer=SGD)"
   ]
  },
  {
   "cell_type": "code",
   "execution_count": null,
   "metadata": {},
   "outputs": [],
   "source": [
    "scratch_dnn11 = ScratchDeepNeuralNetworkClassifier(num_epoch=20, lr=0.01, batch_size=20, \n",
    "                                                  n_features=784, n_nodes1=400, n_nodes2=200, n_output=10, \n",
    "                                                  verbose=True, Activater=ReLU, Optimizer=SGD)\n",
    "scratch_dnn11.fit(X_train_, y_train_)"
   ]
  },
  {
   "cell_type": "code",
   "execution_count": null,
   "metadata": {},
   "outputs": [],
   "source": [
    "y_pred11 = scratch_dnn11.predict(X_test)"
   ]
  },
  {
   "cell_type": "code",
   "execution_count": null,
   "metadata": {},
   "outputs": [],
   "source": [
    "evaluate(y_test, y_pred11)"
   ]
  },
  {
   "cell_type": "markdown",
   "metadata": {},
   "source": [
    "#### scratch_dnn6(num_epoch=5, lr=1e-2, Activater=ReLU, Optimizer=AdaGrad)"
   ]
  },
  {
   "cell_type": "code",
   "execution_count": null,
   "metadata": {},
   "outputs": [],
   "source": [
    "scratch_dnn6 = ScratchDeepNeuralNetworkClassifier(num_epoch=5, lr=0.01, batch_size=20, \n",
    "                                                  n_features=784, n_nodes1=400, n_nodes2=200, n_output=10, \n",
    "                                                  verbose=True, Activater=ReLU, Optimizer=AdaGrad)\n",
    "scratch_dnn6.fit(X_train_, y_train_)"
   ]
  },
  {
   "cell_type": "code",
   "execution_count": null,
   "metadata": {},
   "outputs": [],
   "source": [
    "y_pred6 = scratch_dnn6.predict(X_test)"
   ]
  },
  {
   "cell_type": "code",
   "execution_count": null,
   "metadata": {},
   "outputs": [],
   "source": [
    "evaluate(y_test, y_pred6)"
   ]
  },
  {
   "cell_type": "markdown",
   "metadata": {},
   "source": [
    "#### scratch_dnn12(num_epoch=20, lr=1e-2, Activater=ReLU, Optimizer=AdaGrad)"
   ]
  },
  {
   "cell_type": "code",
   "execution_count": null,
   "metadata": {},
   "outputs": [],
   "source": [
    "scratch_dnn12 = ScratchDeepNeuralNetworkClassifier(num_epoch=20, lr=0.01, batch_size=20, \n",
    "                                                  n_features=784, n_nodes1=400, n_nodes2=200, n_output=10, \n",
    "                                                  verbose=True, Activater=ReLU, Optimizer=AdaGrad)\n",
    "scratch_dnn12.fit(X_train_, y_train_)"
   ]
  },
  {
   "cell_type": "code",
   "execution_count": null,
   "metadata": {},
   "outputs": [],
   "source": [
    "y_pred12 = scratch_dnn12.predict(X_test)"
   ]
  },
  {
   "cell_type": "code",
   "execution_count": null,
   "metadata": {},
   "outputs": [],
   "source": [
    "evaluate(y_test, y_pred12)"
   ]
  }
 ],
 "metadata": {
  "kernelspec": {
   "display_name": "Python 3",
   "language": "python",
   "name": "python3"
  },
  "language_info": {
   "codemirror_mode": {
    "name": "ipython",
    "version": 3
   },
   "file_extension": ".py",
   "mimetype": "text/x-python",
   "name": "python",
   "nbconvert_exporter": "python",
   "pygments_lexer": "ipython3",
   "version": "3.8.5"
  }
 },
 "nbformat": 4,
 "nbformat_minor": 4
}
