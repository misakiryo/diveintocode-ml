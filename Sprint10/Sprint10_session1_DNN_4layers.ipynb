{
 "cells": [
  {
   "cell_type": "code",
   "execution_count": 1,
   "metadata": {},
   "outputs": [],
   "source": [
    "#先輩のを模写してコードリーディング"
   ]
  },
  {
   "cell_type": "code",
   "execution_count": 34,
   "metadata": {},
   "outputs": [],
   "source": [
    "import numpy as np\n",
    "import matplotlib.pyplot as plt\n",
    "import math\n",
    "\n",
    "from sklearn.model_selection import train_test_split\n",
    "from sklearn.preprocessing import OneHotEncoder\n",
    "\n",
    "from keras.datasets import mnist\n",
    "\n",
    "from sklearn.metrics import accuracy_score\n",
    "from sklearn.metrics import precision_score\n",
    "from sklearn.metrics import recall_score\n",
    "from sklearn.metrics import f1_score\n",
    "from sklearn.metrics import confusion_matrix"
   ]
  },
  {
   "cell_type": "code",
   "execution_count": 35,
   "metadata": {},
   "outputs": [],
   "source": [
    "(X_train, y_train), (X_test, y_test) = mnist.load_data()"
   ]
  },
  {
   "cell_type": "code",
   "execution_count": 36,
   "metadata": {},
   "outputs": [
    {
     "name": "stdout",
     "output_type": "stream",
     "text": [
      "(60000, 28, 28)\n",
      "(10000, 28, 28)\n",
      "uint8\n"
     ]
    }
   ],
   "source": [
    "print(X_train.shape)\n",
    "print(X_test.shape)\n",
    "print(X_train[0].dtype)"
   ]
  },
  {
   "cell_type": "code",
   "execution_count": 37,
   "metadata": {},
   "outputs": [],
   "source": [
    "X_train = X_train.reshape(-1, 784)\n",
    "X_test = X_test.reshape(-1, 784)\n",
    "\n",
    "X_train = X_train.astype(np.float)\n",
    "X_test = X_test.astype(np.float)\n",
    "X_train /= 255\n",
    "X_test /= 255\n",
    "\n",
    "\n",
    "enc = OneHotEncoder(handle_unknown='ignore', sparse=False)\n",
    "y_train_one_hot = enc.fit_transform(y_train[:, np.newaxis])\n",
    "y_test_one_hot = enc.transform(y_test[:, np.newaxis])\n",
    "\n",
    "X_train_, X_val, y_train_, y_val = train_test_split(X_train, y_train_one_hot, test_size=0.2)"
   ]
  },
  {
   "cell_type": "code",
   "execution_count": 38,
   "metadata": {},
   "outputs": [],
   "source": [
    "#Problem 1.\n",
    "\n",
    "class FC:\n",
    "    \"\"\"\n",
    "    ノード数n_nodes1からn_nodes2への全結合層\n",
    "    Parameters\n",
    "    ----------\n",
    "    n_nodes1 : int\n",
    "      前の層のノード数\n",
    "    n_nodes2 : int\n",
    "      後の層のノード数\n",
    "    initializer : 初期化方法のインスタンス\n",
    "    optimizer : 最適化手法のインスタンス\n",
    "    \"\"\"\n",
    "    def __init__(self, n_nodes1, n_nodes2, initializer, optimizer):\n",
    "        self.optimizer = optimizer \n",
    "        self.W = initializer.W(n_nodes1, n_nodes2)# initializerのメソッドを使い、self.Wとself.Bを初期化する\n",
    "        self.B = initializer.B(n_nodes2) \n",
    "        \n",
    "    def forward(self, X):\n",
    "        \"\"\"\n",
    "        フォワード\n",
    "        Parameters\n",
    "        ----------\n",
    "        X : 次の形のndarray, shape (batch_size, n_nodes1)\n",
    "            入力\n",
    "        Returns\n",
    "        ----------\n",
    "        A : 次の形のndarray, shape (batch_size, n_nodes2)\n",
    "            出力\n",
    "        \"\"\"        \n",
    "        self.X = X\n",
    "        A = X@self.W + self.B\n",
    "        return A\n",
    "    \n",
    "    def backward(self, dA):\n",
    "        \"\"\"\n",
    "        バックワード\n",
    "        Parameters\n",
    "        ----------\n",
    "        dA : 次の形のndarray, shape (batch_size, n_nodes2)\n",
    "            後ろから流れてきた勾配\n",
    "        Returns\n",
    "        ----------\n",
    "        dZ : 次の形のndarray, shape (batch_size, n_nodes1)\n",
    "            前に流す勾配\n",
    "        \"\"\"\n",
    "        dZ = dA@self.W.T\n",
    "        self.dB = np.sum(dA, axis =0)\n",
    "        self.dW = self.X.T@dA\n",
    "        self.optimizer.update(self)# 更新\n",
    "        return dZ"
   ]
  },
  {
   "cell_type": "code",
   "execution_count": 39,
   "metadata": {},
   "outputs": [],
   "source": [
    "#Problem 2.\n",
    "class SimpleInitializer:\n",
    "    \"\"\"\n",
    "    ガウス分布によるシンプルな初期化\n",
    "    Parameters\n",
    "    ----------\n",
    "    sigma : float\n",
    "      ガウス分布の標準偏差\n",
    "    \"\"\"\n",
    "    def __init__(self, sigma):\n",
    "        self.sigma = sigma\n",
    "    def W(self, n_nodes1, n_nodes2):\n",
    "        \"\"\"\n",
    "        重みの初期化\n",
    "        Parameters\n",
    "        ----------\n",
    "        n_nodes1 : int\n",
    "          前の層のノード数\n",
    "        n_nodes2 : int\n",
    "          後の層のノード数\n",
    "        Returns\n",
    "        ----------\n",
    "        W :(n_nodes1, n_nodes2)\n",
    "        \"\"\"\n",
    "        W = self.sigma * np.random.randn(n_nodes1, n_nodes2)\n",
    "        return W\n",
    "    def B(self, n_nodes2):\n",
    "        \"\"\"\n",
    "        バイアスの初期化\n",
    "        Parameters\n",
    "        ----------\n",
    "        n_nodes2 : int\n",
    "          後の層のノード数\n",
    "        Returns\n",
    "        ----------\n",
    "        B : (n_nodes2, )\n",
    "        \"\"\"\n",
    "        B = self.sigma * np.random.randn(n_nodes2)\n",
    "        return B"
   ]
  },
  {
   "cell_type": "code",
   "execution_count": 40,
   "metadata": {},
   "outputs": [],
   "source": [
    "#Problem .3\n",
    "class SGD:\n",
    "    \"\"\"\n",
    "    確率的勾配降下法\n",
    "    Parameters\n",
    "    ----------\n",
    "    lr : 学習率\n",
    "    \"\"\"\n",
    "    def __init__(self, lr):\n",
    "        self.lr = lr\n",
    "        \n",
    "    def update(self, layer):\n",
    "        \"\"\"\n",
    "        ある層の重みやバイアスの更新\n",
    "        Parameters\n",
    "        ----------\n",
    "        layer : 更新前の層のインスタンス\n",
    "        \"\"\"\n",
    "        layer.W -= self.lr * layer.dW\n",
    "        layer.B -= self.lr * layer.dB\n",
    "        \n",
    "        return"
   ]
  },
  {
   "cell_type": "code",
   "execution_count": 41,
   "metadata": {},
   "outputs": [],
   "source": [
    "#Ploblem 4.\n",
    "\n",
    "class Sigmoid:\n",
    "    \n",
    "    def forward(self, A):\n",
    "        self.A = A\n",
    "        return self.sigmoid(A)\n",
    "    \n",
    "    def backward(self, dZ):\n",
    "        _sig = self.sigmoid(self.A)\n",
    "        return dZ * (1 - _sig) * _sig\n",
    "    \n",
    "    def sigmoid(self, X):\n",
    "        return 1 / (1 + np.exp(-X))"
   ]
  },
  {
   "cell_type": "code",
   "execution_count": 42,
   "metadata": {},
   "outputs": [],
   "source": [
    "#Ploblem 4.\n",
    "\n",
    "class Tanh:\n",
    "    \n",
    "    def forward(self, A):\n",
    "        self.A = A\n",
    "        return np.tanh(A)\n",
    "    \n",
    "    def backward(self, dZ):\n",
    "        return dZ * (1 - (np.tanh(self.A))**2)"
   ]
  },
  {
   "cell_type": "code",
   "execution_count": 43,
   "metadata": {},
   "outputs": [],
   "source": [
    "# Problem 4.\n",
    "\n",
    "class Softmax:\n",
    "    \n",
    "    def forward(self, X):\n",
    "        self.Z = np.exp(X) / np.sum(np.exp(X), axis =1).reshape(-1, 1)\n",
    "        return self.Z\n",
    "    \n",
    "    def backward(self, Y):\n",
    "        self.loss = self.loss_func(Y)\n",
    "        return self.Z - Y\n",
    "    \n",
    "    def loss_func(self, Y, Z=None):\n",
    "        \"\"\"\n",
    "        y_true : (n_samples, n_output)\n",
    "        z : (n_samples, n_output)\n",
    "        \"\"\"\n",
    "        if Z is None:\n",
    "            Z = self.Z\n",
    "        return (-1) * np.average(np.sum(Y * np.log(Z), axis =1))"
   ]
  },
  {
   "cell_type": "code",
   "execution_count": 44,
   "metadata": {},
   "outputs": [],
   "source": [
    "#Problem 5.\n",
    "\n",
    "class ReLU:\n",
    "    def forward(self, A):\n",
    "        self.A = A\n",
    "        return np.clip(A, 0, None)\n",
    "    \n",
    "    def backward(self, dZ):\n",
    "        return dZ * np.clip(np.sign(self.A), 0, None)"
   ]
  },
  {
   "cell_type": "code",
   "execution_count": 45,
   "metadata": {},
   "outputs": [],
   "source": [
    "#Problem 6.\n",
    "\n",
    "class XavierInitializer:\n",
    "    def W(self, n_nodes1, n_nodes2):\n",
    "        self.sigma = math.sqrt(1 / n_nodes1)\n",
    "        W = self.sigma * np.random.randn(n_nodes1, n_nodes2)\n",
    "        return W    \n",
    "    def B(self, n_nodes2):\n",
    "        B = self.sigma * np.random.randn(n_nodes2)\n",
    "        return B"
   ]
  },
  {
   "cell_type": "code",
   "execution_count": 52,
   "metadata": {},
   "outputs": [],
   "source": [
    "class Heinitializer():\n",
    "    def W(self, n_nodes1, n_nodes2):\n",
    "        self.sigma = math.sqrt(2 / n_nodes1)\n",
    "        W = self.sigma * np.random.randn(n_nodes1, n_nodes2)\n",
    "        return W\n",
    "    def B(self, n_nodes2):\n",
    "        B = self.sigma * np.random.randn(n_nodes2)\n",
    "        return B"
   ]
  },
  {
   "cell_type": "code",
   "execution_count": 47,
   "metadata": {},
   "outputs": [],
   "source": [
    "#Problem 7.\n",
    "class AdaGrad:\n",
    "\n",
    "    def __init__(self, lr):\n",
    "        self.lr = lr\n",
    "        self.HW = 1\n",
    "        self.HB = 1\n",
    "        \n",
    "    def update(self, layer):\n",
    "        self.HW += layer.dW **2\n",
    "        self.HB += layer.dB **2\n",
    "        layer.W -= self.lr * np.sqrt(1 / self.HW) * layer.dW\n",
    "        layer.B -= self.lr * np.sqrt(1 / self.HB) * layer.dB"
   ]
  },
  {
   "cell_type": "code",
   "execution_count": 54,
   "metadata": {},
   "outputs": [],
   "source": [
    "#Problem 8.\n",
    "class ScratchDeepNeuralNetworkClassifier:\n",
    "    \n",
    "    def __init__(self, num_epoch = 10, lr = 0.01, batch_size = 20,\n",
    "                n_features = 784, n_nodes1 = 400, n_nodes2 = 600, n_nodes3 = 200, n_output = 10,\n",
    "                verbose = True, activater =Tanh, optimizer = AdaGrad):\n",
    "        self.num_epoch = num_epoch\n",
    "        self.lr = lr\n",
    "        self.verbose = verbose\n",
    "        \n",
    "        self.batch_size = batch_size #バッチサイズ\n",
    "        self.n_features = n_features #特徴量の数\n",
    "        self.n_nodes1 = n_nodes1 #1層目のノード数\n",
    "        self.n_nodes2 = n_nodes2 #2層目のノード数\n",
    "        self.n_nodes3 = n_nodes3\n",
    "        self.n_output = n_output #出力のクラス数(3層目のノード数)\n",
    "        \n",
    "        self.activater = activater\n",
    "        if activater == Sigmoid or activater == Tanh:\n",
    "            self.initializer = XavierInitializer\n",
    "        elif activater == ReLU:\n",
    "            self.initializer = Heinitializer\n",
    "        else:\n",
    "            print('活性化関数が不適切')\n",
    "        self.optimizer = optimizer\n",
    "    \n",
    "    def fit(self, X, y, X_val =None, y_val =None):\n",
    "        \n",
    "        self.val_enable = False\n",
    "        if X_val is not None:\n",
    "            self.val_enable = True\n",
    "            \n",
    "        #optimizer = self.optimizer(self.lr)\n",
    "        self.FC1 = FC(self.n_features, self.n_nodes1, self.initializer(), self.optimizer(self.lr))\n",
    "        self.activation1 = self.activater()\n",
    "        self.FC2 = FC(self.n_nodes1, self.n_nodes2, self.initializer(), self.optimizer(self.lr))\n",
    "        self.activation2 = self.activater()\n",
    "        self.FC3 = FC(self.n_nodes2, self.n_nodes3, self.initializer(), self.optimizer(self.lr))\n",
    "        self.activation3 = self.activater()\n",
    "        self.FC4 = FC(self.n_nodes3, self.n_output, self.initializer(), self.optimizer(self.lr))\n",
    "        self.activation4 = Softmax()\n",
    "        \n",
    "        self.loss = []\n",
    "        self.loss_epoch = [self.activation4.loss_func(y, self.forward_propagation(X))]\n",
    "        for _ in range(self.num_epoch):\n",
    "            get_mini_batch = GetMiniBatch(X, y, batch_size = self.batch_size)\n",
    "            self.iter = len(get_mini_batch)\n",
    "            for mini_X, mini_y in get_mini_batch:\n",
    "                self.forward_propagation(mini_X)\n",
    "                self.back_propagation(mini_X, mini_y)\n",
    "                self.loss.append(self.activation4.loss)\n",
    "            self.loss_epoch.append(self.activation4.loss_func(y, self.forward_propagation(X)))\n",
    "            \n",
    "        if self.verbose:\n",
    "            self.learning_curve()\n",
    "            print()\n",
    "            \n",
    "    def predict(self, X):\n",
    "        return np.argmax(self.forward_propagation(X), axis =1)\n",
    "    \n",
    "    def forward_propagation(self, X):\n",
    "        A1 = self.FC1.forward(X)\n",
    "        Z1 = self.activation1.forward(A1)\n",
    "        A2 = self.FC2.forward(Z1)\n",
    "        Z2 = self.activation2.forward(A2)\n",
    "        A3 = self.FC3.forward(Z2)\n",
    "        Z3 = self.activation3.forward(A3)\n",
    "        A4 = self.FC4.forward(Z3)\n",
    "        Z4 = self.activation4.forward(A4)\n",
    "        return Z4\n",
    "    \n",
    "    def back_propagation(self, X, y_true):\n",
    "        dA4 = self.activation4.backward(y_true) #交差エントロピー誤差とソフトマックスを併せている\n",
    "        dZ3 = self.FC4.backward(dA4)\n",
    "        dA3 = self.activation3.backward(dZ3) \n",
    "        dZ2 = self.FC3.backward(dA3)\n",
    "        dA2 = self.activation2.backward(dZ2)\n",
    "        dZ1 = self.FC2.backward(dA2)\n",
    "        dA1 = self.activation1.backward(dZ1)\n",
    "        dZ0 = self.FC1.backward(dA1) #dZ0は使用しない\n",
    "        \n",
    "    def learning_curve(self):\n",
    "        plt.title('model loss')\n",
    "        plt.xlabel('num_epoch')\n",
    "        plt.ylabel('loss')\n",
    "        plt.plot(np.arange(1, self.num_epoch * self.iter + 1), self.loss, label='train_loss')\n",
    "        plt.plot(np.arange(0, self.num_epoch + 1) * self.iter, self.loss_epoch, label='epoch_loss')\n",
    "        if self.val_enable:\n",
    "            plt.plot(np.arange(1, self.num_epoch + 1), self.val_loss, label = 'val_loss')\n",
    "        plt.legend()\n",
    "        plt.show()\n",
    "        return"
   ]
  },
  {
   "cell_type": "code",
   "execution_count": 49,
   "metadata": {},
   "outputs": [],
   "source": [
    "# ミニバッチ処理のクラス\n",
    "class GetMiniBatch:\n",
    "    \"\"\"\n",
    "    ミニバッチを取得するイテレータ\n",
    "\n",
    "    Parameters\n",
    "    ----------\n",
    "    X : 次の形のndarray, shape (n_samples, n_features)\n",
    "      訓練データ\n",
    "    y : 次の形のndarray, shape (n_samples, 1)\n",
    "      正解値\n",
    "    batch_size : int\n",
    "      バッチサイズ\n",
    "    seed : int\n",
    "      NumPyの乱数のシード\n",
    "    \"\"\"\n",
    "    def __init__(self, X, y, batch_size = 20, seed=None):\n",
    "        self.batch_size = batch_size\n",
    "        np.random.seed(seed)\n",
    "        shuffle_index = np.random.permutation(np.arange(X.shape[0]))\n",
    "        self._X = X[shuffle_index]\n",
    "        self._y = y[shuffle_index]\n",
    "        self._stop = np.ceil(X.shape[0]/self.batch_size).astype(np.int)\n",
    "        \n",
    "    def __len__(self):\n",
    "        return self._stop\n",
    "    \n",
    "    def __getitem__(self,item):\n",
    "        p0 = item*self.batch_size\n",
    "        p1 = item*self.batch_size + self.batch_size\n",
    "        return self._X[p0:p1], self._y[p0:p1] \n",
    "    \n",
    "    def __iter__(self):\n",
    "        self._counter = 0\n",
    "        return self\n",
    "    \n",
    "    def __next__(self):\n",
    "        if self._counter >= self._stop:\n",
    "            raise StopIteration()\n",
    "        p0 = self._counter*self.batch_size\n",
    "        p1 = self._counter*self.batch_size + self.batch_size\n",
    "        self._counter += 1\n",
    "        return self._X[p0:p1], self._y[p0:p1]"
   ]
  },
  {
   "cell_type": "code",
   "execution_count": 50,
   "metadata": {},
   "outputs": [],
   "source": [
    "#Problem 9.\n",
    "def evaluate(y_true, y_pred):\n",
    "    print('accuracy = ', accuracy_score(y_true, y_pred))\n",
    "    print('precision = ', precision_score(y_true, y_pred, average = 'macro'))\n",
    "    print('recall = ', recall_score(y_true, y_pred, average = 'macro'))\n",
    "    print('f1 = ', f1_score(y_true, y_pred, average= 'macro'))\n",
    "    print(confusion_matrix(y_true, y_pred))"
   ]
  },
  {
   "cell_type": "code",
   "execution_count": 22,
   "metadata": {},
   "outputs": [
    {
     "data": {
      "image/png": "[encoded data removed]",
      "text/plain": [
       "<Figure size 432x288 with 1 Axes>"
      ]
     },
     "metadata": {
      "needs_background": "light"
     },
     "output_type": "display_data"
    },
    {
     "name": "stdout",
     "output_type": "stream",
     "text": [
      "\n"
     ]
    }
   ],
   "source": [
    "scratch_dnn1 = ScratchDeepNeuralNetworkClassifier(num_epoch=5, lr= 0.01, batch_size=20, \n",
    "                                                 n_features=784, n_nodes1 =400, n_nodes2=600, n_nodes3 =200,  n_output=10,\n",
    "                                                 verbose = True, activater = Tanh, optimizer=SGD)\n",
    "\n",
    "scratch_dnn1.fit(X_train_, y_train_)"
   ]
  },
  {
   "cell_type": "code",
   "execution_count": 23,
   "metadata": {},
   "outputs": [],
   "source": [
    "y_pred1 = scratch_dnn1.predict(X_test)"
   ]
  },
  {
   "cell_type": "code",
   "execution_count": 24,
   "metadata": {},
   "outputs": [
    {
     "name": "stdout",
     "output_type": "stream",
     "text": [
      "accuracy =  0.966\n",
      "precision =  0.9665220376121795\n",
      "recall =  0.9653954485942814\n",
      "f1 =  0.9655997746460722\n",
      "[[ 966    0    6    0    0    3    0    1    3    1]\n",
      " [   0 1123    5    2    0    0    2    0    3    0]\n",
      " [   1    0 1012    5    2    0    2    9    1    0]\n",
      " [   0    0    5  997    0    1    0    5    1    1]\n",
      " [   0    0    5    0  966    0    1    6    0    4]\n",
      " [   2    0    2   24    0  850    2    1    6    5]\n",
      " [  13    2    6    0    4   21  906    1    4    1]\n",
      " [   0    4    8    2    4    0    0 1002    1    7]\n",
      " [   2    1    8   27    8    3    0   11  910    4]\n",
      " [   3    6    1   18   42    2    0    9    0  928]]\n"
     ]
    }
   ],
   "source": [
    "evaluate(y_test, y_pred1)"
   ]
  },
  {
   "cell_type": "code",
   "execution_count": 25,
   "metadata": {},
   "outputs": [
    {
     "data": {
      "image/png": "[encoded data removed]",
      "text/plain": [
       "<Figure size 432x288 with 1 Axes>"
      ]
     },
     "metadata": {
      "needs_background": "light"
     },
     "output_type": "display_data"
    },
    {
     "name": "stdout",
     "output_type": "stream",
     "text": [
      "\n"
     ]
    }
   ],
   "source": [
    "scratch_dnn2 = ScratchDeepNeuralNetworkClassifier(num_epoch=5, lr= 0.01, batch_size=20, \n",
    "                                                 n_features=784, n_nodes1 =400, n_nodes2=300, n_nodes3 =200,  n_output=10,\n",
    "                                                 verbose = True, activater = Tanh, optimizer=SGD)\n",
    "\n",
    "scratch_dnn2.fit(X_train_, y_train_)"
   ]
  },
  {
   "cell_type": "code",
   "execution_count": 26,
   "metadata": {},
   "outputs": [],
   "source": [
    "y_pred2 = scratch_dnn2.predict(X_test)"
   ]
  },
  {
   "cell_type": "code",
   "execution_count": 27,
   "metadata": {},
   "outputs": [
    {
     "name": "stdout",
     "output_type": "stream",
     "text": [
      "accuracy =  0.9703\n",
      "precision =  0.9703417162669338\n",
      "recall =  0.9698879511648693\n",
      "f1 =  0.970016775453097\n",
      "[[ 968    0    2    0    0    1    4    0    2    3]\n",
      " [   0 1120    1    4    0    2    2    1    5    0]\n",
      " [   5    7  995    4    1    0    7    6    6    1]\n",
      " [   0    0    3  985    0    1    0    5    9    7]\n",
      " [   2    0    5    0  949    3    5    2    1   15]\n",
      " [   5    0    0   27    0  837    5    2   10    6]\n",
      " [   3    2    0    0    1    6  945    0    1    0]\n",
      " [   1    3   12    4    0    0    1  987    4   16]\n",
      " [   5    0    1    7    1    2    1    5  948    4]\n",
      " [   3    1    0    7   12    3    2    6    6  969]]\n"
     ]
    }
   ],
   "source": [
    "evaluate(y_test, y_pred2)"
   ]
  },
  {
   "cell_type": "code",
   "execution_count": 28,
   "metadata": {},
   "outputs": [
    {
     "data": {
      "image/png": "[encoded data removed]",
      "text/plain": [
       "<Figure size 432x288 with 1 Axes>"
      ]
     },
     "metadata": {
      "needs_background": "light"
     },
     "output_type": "display_data"
    },
    {
     "name": "stdout",
     "output_type": "stream",
     "text": [
      "\n"
     ]
    }
   ],
   "source": [
    "scratch_dnn3 = ScratchDeepNeuralNetworkClassifier(num_epoch=20, lr= 0.01, batch_size=20, \n",
    "                                                 n_features=784, n_nodes1 =400, n_nodes2=300, n_nodes3 =200,  n_output=10,\n",
    "                                                 verbose = True, activater = Tanh, optimizer=SGD)\n",
    "\n",
    "scratch_dnn3.fit(X_train_, y_train_)"
   ]
  },
  {
   "cell_type": "code",
   "execution_count": 31,
   "metadata": {},
   "outputs": [],
   "source": [
    "y_pred3 = scratch_dnn3.predict(X_test)"
   ]
  },
  {
   "cell_type": "code",
   "execution_count": 32,
   "metadata": {},
   "outputs": [
    {
     "name": "stdout",
     "output_type": "stream",
     "text": [
      "accuracy =  0.9815\n",
      "precision =  0.9814206468258186\n",
      "recall =  0.9813149905260046\n",
      "f1 =  0.9813629544287416\n",
      "[[ 970    0    1    0    0    1    3    3    2    0]\n",
      " [   0 1126    2    2    0    1    2    0    2    0]\n",
      " [   3    0 1013    4    2    0    3    4    3    0]\n",
      " [   0    0    6  988    0    2    0    6    3    5]\n",
      " [   0    1    3    0  966    1    1    1    0    9]\n",
      " [   3    0    0    6    1  868    6    1    3    4]\n",
      " [   4    2    1    1    2    3  944    0    1    0]\n",
      " [   1    3    9    1    0    0    0 1004    2    8]\n",
      " [   2    0    2    3    5    4    0    4  952    2]\n",
      " [   2    2    0    4    8    3    1    4    1  984]]\n"
     ]
    }
   ],
   "source": [
    "evaluate(y_test, y_pred3)"
   ]
  },
  {
   "cell_type": "code",
   "execution_count": 55,
   "metadata": {},
   "outputs": [
    {
     "data": {
      "image/png": "[encoded data removed]",
      "text/plain": [
       "<Figure size 432x288 with 1 Axes>"
      ]
     },
     "metadata": {
      "needs_background": "light"
     },
     "output_type": "display_data"
    },
    {
     "name": "stdout",
     "output_type": "stream",
     "text": [
      "\n"
     ]
    }
   ],
   "source": [
    "scratch_dnn4 = ScratchDeepNeuralNetworkClassifier(num_epoch=20, lr= 0.01, batch_size=20, \n",
    "                                                 n_features=784, n_nodes1 =400, n_nodes2=300, n_nodes3 =200,  n_output=10,\n",
    "                                                 verbose = True, activater = ReLU, optimizer=SGD)\n",
    "\n",
    "scratch_dnn4.fit(X_train_, y_train_)"
   ]
  },
  {
   "cell_type": "code",
   "execution_count": 56,
   "metadata": {},
   "outputs": [],
   "source": [
    "y_pred4 = scratch_dnn4.predict(X_test)"
   ]
  },
  {
   "cell_type": "code",
   "execution_count": 57,
   "metadata": {},
   "outputs": [
    {
     "name": "stdout",
     "output_type": "stream",
     "text": [
      "accuracy =  0.9813\n",
      "precision =  0.9812508575663103\n",
      "recall =  0.9812085994554558\n",
      "f1 =  0.9812184179355874\n",
      "[[ 965    0    0    1    0    1    9    2    1    1]\n",
      " [   0 1127    4    0    0    0    1    2    1    0]\n",
      " [   4    0 1016    2    0    0    2    3    5    0]\n",
      " [   0    0    2  987    0    8    0    4    4    5]\n",
      " [   0    0    3    0  961    1    4    2    1   10]\n",
      " [   2    0    0    5    0  878    3    1    2    1]\n",
      " [   1    4    0    0    4    2  943    0    4    0]\n",
      " [   1    4   11    2    3    0    1  995    3    8]\n",
      " [   0    0    5    5    3    2    0    4  951    4]\n",
      " [   1    3    0    4    4    1    1    3    2  990]]\n"
     ]
    }
   ],
   "source": [
    "evaluate(y_test, y_pred4)"
   ]
  },
  {
   "cell_type": "code",
   "execution_count": 58,
   "metadata": {},
   "outputs": [
    {
     "data": {
      "image/png": "[encoded data removed]",
      "text/plain": [
       "<Figure size 432x288 with 1 Axes>"
      ]
     },
     "metadata": {
      "needs_background": "light"
     },
     "output_type": "display_data"
    },
    {
     "name": "stdout",
     "output_type": "stream",
     "text": [
      "\n"
     ]
    }
   ],
   "source": [
    "scratch_dnn5 = ScratchDeepNeuralNetworkClassifier(num_epoch=20, lr= 0.001, batch_size=100, \n",
    "                                                 n_features=784, n_nodes1 =400, n_nodes2=300, n_nodes3 =200,  n_output=10,\n",
    "                                                 verbose = True, activater = ReLU, optimizer=SGD)\n",
    "\n",
    "scratch_dnn5.fit(X_train_, y_train_)"
   ]
  },
  {
   "cell_type": "code",
   "execution_count": 59,
   "metadata": {},
   "outputs": [],
   "source": [
    "y_pred5 = scratch_dnn5.predict(X_test)"
   ]
  },
  {
   "cell_type": "code",
   "execution_count": 60,
   "metadata": {},
   "outputs": [
    {
     "name": "stdout",
     "output_type": "stream",
     "text": [
      "accuracy =  0.9818\n",
      "precision =  0.9817318041210041\n",
      "recall =  0.981621417181689\n",
      "f1 =  0.9816606198733886\n",
      "[[ 970    1    1    0    0    1    3    1    2    1]\n",
      " [   0 1126    2    1    0    0    2    1    3    0]\n",
      " [   2    1 1007    5    2    1    2    5    7    0]\n",
      " [   0    0    1  995    0    3    0    2    5    4]\n",
      " [   1    1    4    0  970    0    2    0    0    4]\n",
      " [   2    1    1    7    2  867    5    1    3    3]\n",
      " [   3    2    0    1    5    4  940    0    3    0]\n",
      " [   0    3    8    3    1    0    0 1001    4    8]\n",
      " [   4    0    1    2    3    1    2    2  956    3]\n",
      " [   2    2    0    5    6    2    2    3    1  986]]\n"
     ]
    }
   ],
   "source": [
    "evaluate(y_test, y_pred5)"
   ]
  },
  {
   "cell_type": "code",
   "execution_count": 61,
   "metadata": {},
   "outputs": [
    {
     "data": {
      "image/png": "[encoded data removed]",
      "text/plain": [
       "<Figure size 432x288 with 1 Axes>"
      ]
     },
     "metadata": {
      "needs_background": "light"
     },
     "output_type": "display_data"
    },
    {
     "name": "stdout",
     "output_type": "stream",
     "text": [
      "\n"
     ]
    }
   ],
   "source": [
    "scratch_dnn6 = ScratchDeepNeuralNetworkClassifier(num_epoch=20, lr= 0.001, batch_size=100, \n",
    "                                                 n_features=784, n_nodes1 =400, n_nodes2=300, n_nodes3 =200,  n_output=10,\n",
    "                                                 verbose = True, activater = Tanh, optimizer=SGD)\n",
    "\n",
    "scratch_dnn6.fit(X_train_, y_train_)"
   ]
  },
  {
   "cell_type": "code",
   "execution_count": 62,
   "metadata": {},
   "outputs": [],
   "source": [
    "y_pred6 = scratch_dnn6.predict(X_test)"
   ]
  },
  {
   "cell_type": "code",
   "execution_count": 63,
   "metadata": {},
   "outputs": [
    {
     "name": "stdout",
     "output_type": "stream",
     "text": [
      "accuracy =  0.9774\n",
      "precision =  0.9772113641344301\n",
      "recall =  0.9772592329132038\n",
      "f1 =  0.9772191990442629\n",
      "[[ 966    0    2    1    1    4    4    1    1    0]\n",
      " [   0 1123    3    2    0    1    2    2    2    0]\n",
      " [   2    0 1014    3    2    0    3    2    6    0]\n",
      " [   0    0    7  983    1    6    0    3    4    6]\n",
      " [   0    0    4    1  963    1    2    2    1    8]\n",
      " [   2    0    0    7    2  872    4    1    2    2]\n",
      " [   4    3    2    0    4    8  934    0    3    0]\n",
      " [   0    4   10    4    2    0    0  992    5   11]\n",
      " [   4    0    3    4    3    6    2    4  945    3]\n",
      " [   2    2    2    6    9    1    0    4    1  982]]\n"
     ]
    }
   ],
   "source": [
    "evaluate(y_test, y_pred6)"
   ]
  },
  {
   "cell_type": "code",
   "execution_count": 65,
   "metadata": {},
   "outputs": [
    {
     "data": {
      "image/png": "[encoded data removed]",
      "text/plain": [
       "<Figure size 432x288 with 1 Axes>"
      ]
     },
     "metadata": {
      "needs_background": "light"
     },
     "output_type": "display_data"
    },
    {
     "name": "stdout",
     "output_type": "stream",
     "text": [
      "\n"
     ]
    }
   ],
   "source": [
    "scratch_dnn7 = ScratchDeepNeuralNetworkClassifier(num_epoch=20, lr= 0.001, batch_size=256, \n",
    "                                                 n_features=784, n_nodes1 =400, n_nodes2=300, n_nodes3 =200,  n_output=10,\n",
    "                                                 verbose = True, activater = Tanh, optimizer=SGD)\n",
    "\n",
    "scratch_dnn7.fit(X_train_, y_train_)"
   ]
  },
  {
   "cell_type": "code",
   "execution_count": 66,
   "metadata": {},
   "outputs": [],
   "source": [
    "y_pred7 = scratch_dnn7.predict(X_test)"
   ]
  },
  {
   "cell_type": "code",
   "execution_count": 67,
   "metadata": {},
   "outputs": [
    {
     "name": "stdout",
     "output_type": "stream",
     "text": [
      "accuracy =  0.9774\n",
      "precision =  0.9773685595152433\n",
      "recall =  0.9771456961130113\n",
      "f1 =  0.9772403400726022\n",
      "[[ 969    0    2    0    1    2    3    1    2    0]\n",
      " [   0 1124    2    2    0    1    2    2    2    0]\n",
      " [   3    0 1012    4    1    0    1    6    5    0]\n",
      " [   0    0    6  983    0    3    0    9    5    4]\n",
      " [   0    0    4    1  965    1    2    2    0    7]\n",
      " [   3    0    0   12    2  863    7    1    2    2]\n",
      " [   4    3    3    0    3    5  936    2    2    0]\n",
      " [   0    5    9    1    1    0    0 1002    4    6]\n",
      " [   3    0    2    9    1    5    2    4  946    2]\n",
      " [   4    2    1    7    7    1    1   10    2  974]]\n"
     ]
    }
   ],
   "source": [
    "evaluate(y_test, y_pred7)"
   ]
  },
  {
   "cell_type": "code",
   "execution_count": 68,
   "metadata": {},
   "outputs": [
    {
     "data": {
      "image/png": "[encoded data removed]",
      "text/plain": [
       "<Figure size 432x288 with 1 Axes>"
      ]
     },
     "metadata": {
      "needs_background": "light"
     },
     "output_type": "display_data"
    },
    {
     "name": "stdout",
     "output_type": "stream",
     "text": [
      "\n"
     ]
    }
   ],
   "source": [
    "scratch_dnn8 = ScratchDeepNeuralNetworkClassifier(num_epoch=20, lr= 0.01, batch_size=20, \n",
    "                                                 n_features=784, n_nodes1 =400, n_nodes2=300, n_nodes3 =200,  n_output=10,\n",
    "                                                 verbose = True, activater = ReLU, optimizer=AdaGrad)\n",
    "\n",
    "scratch_dnn8.fit(X_train_, y_train_)"
   ]
  },
  {
   "cell_type": "code",
   "execution_count": 69,
   "metadata": {},
   "outputs": [],
   "source": [
    "y_pred8 = scratch_dnn8.predict(X_test)"
   ]
  },
  {
   "cell_type": "code",
   "execution_count": 70,
   "metadata": {},
   "outputs": [
    {
     "name": "stdout",
     "output_type": "stream",
     "text": [
      "accuracy =  0.9803\n",
      "precision =  0.9802149085161082\n",
      "recall =  0.9800752843227081\n",
      "f1 =  0.9801369543696037\n",
      "[[ 969    0    0    1    1    1    3    1    3    1]\n",
      " [   0 1126    3    0    0    1    2    1    2    0]\n",
      " [   3    2 1010    2    2    0    0    4    9    0]\n",
      " [   0    0    6  989    0    3    0    1    7    4]\n",
      " [   2    0    3    0  965    0    4    2    0    6]\n",
      " [   2    0    0    8    1  868    6    1    3    3]\n",
      " [   4    3    1    0    6    4  937    0    3    0]\n",
      " [   1    4    7    3    1    0    0 1006    2    4]\n",
      " [   3    0    3    4    3    2    3    2  949    5]\n",
      " [   1    2    0    5    6    1    2    4    4  984]]\n"
     ]
    }
   ],
   "source": [
    "evaluate(y_test, y_pred8)"
   ]
  },
  {
   "cell_type": "code",
   "execution_count": 71,
   "metadata": {},
   "outputs": [
    {
     "data": {
      "image/png": "[encoded data removed]",
      "text/plain": [
       "<Figure size 432x288 with 1 Axes>"
      ]
     },
     "metadata": {
      "needs_background": "light"
     },
     "output_type": "display_data"
    },
    {
     "name": "stdout",
     "output_type": "stream",
     "text": [
      "\n"
     ]
    }
   ],
   "source": [
    "scratch_dnn9 = ScratchDeepNeuralNetworkClassifier(num_epoch=20, lr= 0.001, batch_size=100, \n",
    "                                                 n_features=784, n_nodes1 =400, n_nodes2=300, n_nodes3 =200,  n_output=10,\n",
    "                                                 verbose = True, activater = ReLU, optimizer=AdaGrad)\n",
    "\n",
    "scratch_dnn9.fit(X_train_, y_train_)"
   ]
  },
  {
   "cell_type": "code",
   "execution_count": 72,
   "metadata": {},
   "outputs": [],
   "source": [
    "y_pred9 = scratch_dnn9.predict(X_test)"
   ]
  },
  {
   "cell_type": "code",
   "execution_count": 73,
   "metadata": {},
   "outputs": [
    {
     "name": "stdout",
     "output_type": "stream",
     "text": [
      "accuracy =  0.9653\n",
      "precision =  0.9650757130706493\n",
      "recall =  0.9649494033599509\n",
      "f1 =  0.9649935909613404\n",
      "[[ 968    0    2    1    1    2    3    1    2    0]\n",
      " [   0 1122    3    1    1    1    1    1    5    0]\n",
      " [   7    1  994    4    3    1    4    7   10    1]\n",
      " [   0    0    8  974    1    6    0    7    8    6]\n",
      " [   1    1    5    0  946    0    7    3    4   15]\n",
      " [   6    2    0    8    2  853    9    0   10    2]\n",
      " [   8    3    2    0    6    9  926    0    4    0]\n",
      " [   1    7   16    2    2    1    0  985    0   14]\n",
      " [   3    1    3   10    8    8    3    5  929    4]\n",
      " [   5    6    1   11   15    2    0    9    4  956]]\n"
     ]
    }
   ],
   "source": [
    "evaluate(y_test, y_pred9)"
   ]
  },
  {
   "cell_type": "code",
   "execution_count": 74,
   "metadata": {},
   "outputs": [
    {
     "data": {
      "image/png": "[encoded data removed]",
      "text/plain": [
       "<Figure size 432x288 with 1 Axes>"
      ]
     },
     "metadata": {
      "needs_background": "light"
     },
     "output_type": "display_data"
    },
    {
     "name": "stdout",
     "output_type": "stream",
     "text": [
      "\n"
     ]
    }
   ],
   "source": [
    "scratch_dnn10 = ScratchDeepNeuralNetworkClassifier(num_epoch=20, lr= 0.01, batch_size=100, \n",
    "                                                 n_features=784, n_nodes1 =400, n_nodes2=300, n_nodes3 =200,  n_output=10,\n",
    "                                                 verbose = True, activater = ReLU, optimizer=AdaGrad)\n",
    "\n",
    "scratch_dnn10.fit(X_train_, y_train_)"
   ]
  },
  {
   "cell_type": "code",
   "execution_count": 75,
   "metadata": {},
   "outputs": [],
   "source": [
    "y_pred10 = scratch_dnn10.predict(X_test)"
   ]
  },
  {
   "cell_type": "code",
   "execution_count": 76,
   "metadata": {},
   "outputs": [
    {
     "name": "stdout",
     "output_type": "stream",
     "text": [
      "accuracy =  0.9817\n",
      "precision =  0.9816063279522174\n",
      "recall =  0.9815408148444427\n",
      "f1 =  0.9815617147256497\n",
      "[[ 971    0    0    2    1    0    2    1    3    0]\n",
      " [   0 1126    2    1    0    1    2    1    2    0]\n",
      " [   4    0 1011    3    1    0    4    3    6    0]\n",
      " [   0    0    3  993    0    5    0    1    6    2]\n",
      " [   1    0    3    0  969    0    3    2    0    4]\n",
      " [   2    0    0    8    2  871    4    1    2    2]\n",
      " [   3    2    2    1    3    2  942    0    3    0]\n",
      " [   1    2    9    4    2    0    0 1001    2    7]\n",
      " [   2    0    3    6    4    2    3    3  946    5]\n",
      " [   3    3    0    3    6    1    0    3    3  987]]\n"
     ]
    }
   ],
   "source": [
    "evaluate(y_test, y_pred10)"
   ]
  },
  {
   "cell_type": "code",
   "execution_count": null,
   "metadata": {},
   "outputs": [],
   "source": []
  }
 ],
 "metadata": {
  "kernelspec": {
   "display_name": "Python 3",
   "language": "python",
   "name": "python3"
  },
  "language_info": {
   "codemirror_mode": {
    "name": "ipython",
    "version": 3
   },
   "file_extension": ".py",
   "mimetype": "text/x-python",
   "name": "python",
   "nbconvert_exporter": "python",
   "pygments_lexer": "ipython3",
   "version": "3.8.5"
  }
 },
 "nbformat": 4,
 "nbformat_minor": 4
}
