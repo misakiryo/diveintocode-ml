{
 "cells": [
  {
   "cell_type": "markdown",
   "metadata": {
    "id": "vqdJXeW3ow25"
   },
   "source": [
    "### 【問題1】2×2マスのチェス盤の小麦の数\n",
    "\n",
    "2×2マスのチェス盤をndarrayによって表現し、各マスの小麦の数を計算してください。左上のマスに小麦を1つ置いた後、その右が2つ、左下が4つ、右下が8つという風に進みます。\n",
    "\n",
    "\n",
    "サンプルコードで作成したndarrayのshapeの変形を行ってください。"
   ]
  },
  {
   "cell_type": "code",
   "execution_count": 36,
   "metadata": {
    "colab": {
     "base_uri": "https://localhost:8080/"
    },
    "id": "8GH5lvlloOWH",
    "outputId": "bcd94b66-2eeb-4594-d908-e8df87856640"
   },
   "outputs": [
    {
     "name": "stdout",
     "output_type": "stream",
     "text": [
      "2×2マスのチェス盤:\n",
      "[[1 2]\n",
      " [4 8]]\n"
     ]
    }
   ],
   "source": [
    " import numpy as np\n",
    "\n",
    "n_squares = 4\n",
    "small_board_list = [1]\n",
    "for i in range(n_squares -1):\n",
    "    small_board_list.append(small_board_list[-1]*2)\n",
    "    small_board_ndarray = np.array(small_board_list)\n",
    "first_re_shape = np.reshape(small_board_ndarray, (2,2))\n",
    "print('2×2マスのチェス盤:\\n{}'.format(first_re_shape))"
   ]
  },
  {
   "cell_type": "markdown",
   "metadata": {
    "id": "J2PkfAnSy-Kl"
   },
   "source": [
    "### 【問題2】n×mマスへの拡張\n",
    "\n",
    "n×mマスのチェス盤の小麦の数を記したndarrayを返す関数を作成してください。そして、この関数を使い8×8マスのチェス盤の小麦の数を求めてください。"
   ]
  },
  {
   "cell_type": "code",
   "execution_count": 15,
   "metadata": {
    "colab": {
     "base_uri": "https://localhost:8080/"
    },
    "id": "2sI3_PvAt4gZ",
    "outputId": "f02eb36f-b52b-49ab-c028-8aa5d8468d97",
    "scrolled": false
   },
   "outputs": [
    {
     "name": "stdout",
     "output_type": "stream",
     "text": [
      "[[1.00000000e+00 2.00000000e+00 4.00000000e+00 8.00000000e+00\n",
      "  1.60000000e+01 3.20000000e+01 6.40000000e+01 1.28000000e+02]\n",
      " [2.56000000e+02 5.12000000e+02 1.02400000e+03 2.04800000e+03\n",
      "  4.09600000e+03 8.19200000e+03 1.63840000e+04 3.27680000e+04]\n",
      " [6.55360000e+04 1.31072000e+05 2.62144000e+05 5.24288000e+05\n",
      "  1.04857600e+06 2.09715200e+06 4.19430400e+06 8.38860800e+06]\n",
      " [1.67772160e+07 3.35544320e+07 6.71088640e+07 1.34217728e+08\n",
      "  2.68435456e+08 5.36870912e+08 1.07374182e+09 2.14748365e+09]\n",
      " [4.29496730e+09 8.58993459e+09 1.71798692e+10 3.43597384e+10\n",
      "  6.87194767e+10 1.37438953e+11 2.74877907e+11 5.49755814e+11]\n",
      " [1.09951163e+12 2.19902326e+12 4.39804651e+12 8.79609302e+12\n",
      "  1.75921860e+13 3.51843721e+13 7.03687442e+13 1.40737488e+14]\n",
      " [2.81474977e+14 5.62949953e+14 1.12589991e+15 2.25179981e+15\n",
      "  4.50359963e+15 9.00719925e+15 1.80143985e+16 3.60287970e+16]\n",
      " [7.20575940e+16 1.44115188e+17 2.88230376e+17 5.76460752e+17\n",
      "  1.15292150e+18 2.30584301e+18 4.61168602e+18 9.22337204e+18]]\n"
     ]
    }
   ],
   "source": [
    "def chess_board_wheat(square):\n",
    "    board_list = [1]\n",
    "    for i in range(square - 1):\n",
    "        board_list.append(board_list[-1]*2)\n",
    "        board_list_ndarray = np.array(board_list)\n",
    "    return square, board_list_ndarray\n",
    "\n",
    "\n",
    "square = 64\n",
    "_, board_list_ndarray = chess_board_wheat(square)\n",
    "n_line = 8\n",
    "m_column = 8\n",
    "board_list_shape = np.reshape(board_list_ndarray, (n_line, m_column))\n",
    "print(board_list_shape)\n",
    "#print('{}マスの板に小麦を並べる(ndarray):{}'.format(square, a))"
   ]
  },
  {
   "cell_type": "markdown",
   "metadata": {
    "id": "bkqR0kNrIQy0"
   },
   "source": [
    "### 【問題3】小麦の数の合計\n",
    "\n",
    "8×8マスのチェス盤の小麦の数の合計を求めてください。\n",
    "\n",
    "また、各列の平均を求め、それを棒グラフで可視化してください。"
   ]
  },
  {
   "cell_type": "code",
   "execution_count": 3,
   "metadata": {
    "colab": {
     "base_uri": "https://localhost:8080/"
    },
    "id": "7S1XKaIL5mO8",
    "outputId": "7a5543f0-257c-4278-9ded-fdbf1297818c"
   },
   "outputs": [
    {
     "name": "stdout",
     "output_type": "stream",
     "text": [
      "8*8マスのチェス盤の小麦の数の合計は18446744073709551615粒です。\n"
     ]
    },
    {
     "data": {
      "text/plain": [
       "array([9.04252160e+15, 1.80850432e+16, 3.61700864e+16, 7.23401728e+16,\n",
       "       1.44680346e+17, 2.89360691e+17, 5.78721383e+17, 1.15744277e+18])"
      ]
     },
     "execution_count": 3,
     "metadata": {},
     "output_type": "execute_result"
    }
   ],
   "source": [
    "def chess_board_wheat(square):\n",
    "    board_list = [1]\n",
    "    total_list = [board_list[0]]\n",
    "    for i in range(square - 1):\n",
    "        board_list.append(board_list[-1]*2)\n",
    "        total_list.append(total_list[-1]+board_list[-1])\n",
    "        board_list_ndarray = np.array(board_list)\n",
    "    return square, board_list_ndarray, total_list\n",
    "\n",
    "square = 64\n",
    "_, board_list_ndarray, total_list = chess_board_wheat(square)\n",
    "\n",
    "print('8*8マスのチェス盤の小麦の数の合計は{}粒です。'.format(total_list[-1]))\n",
    "\n",
    "n_line = 8\n",
    "m_column = 8\n",
    "board_list_shape = np.reshape(board_list_ndarray, (n_line, m_column))\n",
    "\n",
    "np.average(board_list_shape, axis = 0)"
   ]
  },
  {
   "cell_type": "code",
   "execution_count": 4,
   "metadata": {
    "colab": {
     "base_uri": "https://localhost:8080/",
     "height": 302
    },
    "id": "Ezi8bYonBBq6",
    "outputId": "2ee11314-8eb9-43ec-b6a6-33259a2a2259"
   },
   "outputs": [
    {
     "data": {
      "image/png": "[encoded data removed]",
      "text/plain": [
       "<Figure size 432x288 with 1 Axes>"
      ]
     },
     "metadata": {
      "needs_background": "light"
     },
     "output_type": "display_data"
    }
   ],
   "source": [
    "#棒グラフで可視化する\n",
    "\n",
    "import matplotlib.pyplot as plt\n",
    "%matplotlib inline\n",
    "plt.xlabel(\"column\", fontsize = 15)\n",
    "plt.ylabel(\"number\", fontsize = 15)\n",
    "plt.title(\"number in each column\", fontsize = 15)\n",
    "plt.bar(range(1,9), np.average(board_list_shape, axis = 0)) #rangeの中が1,9だと何故グラフがこうなるのか？\n",
    "plt.show()"
   ]
  },
  {
   "cell_type": "markdown",
   "metadata": {
    "id": "onb2K3CNInhG"
   },
   "source": [
    "### 【問題4】小麦の数のヒートマップ\n",
    "8×8マスのチェス盤の小麦の数をヒートマップとして可視化してください。"
   ]
  },
  {
   "cell_type": "code",
   "execution_count": 5,
   "metadata": {
    "colab": {
     "base_uri": "https://localhost:8080/",
     "height": 295
    },
    "id": "CWZdOCGQI0v2",
    "outputId": "e326b4da-9e9c-4e18-ee35-050682719918"
   },
   "outputs": [
    {
     "data": {
      "image/png": "[encoded data removed]",
      "text/plain": [
       "<Figure size 432x288 with 1 Axes>"
      ]
     },
     "metadata": {
      "needs_background": "light"
     },
     "output_type": "display_data"
    }
   ],
   "source": [
    "plt.xlabel(\"column\")\n",
    "plt.ylabel(\"row\")\n",
    "plt.title(\"heatmap\")\n",
    "plt.pcolor(board_list_ndarray.reshape(8,8))\n",
    "#plt.plot(True)\n",
    "plt.show()"
   ]
  },
  {
   "cell_type": "markdown",
   "metadata": {
    "id": "A3gUxwH5Lvdu"
   },
   "source": [
    "### 【問題5】後半は前半の何倍か\n",
    "\n",
    "チェス盤の後半にある小麦の数は前半にある小麦の数の何倍かを求めてください。前半とは配列の0から3行目、後半は4から7行目です。"
   ]
  },
  {
   "cell_type": "code",
   "execution_count": 37,
   "metadata": {
    "colab": {
     "base_uri": "https://localhost:8080/"
    },
    "id": "d7oZA44dJWwb",
    "outputId": "fd99621b-0359-4a37-d09c-0917d5998689"
   },
   "outputs": [
    {
     "name": "stdout",
     "output_type": "stream",
     "text": [
      "チェス盤の後半にある小麦の数は前半にある小麦の数の4294967312.0倍\n"
     ]
    }
   ],
   "source": [
    "import numpy as np\n",
    "\n",
    "def chess_board_wheat(square):\n",
    "    board_list = [1]\n",
    "    total_list = [board_list[0]]\n",
    "    for i in range(square - 1):\n",
    "        board_list.append(board_list[-1]*2)\n",
    "        total_list.append(total_list[-1]+board_list[-1])\n",
    "        board_list_ndarray = np.array(board_list)\n",
    "    return square, board_list_ndarray, total_list\n",
    "\n",
    "square = 64\n",
    "_, _, total_list = chess_board_wheat(square)\n",
    "\n",
    "n_line = 8\n",
    "m_column = 8\n",
    "total_list_shape = np.reshape(total_list, (n_line, m_column))\n",
    "\n",
    "first_half = total_list_shape[:4, :].sum()\n",
    "second_half = total_list_shape[4:, :].sum()\n",
    "rate = second_half/first_half\n",
    "\n",
    "#second_half_wheat = total_list[-1] - total_list[31] #後半の小麦の総数 = 小麦の総数-前半の小麦の総数\n",
    "#what_times = second_half_wheat / total_list[31] #後半の小麦の総数　➗ 前半の小麦の総数\n",
    "\n",
    "print('チェス盤の後半にある小麦の数は前半にある小麦の数の{}倍'.format(rate))\n"
   ]
  },
  {
   "cell_type": "markdown",
   "metadata": {
    "id": "2c9-ITi52NRY"
   },
   "source": [
    "### 【問題6】他の計算方法によるn×mマスへの拡張\n",
    "\n",
    "問題2と同様の「n×mマスのチェス盤の小麦の数を記したndarrayを返す関数」を、np.append()を使ったものと、ブロードキャストを使ったもので新たに作成してください。\n",
    "\n",
    "\n",
    "それらの関数を使い8×8マスのチェス盤の小麦の数を再び求めてください。"
   ]
  },
  {
   "cell_type": "code",
   "execution_count": 17,
   "metadata": {
    "colab": {
     "base_uri": "https://localhost:8080/"
    },
    "id": "YiunLuRqx4iK",
    "outputId": "356632c7-15dd-4219-dcb3-c697c290296b"
   },
   "outputs": [
    {
     "name": "stdout",
     "output_type": "stream",
     "text": [
      "[[                  1                   2                   4\n",
      "                    8                  16                  32\n",
      "                   64                 128]\n",
      " [                256                 512                1024\n",
      "                 2048                4096                8192\n",
      "                16384               32768]\n",
      " [              65536              131072              262144\n",
      "               524288             1048576             2097152\n",
      "              4194304             8388608]\n",
      " [           16777216            33554432            67108864\n",
      "            134217728           268435456           536870912\n",
      "           1073741824          2147483648]\n",
      " [         4294967296          8589934592         17179869184\n",
      "          34359738368         68719476736        137438953472\n",
      "         274877906944        549755813888]\n",
      " [      1099511627776       2199023255552       4398046511104\n",
      "        8796093022208      17592186044416      35184372088832\n",
      "       70368744177664     140737488355328]\n",
      " [    281474976710656     562949953421312    1125899906842624\n",
      "     2251799813685248    4503599627370496    9007199254740992\n",
      "    18014398509481984   36028797018963968]\n",
      " [  72057594037927936  144115188075855872  288230376151711744\n",
      "   576460752303423488 1152921504606846976 2305843009213693952\n",
      "  4611686018427387904 9223372036854775808]]\n"
     ]
    }
   ],
   "source": [
    "#「n×mマスのチェス盤の小麦の数を記したndarrayを返す関数」を、np.append()を使ったもの\n",
    "\n",
    "import numpy as np\n",
    "\n",
    "def chess_board_wheat(square):\n",
    "    board_list = np.array([1])\n",
    "    for _ in range(square - 1):\n",
    "        board_list = np.append(board_list, board_list[-1]*2).astype(np.uint64)\n",
    "    return square, board_list\n",
    "\n",
    "square = 64\n",
    "_, board_list = chess_board_wheat(square)\n",
    "\n",
    "n_line = 8\n",
    "m_column = 8\n",
    "board_list_shape = np.reshape(board_list, (n_line, m_column))\n",
    "print(board_list_shape)"
   ]
  },
  {
   "cell_type": "code",
   "execution_count": 16,
   "metadata": {
    "colab": {
     "base_uri": "https://localhost:8080/"
    },
    "id": "3gNs_7PD2nI5",
    "outputId": "74939f90-625f-4a24-b2eb-00d7f918c363"
   },
   "outputs": [
    {
     "name": "stdout",
     "output_type": "stream",
     "text": [
      "[[                  1                   2                   4\n",
      "                    8                  16                  32\n",
      "                   64                 128]\n",
      " [                256                 512                1024\n",
      "                 2048                4096                8192\n",
      "                16384               32768]\n",
      " [              65536              131072              262144\n",
      "               524288             1048576             2097152\n",
      "              4194304             8388608]\n",
      " [           16777216            33554432            67108864\n",
      "            134217728           268435456           536870912\n",
      "           1073741824          2147483648]\n",
      " [         4294967296          8589934592         17179869184\n",
      "          34359738368         68719476736        137438953472\n",
      "         274877906944        549755813888]\n",
      " [      1099511627776       2199023255552       4398046511104\n",
      "        8796093022208      17592186044416      35184372088832\n",
      "       70368744177664     140737488355328]\n",
      " [    281474976710656     562949953421312    1125899906842624\n",
      "     2251799813685248    4503599627370496    9007199254740992\n",
      "    18014398509481984   36028797018963968]\n",
      " [  72057594037927936  144115188075855872  288230376151711744\n",
      "   576460752303423488 1152921504606846976 2305843009213693952\n",
      "  4611686018427387904 9223372036854775808]]\n"
     ]
    }
   ],
   "source": [
    "#「n×mマスのチェス盤の小麦の数を記したndarrayを返す関数」を、ブロードキャストを使ったもの\n",
    "\n",
    "import numpy as np\n",
    "\n",
    "def chess_board_wheat(square):\n",
    "    board_list = np.arange(square)\n",
    "    board_list_ndarray = 2**board_list.astype(np.uint64)\n",
    "    return square, board_list_ndarray\n",
    "\n",
    "square = 64\n",
    "_, board_list_ndarray = chess_board_wheat(square)\n",
    "n_line = 8\n",
    "m_column = 8\n",
    "board_list_shape = np.reshape(board_list_ndarray, (n_line, m_column))\n",
    "print(board_list_shape)"
   ]
  },
  {
   "cell_type": "markdown",
   "metadata": {
    "id": "TVa_BsQp2VT6"
   },
   "source": [
    "### 【問題7】計算時間の比較\n",
    "\n",
    "3種類の方法を見てきました。それぞれの計算時間をJupyter Notebookの%%timeitを用いて計測し、比較と考察を行ってください。\n",
    "\n",
    "\n",
    "%%timeitはセル内のコードを複数回実行し、その平均実行時間を出力する働きをします。"
   ]
  },
  {
   "cell_type": "code",
   "execution_count": 38,
   "metadata": {
    "colab": {
     "base_uri": "https://localhost:8080/"
    },
    "id": "R2lpr1wR1s5V",
    "outputId": "a3c1cfec-ce78-4219-d414-4928b0cd793e"
   },
   "outputs": [
    {
     "name": "stdout",
     "output_type": "stream",
     "text": [
      "598 µs ± 213 µs per loop (mean ± std. dev. of 7 runs, 1000 loops each)\n"
     ]
    }
   ],
   "source": [
    "%%timeit\n",
    "board_list = [1]\n",
    "for i in range(square - 1):\n",
    "    board_list.append(board_list[-1]*2)\n",
    "    board_list_ndarray = np.array(board_list)"
   ]
  },
  {
   "cell_type": "code",
   "execution_count": 39,
   "metadata": {
    "colab": {
     "base_uri": "https://localhost:8080/"
    },
    "id": "5JVJKzP_2cTu",
    "outputId": "49eb20eb-2a47-4c2a-f97e-d580c6c0e510"
   },
   "outputs": [
    {
     "name": "stdout",
     "output_type": "stream",
     "text": [
      "1.18 ms ± 288 µs per loop (mean ± std. dev. of 7 runs, 1000 loops each)\n"
     ]
    }
   ],
   "source": [
    "%%timeit\n",
    "board_list = np.array([1])\n",
    "for _ in range(square - 1):\n",
    "    board_list = np.append(board_list, board_list[-1]*2).astype(np.uint64)"
   ]
  },
  {
   "cell_type": "code",
   "execution_count": 40,
   "metadata": {
    "colab": {
     "base_uri": "https://localhost:8080/"
    },
    "id": "FhlUcxgC8RL6",
    "outputId": "f5c265eb-7a79-449f-9be0-44f8a0266c7a"
   },
   "outputs": [
    {
     "name": "stdout",
     "output_type": "stream",
     "text": [
      "4.59 µs ± 103 ns per loop (mean ± std. dev. of 7 runs, 100000 loops each)\n"
     ]
    }
   ],
   "source": [
    "%%timeit\n",
    "board_list = np.arange(square)\n",
    "board_list_ndarray = 2**board_list.astype(np.uint64)"
   ]
  },
  {
   "cell_type": "markdown",
   "metadata": {
    "id": "cehdptMH8348"
   },
   "source": [
    "〜考察〜【問題7】計算時間の比較\n",
    "\n",
    "3種類の方法の中では、「ブロードキャスト」の計算方法を利用した再が最も速度が早かった。また、np.appendとfor文を利用した2種類目のものはそれに比べ100倍以上も遅く、for文のみの方がまだ早かった。"
   ]
  }
 ],
 "metadata": {
  "colab": {
   "collapsed_sections": [],
   "name": "授業前 Week2 授業前課題1 小麦とチェス盤問題.ipynb",
   "provenance": []
  },
  "kernelspec": {
   "display_name": "Python 3",
   "language": "python",
   "name": "python3"
  },
  "language_info": {
   "codemirror_mode": {
    "name": "ipython",
    "version": 3
   },
   "file_extension": ".py",
   "mimetype": "text/x-python",
   "name": "python",
   "nbconvert_exporter": "python",
   "pygments_lexer": "ipython3",
   "version": "3.8.5"
  }
 },
 "nbformat": 4,
 "nbformat_minor": 1
}
