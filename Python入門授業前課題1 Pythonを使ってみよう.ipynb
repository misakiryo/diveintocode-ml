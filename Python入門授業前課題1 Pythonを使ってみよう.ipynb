{
 "cells": [
  {
   "cell_type": "code",
   "execution_count": 5,
   "metadata": {
    "colab": {
     "base_uri": "https://localhost:8080/"
    },
    "id": "yU8q4fWEkCxu",
    "outputId": "1d54038e-d537-4fdf-f66a-92de1781861c"
   },
   "outputs": [
    {
     "name": "stdout",
     "output_type": "stream",
     "text": [
      "厚さ： 703687441.77664メートル\n"
     ]
    }
   ],
   "source": [
    "# 【問題1】べき乗の算術演算子を使用して作成\n",
    "\n",
    "THICKNESS = 0.00008#紙の厚さ\n",
    "folded_thickness = THICKNESS*2**43 #紙を43回折った時の厚さ\n",
    "print(\"厚さ： {}メートル\".format(folded_thickness))"
   ]
  },
  {
   "cell_type": "code",
   "execution_count": 6,
   "metadata": {
    "colab": {
     "base_uri": "https://localhost:8080/"
    },
    "id": "SFezINuskkkb",
    "outputId": "8c39393b-11a3-445b-8e7b-bd2200f4acad"
   },
   "outputs": [
    {
     "name": "stdout",
     "output_type": "stream",
     "text": [
      "厚さ： 70.37万キロメートル\n"
     ]
    }
   ],
   "source": [
    "#【問題2】単位の変換\n",
    "\n",
    "print(\"厚さ： {:.2f}万キロメートル\".format(folded_thickness/1000/10000))"
   ]
  },
  {
   "cell_type": "markdown",
   "metadata": {
    "id": "HRPWbwMSl1fM"
   },
   "source": [
    "「月までの距離」を検索して、折った紙が月に届くかどうか確認してみましょう。\n",
    "https://hirameki.noge-printing.jp/paper-reach-moon_180124/\n",
    "→上記のサイトより、月までの距離は約38万キロメートルのため、月に届く fin..."
   ]
  },
  {
   "cell_type": "code",
   "execution_count": 7,
   "metadata": {
    "colab": {
     "base_uri": "https://localhost:8080/"
    },
    "id": "6bN86bd1m9Js",
    "outputId": "e5ef3ca5-2332-41f9-e4ea-dff42d951b48"
   },
   "outputs": [
    {
     "name": "stdout",
     "output_type": "stream",
     "text": [
      "厚さ： 70.37万キロメートル\n"
     ]
    }
   ],
   "source": [
    "#【問題3】for文を使用して作成\n",
    "\n",
    "THICKNESS = 0.00008\n",
    "\n",
    "for i in range(43):\n",
    "    THICKNESS *= 2 #紙を43回折り続ける\n",
    "\n",
    "print(\"厚さ： {:.2f}万キロメートル\".format(THICKNESS/1000/10000))"
   ]
  },
  {
   "cell_type": "markdown",
   "metadata": {},
   "source": [
    "### 【問題4】計算時間の比較\n",
    "\n",
    "今回は計算速度を比較してみます。以下の雛形を使用して、2つの方法の計算時間を出力してください。\n",
    "そして、それぞれの計算時間の関係を簡単に説明してください。どちらの書き方が良さそうでしょうか。\n",
    "なお、変数の定義やprint文など、どちらの方法でも使われている部分は除いた範囲の時間を比較してください。"
   ]
  },
  {
   "cell_type": "code",
   "execution_count": 10,
   "metadata": {
    "colab": {
     "base_uri": "https://localhost:8080/"
    },
    "id": "f8vsTsghnhFp",
    "outputId": "e4c1a0ae-8d20-49b2-d211-64b7ac45c97c"
   },
   "outputs": [
    {
     "name": "stdout",
     "output_type": "stream",
     "text": [
      "time : 6.4849853515625e-05[s]\n"
     ]
    }
   ],
   "source": [
    "#べき乗の計算時間\n",
    "\n",
    "import time\n",
    "start = time.time()\n",
    "#####\n",
    "folded_thickness = THICKNESS*2**43 \n",
    "#####\n",
    "elapsed_time = time.time() - start\n",
    "print(\"time : {}[s]\".format(elapsed_time))"
   ]
  },
  {
   "cell_type": "code",
   "execution_count": 11,
   "metadata": {
    "colab": {
     "base_uri": "https://localhost:8080/"
    },
    "id": "xfxPia4dpNI8",
    "outputId": "cabd3281-ae73-4a7e-d373-2d1bb8fb2759"
   },
   "outputs": [
    {
     "name": "stdout",
     "output_type": "stream",
     "text": [
      "time : 0.00020694732666015625[s]\n"
     ]
    }
   ],
   "source": [
    "#for文の計算時間\n",
    "\n",
    "start = time.time()\n",
    "#####\n",
    "for i in range(43):\n",
    "    THICKNESS *= 2 \n",
    "#####\n",
    "elapsed_time = time.time() - start\n",
    "print(\"time : {}[s]\".format(elapsed_time))"
   ]
  },
  {
   "cell_type": "markdown",
   "metadata": {
    "id": "1DwzqoCpq60t"
   },
   "source": [
    "#### 〜2つの計算時間の考察〜\n",
    "「べき乗の計算時間」の方が、「for文の計算時間」よりわずかだが、短い"
   ]
  },
  {
   "cell_type": "code",
   "execution_count": 12,
   "metadata": {
    "colab": {
     "base_uri": "https://localhost:8080/"
    },
    "id": "SGCwRysJpjVY",
    "outputId": "671fffe2-546f-4f1d-a857-4373a1fe8def"
   },
   "outputs": [
    {
     "name": "stdout",
     "output_type": "stream",
     "text": [
      "time : 0.08392333984375[ms]\n"
     ]
    }
   ],
   "source": [
    "#《発展：繰り返し回数を増やす》\n",
    "\n",
    "#べき乗の計算時間を1000乗にして再試行\n",
    "\n",
    "start = time.time()\n",
    "#####\n",
    "folded_thickness = THICKNESS*2**1000\n",
    "#####\n",
    "elapsed_time = time.time() - start\n",
    "print(\"time : {}[ms]\".format(elapsed_time*1000))"
   ]
  },
  {
   "cell_type": "code",
   "execution_count": 13,
   "metadata": {
    "colab": {
     "base_uri": "https://localhost:8080/"
    },
    "id": "1ZU-Yv-Wro4y",
    "outputId": "f2642e6b-a832-4046-c85a-df00c6104ca0"
   },
   "outputs": [
    {
     "name": "stdout",
     "output_type": "stream",
     "text": [
      "time : 0.1900196075439453[ms]\n"
     ]
    }
   ],
   "source": [
    "#for文の計算時間を1000回にして再試行\n",
    "\n",
    "start = time.time()\n",
    "#####\n",
    "for i in range(1000):\n",
    "    THICKNESS *= 2 \n",
    "#####\n",
    "elapsed_time = time.time() - start\n",
    "print(\"time : {}[ms]\".format(elapsed_time*1000))"
   ]
  },
  {
   "cell_type": "markdown",
   "metadata": {
    "id": "0U4hX77os7td"
   },
   "source": [
    "#### 〜1000回以上行った2つの計算時間の考察〜\n",
    "「べき乗の計算時間」の方が、「for文の計算時間」よりも約10倍の速さで計算が終了することがわかった\n",
    "\n",
    "\n",
    "\n"
   ]
  },
  {
   "cell_type": "code",
   "execution_count": 14,
   "metadata": {
    "colab": {
     "base_uri": "https://localhost:8080/"
    },
    "id": "b-hp5FyPr33l",
    "outputId": "d8794c6d-3937-48c8-8f26-bbed6b66d71c"
   },
   "outputs": [
    {
     "name": "stderr",
     "output_type": "stream",
     "text": [
      "UsageError: Line magic function `%%timeit` not found.\n"
     ]
    }
   ],
   "source": [
    "# 《発展：マジックコマンドを使う》\n",
    "\n",
    "%%timeit\n",
    "#####\n",
    "folded_thickness = THICKNESS*2**1000\n",
    "#####"
   ]
  },
  {
   "cell_type": "code",
   "execution_count": 16,
   "metadata": {
    "colab": {
     "base_uri": "https://localhost:8080/",
     "height": 134
    },
    "id": "T7M7t6Cctyfg",
    "outputId": "ca4f8e52-d0ce-4bbe-ea0a-e9dec443d63d"
   },
   "outputs": [
    {
     "name": "stderr",
     "output_type": "stream",
     "text": [
      "UsageError: Line magic function `%%timeit` not found.\n"
     ]
    }
   ],
   "source": [
    "#下記のコードが実行されない理由が分からない・・・・\n",
    "\n",
    "THICKNESS = 0.00008\n",
    "\n",
    "%%timeit\n",
    "#####\n",
    "for i in range(43):\n",
    "    THICKNESS *= 2\n",
    "#####"
   ]
  },
  {
   "cell_type": "code",
   "execution_count": 18,
   "metadata": {
    "colab": {
     "base_uri": "https://localhost:8080/"
    },
    "id": "QPlyW0U8uD7b",
    "outputId": "408539a6-4e4b-46d7-ce3d-86e327fe9eb2"
   },
   "outputs": [
    {
     "name": "stdout",
     "output_type": "stream",
     "text": [
      "44\n"
     ]
    }
   ],
   "source": [
    "# 【問題5】リストへの保存\n",
    "\n",
    "THICKNESS = 0.00008    #紙の厚さ\n",
    "folded_thickness_list = []\n",
    "folded_thickness_list.append(THICKNESS)\n",
    "\n",
    "for i in range(43):\n",
    "    folded_thickness = folded_thickness_list[-1]*2 #リストの最後の値を2倍してfolded_thicknessに代入する\n",
    "    folded_thickness_list.append(folded_thickness) #上記の値をリストに格納する\n",
    "\n",
    "print(len(folded_thickness_list))\n",
    "\n"
   ]
  },
  {
   "cell_type": "code",
   "execution_count": 19,
   "metadata": {
    "colab": {
     "base_uri": "https://localhost:8080/"
    },
    "id": "Ykdzoan0xM74",
    "outputId": "241852ef-e20a-48ec-ba9f-80b2bd85d9e5"
   },
   "outputs": [
    {
     "name": "stdout",
     "output_type": "stream",
     "text": [
      "44\n"
     ]
    }
   ],
   "source": [
    "# 上記の他解答例\n",
    "\n",
    "THICKNESS = 0.00008\n",
    "folded_thickness_list = []\n",
    "folded_thickness_list.append(THICKNESS)\n",
    "\n",
    "for i in range(1,44):\n",
    "    THICKNESS *= 2\n",
    "    folded_thickness_list.append(THICKNESS)\n",
    "\n",
    "print(len(folded_thickness_list))"
   ]
  },
  {
   "cell_type": "code",
   "execution_count": 20,
   "metadata": {
    "colab": {
     "base_uri": "https://localhost:8080/",
     "height": 295
    },
    "id": "YT8H9OWyzk10",
    "outputId": "3826521f-998d-4e4d-fb2d-9e71ff6832ae"
   },
   "outputs": [
    {
     "data": {
      "image/png": "[encoded data removed]",
      "text/plain": [
       "<Figure size 432x288 with 1 Axes>"
      ]
     },
     "metadata": {
      "needs_background": "light"
     },
     "output_type": "display_data"
    }
   ],
   "source": [
    "# 【問題6】折れ線グラフの表示\n",
    "\n",
    "import matplotlib.pyplot as plt\n",
    "%matplotlib inline\n",
    "plt.title(\"thickness of folded paper\")\n",
    "plt.xlabel(\"number of folds\")\n",
    "plt.ylabel(\"thickness[m]\")\n",
    "plt.plot(folded_thickness_list) # 「リスト名」のところにリストの変数名を入れる\n",
    "plt.show()"
   ]
  },
  {
   "cell_type": "markdown",
   "metadata": {
    "id": "Z8hBm8tA0Uvw"
   },
   "source": [
    "~グラフの考察〜  上記のグラフにおいて、紙を折る回数（x軸）が37、8回を越えたあたりから、紙の厚さ（y軸）が急激に増加していることがわかる。"
   ]
  },
  {
   "cell_type": "code",
   "execution_count": 22,
   "metadata": {
    "colab": {
     "base_uri": "https://localhost:8080/",
     "height": 295
    },
    "id": "nP7UqPmV0P6t",
    "outputId": "57d072d5-f294-4e45-cbaf-7475fbf8cec8"
   },
   "outputs": [
    {
     "data": {
      "image/png": "[encoded data removed]",
      "text/plain": [
       "<Figure size 432x288 with 1 Axes>"
      ]
     },
     "metadata": {
      "needs_background": "light"
     },
     "output_type": "display_data"
    }
   ],
   "source": [
    "# 【問題7】グラフのカスタマイズ\n",
    "#グリッドを表示する\n",
    "\n",
    "plt.title(\"thickness of folded paper\")\n",
    "plt.xlabel(\"number of folds\")\n",
    "plt.ylabel(\"thickness[m]\")\n",
    "plt.plot(folded_thickness_list)\n",
    "plt.grid(True)\n",
    "plt.show()"
   ]
  },
  {
   "cell_type": "code",
   "execution_count": 23,
   "metadata": {
    "colab": {
     "base_uri": "https://localhost:8080/",
     "height": 305
    },
    "id": "FepS8RI80USN",
    "outputId": "15eb80c7-defc-4dd4-f7bb-a3f7504f9a07"
   },
   "outputs": [
    {
     "data": {
      "image/png": "[encoded data removed]",
      "text/plain": [
       "<Figure size 432x288 with 1 Axes>"
      ]
     },
     "metadata": {
      "needs_background": "light"
     },
     "output_type": "display_data"
    }
   ],
   "source": [
    "#グリッドを表示する\n",
    "#タイトルの文字の大きさを変更する\n",
    "\n",
    "plt.title(\"thickness of folded paper\", {'fontsize': 20})\n",
    "plt.xlabel(\"number of folds\", {'fontsize': 15})\n",
    "plt.ylabel(\"thickness[m]\", {'fontsize': 15})\n",
    "plt.plot(folded_thickness_list)\n",
    "plt.grid(True)\n",
    "plt.show()"
   ]
  },
  {
   "cell_type": "code",
   "execution_count": 24,
   "metadata": {
    "colab": {
     "base_uri": "https://localhost:8080/",
     "height": 381
    },
    "id": "e6imw0Fr6xCZ",
    "outputId": "8ad6b79a-3e27-4537-c05f-a71b025e1193"
   },
   "outputs": [
    {
     "data": {
      "image/png": "[encoded data removed]",
      "text/plain": [
       "<Figure size 1080x504 with 1 Axes>"
      ]
     },
     "metadata": {
      "needs_background": "light"
     },
     "output_type": "display_data"
    }
   ],
   "source": [
    "#グラフ自体の大きさを変える\n",
    "#グリッドを表示する\n",
    "#タイトルの文字の大きさを変更する\n",
    "#グラフの線をいじる\n",
    "#線のタイトルを表示する\n",
    "\n",
    "\n",
    "fig=plt.figure(figsize=(15,7)) #グラフ自体の大きさを変える\n",
    "plt.title(\"thickness of folded paper\", {'fontsize': 20})\n",
    "plt.xlabel(\"number of folds\", {'fontsize': 15})\n",
    "plt.ylabel(\"thickness[m]\", {'fontsize': 15})\n",
    "plt.plot(folded_thickness_list, color ='y', lw = '5', ls = ':', label = 'Delivered to the moon')\n",
    "plt.legend(prop={\"size\": 20}) #線のタイトルを表示する\n",
    "plt.grid(True) #グリッド線を表示する\n",
    "plt.show()"
   ]
  }
 ],
 "metadata": {
  "colab": {
   "collapsed_sections": [],
   "name": "1/7授業後 Week1授業前課題1 Pythonを使ってみよう.ipynb",
   "provenance": []
  },
  "kernelspec": {
   "display_name": "Python 3",
   "language": "python",
   "name": "python3"
  },
  "language_info": {
   "codemirror_mode": {
    "name": "ipython",
    "version": 3
   },
   "file_extension": ".py",
   "mimetype": "text/x-python",
   "name": "python",
   "nbconvert_exporter": "python",
   "pygments_lexer": "ipython3",
   "version": "3.8.5"
  }
 },
 "nbformat": 4,
 "nbformat_minor": 1
}
