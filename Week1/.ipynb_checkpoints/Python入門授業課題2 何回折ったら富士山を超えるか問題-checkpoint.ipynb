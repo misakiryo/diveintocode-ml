{
 "cells": [
  {
   "cell_type": "markdown",
   "metadata": {
    "id": "pAzhG4MNVvc1"
   },
   "source": [
    "【問題1】富士山を超える最小の折る回数\n",
    "\n",
    "\n",
    "厚さが「富士山(3776m)」を超えるのは何回紙を折った時か計算するプログラムを作成してください。"
   ]
  },
  {
   "cell_type": "code",
   "execution_count": null,
   "metadata": {
    "colab": {
     "base_uri": "https://localhost:8080/"
    },
    "id": "uTEpYLkvV3MP",
    "outputId": "1ca3aa87-daf7-4b79-99cf-c4223c5797d7"
   },
   "outputs": [
    {
     "name": "stdout",
     "output_type": "stream",
     "text": [
      "富士山3776mを越えるのは紙を26回折った時\n"
     ]
    }
   ],
   "source": [
    "#解答文を見ながら作り替えた方　元々のものも、数字は正解ではあった\n",
    "#while True という使い方をしたことがなかった\n",
    "\n",
    "THICKNESS = 0.00008\n",
    "height = 3776 \n",
    "\n",
    "folded_thickness = [THICKNESS]\n",
    "n_count = 0\n",
    "\n",
    "while True:\n",
    "  n_count += 1\n",
    "  folded_thickness.append(folded_thickness[-1]*2)\n",
    "  if folded_thickness[-1] > height:\n",
    "    break\n",
    "\n",
    "print('富士山{}mを越えるのは紙を{}回折った時'.format(height,n_count))"
   ]
  },
  {
   "cell_type": "code",
   "execution_count": null,
   "metadata": {
    "colab": {
     "base_uri": "https://localhost:8080/"
    },
    "id": "8g5HQ1DT5NGz",
    "outputId": "c3ad1387-8e44-40b5-9413-f61fb0d34183"
   },
   "outputs": [
    {
     "name": "stdout",
     "output_type": "stream",
     "text": [
      "富士山10mを越えるのは紙を4回折った時\n",
      "----------------\n",
      "リスト\n",
      "[1, 2, 4, 8, 16]\n"
     ]
    }
   ],
   "source": [
    "#問題1の確認用\n",
    "\n",
    "THICKNESS = 1\n",
    "height = 10 \n",
    "\n",
    "folded_thickness = [THICKNESS]\n",
    "n_count = 0\n",
    "\n",
    "while True:\n",
    "  n_count += 1\n",
    "  folded_thickness.append(folded_thickness[-1]*2)\n",
    "  if folded_thickness[-1] > height:\n",
    "    break\n",
    "\n",
    "print('富士山{}mを越えるのは紙を{}回折った時'.format(height,n_count))\n",
    "print('----------------')\n",
    "print('リスト')\n",
    "print(folded_thickness)"
   ]
  },
  {
   "cell_type": "code",
   "execution_count": null,
   "metadata": {
    "colab": {
     "base_uri": "https://localhost:8080/"
    },
    "id": "4Mi6JqaA52Sh",
    "outputId": "9a9f4522-4474-42fa-b4da-90064b99841e"
   },
   "outputs": [
    {
     "name": "stdout",
     "output_type": "stream",
     "text": [
      "富士山3776mを越えるのは紙を26回折った時\n"
     ]
    }
   ],
   "source": [
    "#問題1の書き方を変える\n",
    "\n",
    "THICKNESS = 0.00008\n",
    "height = 3776\n",
    "\n",
    "folded_thickness = [THICKNESS]\n",
    "n_count = 0\n",
    "\n",
    "while folded_thickness[-1] < height:\n",
    "  n_count += 1\n",
    "  folded_thickness.append(folded_thickness[-1]*2)\n",
    "  \n",
    "print('富士山{}mを越えるのは紙を{}回折った時'.format(height,n_count))\n"
   ]
  },
  {
   "cell_type": "markdown",
   "metadata": {
    "id": "96WqA5WMapqH"
   },
   "source": [
    "【問題2】任意の厚さに対応した関数を作成\n",
    "\n",
    "\n",
    "距離を入力すると、何回折った時に超えるかを出力する関数を作成してください。引数として、折る前の厚さ \n",
    "t\n",
    "0\n",
    " も設定できるようにしましょう。\n",
    "\n",
    "\n",
    "この関数を利用して、「最も近い太陽以外の恒星」に到達するには紙を何回折る必要があるか計算してください。「最も近い太陽以外の恒星」の距離は調査してください。\n",
    "\n",
    "\n"
   ]
  },
  {
   "cell_type": "code",
   "execution_count": null,
   "metadata": {
    "colab": {
     "base_uri": "https://localhost:8080/"
    },
    "id": "yAAlJTsHX8kX",
    "outputId": "0b58105f-a2d0-4e1c-df7f-c639798943f0"
   },
   "outputs": [
    {
     "name": "stdout",
     "output_type": "stream",
     "text": [
      "地球から太陽の次に近い恒星の距離を越える紙を折る回数は69回\n"
     ]
    }
   ],
   "source": [
    "#解答分見ずに作った方\n",
    "\n",
    "\n",
    "#「最も近い太陽以外の恒星」は「プロキシマ・ケンタウリ」で、距離は4.243光年\n",
    "# wikiより　→　https://ja.wikipedia.org/wiki/%E8%BF%91%E3%81%84%E6%81%92%E6%98%9F%E3%81%AE%E4%B8%80%E8%A6%A7\n",
    "\n",
    "#1光年 = 9,460,730,472,580,800[m]\n",
    "# wikiより　→ https://ja.wikipedia.org/wiki/%E5%85%89%E5%B9%B4\n",
    "\n",
    "\n",
    "\n",
    "def over_distance(count = 0, THICKNESS = 0.00008):\n",
    "  distance = 4.243 * 9460730472580800\n",
    "  \n",
    "  while THICKNESS <= distance:\n",
    "    count += 1\n",
    "    THICKNESS *= 2\n",
    "  return count\n",
    "\n",
    "print('地球から太陽の次に近い恒星の距離を越える紙を折る回数は{}回'.format(over_distance()))"
   ]
  },
  {
   "cell_type": "code",
   "execution_count": null,
   "metadata": {
    "colab": {
     "base_uri": "https://localhost:8080/"
    },
    "id": "1tkANTOE5p-G",
    "outputId": "f5588d4d-26d7-4363-dc03-fac85e0cd5fd"
   },
   "outputs": [
    {
     "name": "stdout",
     "output_type": "stream",
     "text": [
      "69回折ると4.014187939516034e+16mを越える\n"
     ]
    }
   ],
   "source": [
    "#問題2を解答見ながら写していく\n",
    "\n",
    "\n",
    "THICKNESS = 0.00008\n",
    "\n",
    "def compute_number_of_folds(elevation, thickness=0.00008): #何故thicknessを入れる？\n",
    "  \n",
    "  \"\"\"\n",
    "    何回紙を折ったら指定した距離を超えるか計算する関数\n",
    "    \n",
    "    Parameteres\n",
    "    --------------\n",
    "    elevation: int or float\n",
    "        判定したい距離。単位はメートル。\n",
    "    thickness: int or float\n",
    "        紙の厚さ。単位はメートル。(default : 0.00008)\n",
    "\n",
    "    Returns\n",
    "    --------------\n",
    "    n_folded: int\n",
    "        折る回数\n",
    "    \"\"\"\n",
    "  \n",
    "  folded_thickness_list = [thickness]\n",
    "  n_folded = 0\n",
    "  while True:\n",
    "    n_folded += 1\n",
    "    folded_thickness_list.append(folded_thickness_list[-1]*2)\n",
    "    if folded_thickness_list[-1]>elevation:\n",
    "      return n_folded\n",
    "\n",
    "#富士山で確認\n",
    "#mtfuji_elevation = 3776\n",
    "#elevation = mtfuji_elevation\n",
    "#n_folded = compute_number_of_folds(elevation, thickness=THICKNESS) #ここの行の意味が分からない\n",
    "#print(\"{}回折ると{}mを越える\".format(n_folded, elevation))\n",
    "\n",
    "#「最も近い太陽以外の恒星」は「プロキシマ・ケンタウリ」で、距離は4.243光年\n",
    "# wikiより　→　https://ja.wikipedia.org/wiki/%E8%BF%91%E3%81%84%E6%81%92%E6%98%9F%E3%81%AE%E4%B8%80%E8%A6%A7\n",
    "#1光年 = 9,460,730,472,580,800[m]\n",
    "# wikiより　→ https://ja.wikipedia.org/wiki/%E5%85%89%E5%B9%B4\n",
    "\n",
    "distance_to_the_star = 4.243 * 9460730472580800\n",
    "elevation = distance_to_the_star\n",
    "n_folded = compute_number_of_folds(elevation, thickness=THICKNESS)\n",
    "print(\"{}回折ると{}mを越える\".format(n_folded, elevation))\n",
    "\n",
    "\n"
   ]
  },
  {
   "cell_type": "markdown",
   "metadata": {
    "id": "W6I3Mhlbfpn3"
   },
   "source": [
    "【問題3】必要な紙の長さ\n",
    "\n",
    "\n",
    "実際のところ身近にある紙は43回はおろか10回も折れません。しかし、大きな紙ほどたくさん折ることができ、トイレットペーパーのような長い紙を一方向に折ることを考えた時の折れる回数を求める公式が存在します。\n",
    "\n",
    "\n",
    "厚さ \n",
    "t\n",
    "0\n",
    " の紙をn回折るために必要な紙の長さLは以下の公式で求まります。\n",
    "\n",
    "\n",
    "L\n",
    "=\n",
    "π\n",
    "t\n",
    "0\n",
    "6\n",
    "(\n",
    "2\n",
    "n\n",
    "+\n",
    "4\n",
    ")\n",
    "(\n",
    "2\n",
    "n\n",
    "−\n",
    "1\n",
    ")\n",
    "\n",
    "この公式を利用して、実際に紙を折り任意の厚さに到達するために必要な紙の長さを求める関数を作成してください。\n",
    "\n",
    "\n",
    "そしてこれを使って「月」「富士山」「最も近い太陽以外の恒星」に届くために必要な紙の長さを求めてください。"
   ]
  },
  {
   "cell_type": "code",
   "execution_count": null,
   "metadata": {
    "colab": {
     "base_uri": "https://localhost:8080/"
    },
    "id": "GDvsamDha5GD",
    "outputId": "78d10258-3c85-4756-aa4a-769ac12f2a6d"
   },
   "outputs": [
    {
     "name": "stdout",
     "output_type": "stream",
     "text": [
      "43回折ると384400000mを超え、この時3.240919444170781e+21mの紙が必要\n",
      "26回折ると3776mを超え、この時188646348487.24014mの紙が必要\n",
      "69回折ると4.014187939516034e+16mを超え、この時1.4595803601100348e+37mの紙が必要\n"
     ]
    }
   ],
   "source": [
    "#解答を見ながら写していく　#説明ができるレベルでの理解ではない1/8現在\n",
    "\n",
    "\n",
    "import math\n",
    "\n",
    "#THICKNESS = 0.00008 #無くても答えは出た\n",
    "\n",
    "def compute_paper_length(elevation, thickness=0.00008):\n",
    "  \"\"\"\n",
    "    必要な紙の長さを計算する関数\n",
    "    \n",
    "    Parameteres\n",
    "    --------------\n",
    "    elevation: int or float\n",
    "        判定したい距離。単位はメートル。\n",
    "    thickness: int or float\n",
    "        紙の厚さ。単位はメートル。(default : 0.00008)\n",
    "\n",
    "    Returns\n",
    "    --------------\n",
    "    paper_length: float\n",
    "        必要な紙の長さ。単位はメートル。\n",
    "    n_folded: int\n",
    "        折る回数\n",
    "    \"\"\"\n",
    "  n_folded = compute_number_of_folds(elevation, thickness=thickness)\n",
    "  paper_length = math.pi*thickness*(2**n_folded +4)*(2**n_folded -1)/6\n",
    "\n",
    "  return paper_length, n_folded\n",
    "  \n",
    "# 月\n",
    "distance_to_the_moon = 384400*1000 #mをわかりやすく表してる？\n",
    "elevation = distance_to_the_moon\n",
    "paper_length, n_folded = compute_paper_length(elevation, thickness=THICKNESS)\n",
    "print(\"{}回折ると{}mを超え、この時{}mの紙が必要\".format(n_folded, elevation, paper_length))\n",
    "\n",
    "# 富士山\n",
    "mtfuji_elevation = 3776\n",
    "elevation = mtfuji_elevation\n",
    "paper_length, n_folded = compute_paper_length(elevation, thickness=THICKNESS)\n",
    "print(\"{}回折ると{}mを超え、この時{}mの紙が必要\".format(n_folded, elevation, paper_length))\n",
    "\n",
    "# 最も近い太陽以外の恒星\n",
    "distance_to_the_star = 4.243*9460730472580800\n",
    "elevation = distance_to_the_star\n",
    "paper_length, n_folded = compute_paper_length(elevation, thickness=THICKNESS)\n",
    "print(\"{}回折ると{}mを超え、この時{}mの紙が必要\".format(n_folded, elevation, paper_length))\n",
    "\n",
    "\n",
    "\n",
    "\n"
   ]
  },
  {
   "cell_type": "code",
   "execution_count": null,
   "metadata": {
    "id": "4UbqKJ_NuC-O"
   },
   "outputs": [],
   "source": [
    ""
   ]
  }
 ],
 "metadata": {
  "colab": {
   "collapsed_sections": [],
   "name": "授業後 2.何回折ったら富士山を超えるか問題.ipynb",
   "provenance": []
  },
  "kernelspec": {
   "display_name": "Python 3",
   "name": "python3"
  }
 },
 "nbformat": 4,
 "nbformat_minor": 0
}
