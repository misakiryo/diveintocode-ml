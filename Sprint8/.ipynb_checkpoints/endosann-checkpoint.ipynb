{
 "cells": [
  {
   "cell_type": "markdown",
   "metadata": {},
   "source": [
    "- https://www.loom.com/share/702d8dcec4fb48a5aa477ebfc947df14\n",
    "- https://www.loom.com/share/f4a5b3f7db804805a5b17ce1ad00aaf0\n",
    "- https://www.loom.com/share/0dfac53efd6f46de8bf9adffdd408bdc\n",
    "- https://www.loom.com/share/7a67d5a06eeb4d18a13a4bdaeeb539ba\n",
    "- https://www.loom.com/share/025bcee9be514306a0fb11b7246b6354\n",
    "- https://www.loom.com/share/831760b35bda4fb69be9c462321a5194\n",
    "- https://www.loom.com/share/c227bf7e49264288ac37f7cf5c00f57b"
   ]
  },
  {
   "cell_type": "code",
   "execution_count": null,
   "metadata": {},
   "outputs": [],
   "source": []
  }
 ],
 "metadata": {
  "kernelspec": {
   "display_name": "Python 3",
   "language": "python",
   "name": "python3"
  },
  "language_info": {
   "codemirror_mode": {
    "name": "ipython",
    "version": 3
   },
   "file_extension": ".py",
   "mimetype": "text/x-python",
   "name": "python",
   "nbconvert_exporter": "python",
   "pygments_lexer": "ipython3",
   "version": "3.8.5"
  }
 },
 "nbformat": 4,
 "nbformat_minor": 4
}
